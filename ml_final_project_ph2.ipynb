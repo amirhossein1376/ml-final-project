{
  "nbformat": 4,
  "nbformat_minor": 0,
  "metadata": {
    "colab": {
      "name": "ml_final_project_ph2.ipynb",
      "provenance": [],
      "collapsed_sections": [
        "V0Fhh6Gt33h1",
        "7ZQmc0HbwRZi"
      ],
      "machine_shape": "hm",
      "authorship_tag": "ABX9TyPY339IZY17ZFiHVqJcho/m",
      "include_colab_link": true
    },
    "kernelspec": {
      "display_name": "Python 3",
      "name": "python3"
    },
    "language_info": {
      "name": "python"
    }
  },
  "cells": [
    {
      "cell_type": "markdown",
      "metadata": {
        "id": "view-in-github",
        "colab_type": "text"
      },
      "source": [
        "<a href=\"https://colab.research.google.com/github/amirhossein1376/ml-final-project/blob/main/ml_final_project_ph2.ipynb\" target=\"_parent\"><img src=\"https://colab.research.google.com/assets/colab-badge.svg\" alt=\"Open In Colab\"/></a>"
      ]
    },
    {
      "cell_type": "markdown",
      "metadata": {
        "id": "_8g2UpVIowPH"
      },
      "source": [
        "**Import Libraries**"
      ]
    },
    {
      "cell_type": "code",
      "metadata": {
        "colab": {
          "base_uri": "https://localhost:8080/"
        },
        "id": "-cQGHDn7oUj9",
        "outputId": "2f616187-0603-42ef-8314-484858f6682d"
      },
      "source": [
        "#Notebook\n",
        "from google.colab import drive\n",
        "from IPython.display import display\n",
        "\n",
        "#NLP\n",
        "import nltk\n",
        "nltk.download('punkt')\n",
        "nltk.download('stopwords')\n",
        "nltk.download('words')\n",
        "nltk.download('wordnet')\n",
        "from nltk.tokenize import word_tokenize\n",
        "from nltk.corpus import words\n",
        "from nltk.corpus import stopwords\n",
        "from nltk.stem.porter import PorterStemmer\n",
        "from nltk.stem import WordNetLemmatizer\n",
        "from bs4 import BeautifulSoup\n",
        "\n",
        "#ML\n",
        "import pandas as pd\n",
        "import numpy as np\n",
        "\n",
        "from sklearn.cluster import KMeans, MiniBatchKMeans\n",
        "from sklearn.mixture import GaussianMixture\n",
        "from sklearn.feature_extraction.text import CountVectorizer\n",
        "from sklearn.model_selection import train_test_split, GridSearchCV\n",
        "from sklearn.decomposition import PCA\n",
        "from sklearn.preprocessing import StandardScaler\n",
        "from sklearn.metrics import classification_report, confusion_matrix, accuracy_score, f1_score, plot_confusion_matrix, adjusted_rand_score, homogeneity_score\n",
        "from sklearn.neural_network import MLPClassifier\n",
        "\n",
        "import matplotlib.pyplot as plt\n",
        "import seaborn as sns\n",
        "\n",
        "import joblib\n",
        "\n",
        "#Other\n",
        "from collections import Counter\n",
        "import re\n",
        "import json\n",
        "import random\n",
        "import string"
      ],
      "execution_count": null,
      "outputs": [
        {
          "output_type": "stream",
          "text": [
            "[nltk_data] Downloading package punkt to /root/nltk_data...\n",
            "[nltk_data]   Package punkt is already up-to-date!\n",
            "[nltk_data] Downloading package stopwords to /root/nltk_data...\n",
            "[nltk_data]   Package stopwords is already up-to-date!\n",
            "[nltk_data] Downloading package words to /root/nltk_data...\n",
            "[nltk_data]   Package words is already up-to-date!\n",
            "[nltk_data] Downloading package wordnet to /root/nltk_data...\n",
            "[nltk_data]   Package wordnet is already up-to-date!\n"
          ],
          "name": "stdout"
        }
      ]
    },
    {
      "cell_type": "markdown",
      "metadata": {
        "id": "Vc9REcMvpZfP"
      },
      "source": [
        "**Mount Drive**"
      ]
    },
    {
      "cell_type": "code",
      "metadata": {
        "colab": {
          "base_uri": "https://localhost:8080/"
        },
        "id": "mTqjlGnwpY_n",
        "outputId": "1d5814dc-eb40-4f93-c8bb-10f046382fba"
      },
      "source": [
        "drive.mount('/content/gdrive')"
      ],
      "execution_count": null,
      "outputs": [
        {
          "output_type": "stream",
          "text": [
            "Mounted at /content/gdrive\n"
          ],
          "name": "stdout"
        }
      ]
    },
    {
      "cell_type": "markdown",
      "metadata": {
        "id": "d0fLn9MZp2yY"
      },
      "source": [
        "**Config**"
      ]
    },
    {
      "cell_type": "code",
      "metadata": {
        "id": "RpLuE-wIp1LW"
      },
      "source": [
        "config = {\n",
        "    \"train_dataset_path\" : \"/content/gdrive/MyDrive/ML/dataset.csv\",\n",
        "    \"train_dataset_path_2\" : \"/content/gdrive/MyDrive/ML/dataset_2.csv\",\n",
        "    \"word2vec_path\" : \"/content/gdrive/MyDrive/ML/word2vec-google-news-300.gz\",\n",
        "    \"contractions_path\" : \"/content/gdrive/MyDrive/ML/contractions.json\",\n",
        "    \"model_save_path\" : \"/content/gdrive/MyDrive/ML/models/\"\n",
        "}"
      ],
      "execution_count": null,
      "outputs": []
    },
    {
      "cell_type": "markdown",
      "metadata": {
        "id": "i-ULXv8gpEBd"
      },
      "source": [
        "**Read Data**"
      ]
    },
    {
      "cell_type": "code",
      "metadata": {
        "id": "CVVmsU1GoqUa"
      },
      "source": [
        "all_df_1 = pd.read_csv(config[\"train_dataset_path\"])"
      ],
      "execution_count": null,
      "outputs": []
    },
    {
      "cell_type": "code",
      "metadata": {
        "id": "LBVEOZfLmI7F"
      },
      "source": [
        "with open(config[\"contractions_path\"]) as f:\n",
        "    english_contractions = dict(json.load(f).items())\n",
        "    contractions_re = re.compile('(%s)' % '|'.join(english_contractions.keys()))"
      ],
      "execution_count": null,
      "outputs": []
    },
    {
      "cell_type": "markdown",
      "metadata": {
        "id": "IBC1E3SGAXH_"
      },
      "source": [
        "**Convert Labels To Binary Numbers**"
      ]
    },
    {
      "cell_type": "code",
      "metadata": {
        "id": "d4vgU3UgvF3_"
      },
      "source": [
        "all_df_1['sentiment'] = all_df_1['sentiment'].apply(lambda x : 0 if x==\"negative\" else 1)"
      ],
      "execution_count": null,
      "outputs": []
    },
    {
      "cell_type": "code",
      "metadata": {
        "colab": {
          "base_uri": "https://localhost:8080/",
          "height": 202
        },
        "id": "IY4XKT84tZD3",
        "outputId": "e86d2242-d53a-4fa2-ed78-4b3da4980731"
      },
      "source": [
        "all_df_1.head()"
      ],
      "execution_count": null,
      "outputs": [
        {
          "output_type": "execute_result",
          "data": {
            "text/html": [
              "<div>\n",
              "<style scoped>\n",
              "    .dataframe tbody tr th:only-of-type {\n",
              "        vertical-align: middle;\n",
              "    }\n",
              "\n",
              "    .dataframe tbody tr th {\n",
              "        vertical-align: top;\n",
              "    }\n",
              "\n",
              "    .dataframe thead th {\n",
              "        text-align: right;\n",
              "    }\n",
              "</style>\n",
              "<table border=\"1\" class=\"dataframe\">\n",
              "  <thead>\n",
              "    <tr style=\"text-align: right;\">\n",
              "      <th></th>\n",
              "      <th>comment</th>\n",
              "      <th>sentiment</th>\n",
              "    </tr>\n",
              "  </thead>\n",
              "  <tbody>\n",
              "    <tr>\n",
              "      <th>0</th>\n",
              "      <td>Oh my god, it just doesn't get any worse than ...</td>\n",
              "      <td>0</td>\n",
              "    </tr>\n",
              "    <tr>\n",
              "      <th>1</th>\n",
              "      <td>If you're a layman interested in quantum theor...</td>\n",
              "      <td>0</td>\n",
              "    </tr>\n",
              "    <tr>\n",
              "      <th>2</th>\n",
              "      <td>It's amazing that this no talent actor Chapa g...</td>\n",
              "      <td>0</td>\n",
              "    </tr>\n",
              "    <tr>\n",
              "      <th>3</th>\n",
              "      <td>This must be one of the most overrated Spanish...</td>\n",
              "      <td>0</td>\n",
              "    </tr>\n",
              "    <tr>\n",
              "      <th>4</th>\n",
              "      <td>Some critics have compared Chop Shop with the ...</td>\n",
              "      <td>1</td>\n",
              "    </tr>\n",
              "  </tbody>\n",
              "</table>\n",
              "</div>"
            ],
            "text/plain": [
              "                                             comment  sentiment\n",
              "0  Oh my god, it just doesn't get any worse than ...          0\n",
              "1  If you're a layman interested in quantum theor...          0\n",
              "2  It's amazing that this no talent actor Chapa g...          0\n",
              "3  This must be one of the most overrated Spanish...          0\n",
              "4  Some critics have compared Chop Shop with the ...          1"
            ]
          },
          "metadata": {
            "tags": []
          },
          "execution_count": 8
        }
      ]
    },
    {
      "cell_type": "markdown",
      "metadata": {
        "id": "bNdJOoyuB0t_"
      },
      "source": [
        "**Preprocessing**"
      ]
    },
    {
      "cell_type": "code",
      "metadata": {
        "id": "_R5sv83KqNlG"
      },
      "source": [
        "class PreprocessorType:\n",
        "    WITHOUT_PREPROCESSING = 0\n",
        "    ELEMENTARY_PREPROCESSING = 1\n",
        "    ADVANCED_PREPROCESSING = 2\n",
        "\n",
        "    def get_name(t):\n",
        "        if t == PreprocessorType.WITHOUT_PREPROCESSING:\n",
        "            return \"Without Preprocessing\"\n",
        "        elif t == PreprocessorType.ELEMENTARY_PREPROCESSING:\n",
        "            return \"Elementary Preprocessing\"\n",
        "        elif t == PreprocessorType.ADVANCED_PREPROCESSING:\n",
        "            return \"Advanced Preprocessing\"\n",
        "    \n",
        "class Preprocessor:\n",
        "\n",
        "    def __init__(self, preprocess_type):\n",
        "        self.preprocess_type = preprocess_type\n",
        "        self.stop_words = stopwords.words('english')\n",
        "        self.porter = PorterStemmer()\n",
        "        self.lemmatizer = WordNetLemmatizer()\n",
        "\n",
        "    def process_with_elementary_preprocessing(self):\n",
        "        self.data = self.data.apply(lambda x: x.lower())\n",
        "        self.data = self.data.apply(lambda x: re.sub('[%s]' % re.escape(string.punctuation), '' , x))\n",
        "        self.data = self.data.apply(lambda x : word_tokenize(x))\n",
        "        self.data = self.data.apply(lambda tkns : [word for word in tkns if word.isalpha()])\n",
        "        \n",
        "    def process_with_advanced_preprocessing(self, without_stem_lemma):\n",
        "        self.data = self.data.apply(lambda txt : BeautifulSoup(txt, \"lxml\").text)\n",
        "        self.data = self.data.apply(lambda txt : contractions_re.sub(lambda match : english_contractions[match.group(0)], txt))\n",
        "            \n",
        "        self.data = self.data.apply(lambda x: re.sub(r'[\\w.+-]+@[\\w-]+\\.[\\w.-]+', 'EMAIL_ADD',x))\n",
        "        self.data = self.data.apply(lambda x: re.sub(r\"(?i)\\b((?:https?://|www\\d{0,3}[.]|[a-z0-9.\\-]+[.][a-z]{2,4}/)(?:[^\\s()<>]+|\\(([^\\s()<>]+|(\\([^\\s()<>]+\\)))*\\))+(?:\\(([^\\s()<>]+|(\\([^\\s()<>]+\\)))*\\)|[^\\s`!()\\[\\]{};:'\\\".,<>?«»“”‘’]))\", 'URL_ADD', x))\n",
        "\n",
        "        self.process_with_elementary_preprocessing()\n",
        "\n",
        "        if without_stem_lemma:\n",
        "            self.data = self.data.apply(lambda tkns : [word for word in tkns if word not in self.stop_words])            \n",
        "        else:\n",
        "            self.data = self.data.apply(lambda tkns : [self.porter.stem(self.lemmatizer.lemmatize(word)) for word in tkns if word not in self.stop_words])            \n",
        "    def process(self, data, without_stem_lemma=False):\n",
        "        self.data = data.copy()\n",
        "        \n",
        "        if self.preprocess_type == PreprocessorType.ADVANCED_PREPROCESSING:\n",
        "            self.process_with_advanced_preprocessing(without_stem_lemma)\n",
        "            self.data = self.data.apply(lambda tkns : ' '.join(tkns))\n",
        "\n",
        "        elif self.preprocess_type == PreprocessorType.ELEMENTARY_PREPROCESSING:\n",
        "            self.process_with_elementary_preprocessing()\n",
        "            self.data = self.data.apply(lambda tkns : ' '.join(tkns))\n",
        "\n",
        "        return self.data"
      ],
      "execution_count": null,
      "outputs": []
    },
    {
      "cell_type": "code",
      "metadata": {
        "id": "Z0G9x5Cn0x5y"
      },
      "source": [
        "class Model:\n",
        "    MLP = 4\n",
        "\n",
        "    def get_name(m):\n",
        "        if m == Model.MLP:\n",
        "            return \"Multi Layer Perceptron\"\n",
        "            \n",
        "def show_grid_res(grid):\n",
        "    res = pd.DataFrame(grid.cv_results_)\n",
        "    res = res.filter(regex='param_.*|mean_test_score|rank_test_score').sort_values('rank_test_score')\n",
        "    return res\n",
        "\n",
        "def analysis(labels, predictions):\n",
        "    print(\"Classification Report : \\n\", classification_report(labels, predictions, target_names=[\"negative\", \"positive\"]))\n",
        "    print(\"Confusion Matrix : \\n\", confusion_matrix(labels, predictions))\n",
        "    print(\"Accuracy : \\n\", accuracy_score(labels, predictions))\n",
        "    print(\"F1 : \\n\", f1_score(labels, predictions))"
      ],
      "execution_count": null,
      "outputs": []
    },
    {
      "cell_type": "markdown",
      "metadata": {
        "id": "V0Fhh6Gt33h1"
      },
      "source": [
        "# **1 (Clustering)**"
      ]
    },
    {
      "cell_type": "markdown",
      "metadata": {
        "id": "9beTse3ZvKTu"
      },
      "source": [
        "Prepare data to feed into MLP"
      ]
    },
    {
      "cell_type": "code",
      "metadata": {
        "id": "fgzPkvVZRlF5"
      },
      "source": [
        "preprocessor = Preprocessor(PreprocessorType.ADVANCED_PREPROCESSING)\n",
        "current_df_1 = all_df_1.copy()\n",
        "current_df_1[\"comment\"] = preprocessor.process(current_df_1[\"comment\"])"
      ],
      "execution_count": null,
      "outputs": []
    },
    {
      "cell_type": "code",
      "metadata": {
        "colab": {
          "base_uri": "https://localhost:8080/"
        },
        "id": "IP_Dy8GlgM7D",
        "outputId": "4abf5851-1869-4152-9306-04b7baac22e8"
      },
      "source": [
        "train_df_1 , test_df_1 = train_test_split(current_df_1, test_size=0.1, random_state=42)\n",
        "\n",
        "vectorizer_1 = CountVectorizer(lowercase=False, min_df=10, token_pattern=r\"[^\\s]+\")\n",
        "vectorizer_1.fit(train_df_1[\"comment\"].tolist())"
      ],
      "execution_count": null,
      "outputs": [
        {
          "output_type": "execute_result",
          "data": {
            "text/plain": [
              "CountVectorizer(analyzer='word', binary=False, decode_error='strict',\n",
              "                dtype=<class 'numpy.int64'>, encoding='utf-8', input='content',\n",
              "                lowercase=False, max_df=1.0, max_features=None, min_df=10,\n",
              "                ngram_range=(1, 1), preprocessor=None, stop_words=None,\n",
              "                strip_accents=None, token_pattern='[^\\\\s]+', tokenizer=None,\n",
              "                vocabulary=None)"
            ]
          },
          "metadata": {
            "tags": []
          },
          "execution_count": 12
        }
      ]
    },
    {
      "cell_type": "markdown",
      "metadata": {
        "id": "1o3DuMwkv6ea"
      },
      "source": [
        "Load MLP Model From First Phase"
      ]
    },
    {
      "cell_type": "code",
      "metadata": {
        "id": "I9xjW23hfxf7"
      },
      "source": [
        "mlp = joblib.load(config[\"model_save_path\"] + 'best.pkl')"
      ],
      "execution_count": null,
      "outputs": []
    },
    {
      "cell_type": "markdown",
      "metadata": {
        "id": "TXxIkSoRvqps"
      },
      "source": [
        "Calculate MLP Last Layer Output Values"
      ]
    },
    {
      "cell_type": "code",
      "metadata": {
        "id": "v9KKSu24gYhV"
      },
      "source": [
        "true_labels = current_df_1[\"sentiment\"]\n",
        "X_all = vectorizer_1.transform(current_df_1[\"comment\"])"
      ],
      "execution_count": null,
      "outputs": []
    },
    {
      "cell_type": "code",
      "metadata": {
        "id": "IpulsA1x56TE"
      },
      "source": [
        "hidden_layer_sizes = mlp.hidden_layer_sizes\n",
        "current_outputs = np.maximum(X_all.dot(mlp.coefs_[0]), 0)\n",
        "for item in mlp.coefs_[1:-1]:\n",
        "    current_outputs = np.maximum(np.dot(current_outputs, item), 0)"
      ],
      "execution_count": null,
      "outputs": []
    },
    {
      "cell_type": "code",
      "metadata": {
        "id": "jvPgGyKrvU6v"
      },
      "source": [
        "data_std = StandardScaler().fit_transform(current_outputs)\n",
        "pca = PCA(n_components=2)\n",
        "principalComponents = pca.fit_transform(data_std)"
      ],
      "execution_count": null,
      "outputs": []
    },
    {
      "cell_type": "code",
      "metadata": {
        "colab": {
          "base_uri": "https://localhost:8080/",
          "height": 283
        },
        "id": "wEC3Rpw_ON_2",
        "outputId": "95df94c7-06e9-4710-9e79-93c88288fc18"
      },
      "source": [
        "sns.scatterplot(x=principalComponents[:, 0], y=principalComponents[:, 1])"
      ],
      "execution_count": null,
      "outputs": [
        {
          "output_type": "execute_result",
          "data": {
            "text/plain": [
              "<matplotlib.axes._subplots.AxesSubplot at 0x7fd57f40da10>"
            ]
          },
          "metadata": {
            "tags": []
          },
          "execution_count": 201
        },
        {
          "output_type": "display_data",
          "data": {
            "image/png": "[encoded data removed]",
            "text/plain": [
              "<Figure size 432x288 with 1 Axes>"
            ]
          },
          "metadata": {
            "tags": [],
            "needs_background": "light"
          }
        }
      ]
    },
    {
      "cell_type": "code",
      "metadata": {
        "id": "wonTXqsFvDm_"
      },
      "source": [
        "def draw(PCA_components, labels, algo):\n",
        "   sns.scatterplot(x=PCA_components[:, 0], y=PCA_components[:, 1], hue=labels).set(title=f'{algo}\\n Homogeneity Score: {homogeneity_score(true_labels, labels)}\\n Rand Score: {adjusted_rand_score(true_labels, labels)}')"
      ],
      "execution_count": null,
      "outputs": []
    },
    {
      "cell_type": "markdown",
      "metadata": {
        "id": "7ZQmc0HbwRZi"
      },
      "source": [
        "### **Kmeans with 2 and 3 clusters**"
      ]
    },
    {
      "cell_type": "code",
      "metadata": {
        "id": "7PCFXBivUvd0"
      },
      "source": [
        "kmeans_2_labels = KMeans(n_clusters=2, random_state=0).fit_predict(current_outputs)"
      ],
      "execution_count": null,
      "outputs": []
    },
    {
      "cell_type": "code",
      "metadata": {
        "colab": {
          "base_uri": "https://localhost:8080/",
          "height": 311
        },
        "id": "sXTzxxfBxAXL",
        "outputId": "5c096491-4156-4e03-f539-c1ea6245d0ba"
      },
      "source": [
        "draw(principalComponents, kmeans_2_labels, \" K Means\")"
      ],
      "execution_count": null,
      "outputs": [
        {
          "output_type": "display_data",
          "data": {
            "image/png": "[encoded data removed]",
            "text/plain": [
              "<Figure size 432x288 with 1 Axes>"
            ]
          },
          "metadata": {
            "tags": [],
            "needs_background": "light"
          }
        }
      ]
    },
    {
      "cell_type": "code",
      "metadata": {
        "id": "Y9UCT6FqtbcU"
      },
      "source": [
        "kmeans_3_labels = KMeans(n_clusters=3, random_state=0).fit_predict(current_outputs)"
      ],
      "execution_count": null,
      "outputs": []
    },
    {
      "cell_type": "code",
      "metadata": {
        "colab": {
          "base_uri": "https://localhost:8080/",
          "height": 311
        },
        "id": "Wb-n9i0-xHIM",
        "outputId": "c06258a1-a491-442a-a5bc-a385e0da3008"
      },
      "source": [
        "draw(principalComponents, kmeans_3_labels, \" K Means\")"
      ],
      "execution_count": null,
      "outputs": [
        {
          "output_type": "display_data",
          "data": {
            "image/png": "[encoded data removed]",
            "text/plain": [
              "<Figure size 432x288 with 1 Axes>"
            ]
          },
          "metadata": {
            "tags": [],
            "needs_background": "light"
          }
        }
      ]
    },
    {
      "cell_type": "markdown",
      "metadata": {
        "id": "4h2y9IqNwosj"
      },
      "source": [
        "### **Minibatch Kmeans with 2 and 3 clusters**"
      ]
    },
    {
      "cell_type": "code",
      "metadata": {
        "id": "rI-u3Noqf0r3"
      },
      "source": [
        "mk_2_labels = MiniBatchKMeans(n_clusters=2).fit_predict(current_outputs)"
      ],
      "execution_count": null,
      "outputs": []
    },
    {
      "cell_type": "code",
      "metadata": {
        "colab": {
          "base_uri": "https://localhost:8080/",
          "height": 311
        },
        "id": "6E2eRfgexJJA",
        "outputId": "563a6c89-de28-4e5b-a123-5dfb21390a61"
      },
      "source": [
        "draw(principalComponents, mk_2_labels, \" MiniBatch KMeans\")"
      ],
      "execution_count": null,
      "outputs": [
        {
          "output_type": "display_data",
          "data": {
            "image/png": "[encoded data removed]",
            "text/plain": [
              "<Figure size 432x288 with 1 Axes>"
            ]
          },
          "metadata": {
            "tags": [],
            "needs_background": "light"
          }
        }
      ]
    },
    {
      "cell_type": "code",
      "metadata": {
        "id": "MeFsWH1ugUUc"
      },
      "source": [
        "mk_3_labels = MiniBatchKMeans(n_clusters=3).fit_predict(current_outputs)"
      ],
      "execution_count": null,
      "outputs": []
    },
    {
      "cell_type": "code",
      "metadata": {
        "colab": {
          "base_uri": "https://localhost:8080/",
          "height": 311
        },
        "id": "PMnbn_NlxMSr",
        "outputId": "69b64a1e-39f4-4269-b1ee-0501820625bd"
      },
      "source": [
        "draw(principalComponents, mk_3_labels, \" MiniBatch KMeans\")"
      ],
      "execution_count": null,
      "outputs": [
        {
          "output_type": "display_data",
          "data": {
            "image/png": "[encoded data removed]",
            "text/plain": [
              "<Figure size 432x288 with 1 Axes>"
            ]
          },
          "metadata": {
            "tags": [],
            "needs_background": "light"
          }
        }
      ]
    },
    {
      "cell_type": "markdown",
      "metadata": {
        "id": "AZu1hqtOwtMx"
      },
      "source": [
        "### **Gaussian Mixture Model with 2 and 3 clusters**"
      ]
    },
    {
      "cell_type": "code",
      "metadata": {
        "id": "jq7LytJDkuaG"
      },
      "source": [
        "gm_2_labels = GaussianMixture(n_components=2, random_state=0).fit_predict(current_outputs)"
      ],
      "execution_count": null,
      "outputs": []
    },
    {
      "cell_type": "code",
      "metadata": {
        "colab": {
          "base_uri": "https://localhost:8080/",
          "height": 311
        },
        "id": "-u7ZXFp2xNlh",
        "outputId": "1e07a912-f4d0-4546-a9c5-6a3b85205fb2"
      },
      "source": [
        "draw(principalComponents, gm_2_labels, \" Gaussian Mixture\")"
      ],
      "execution_count": null,
      "outputs": [
        {
          "output_type": "display_data",
          "data": {
            "image/png": "[encoded data removed]",
            "text/plain": [
              "<Figure size 432x288 with 1 Axes>"
            ]
          },
          "metadata": {
            "tags": [],
            "needs_background": "light"
          }
        }
      ]
    },
    {
      "cell_type": "code",
      "metadata": {
        "id": "H5kiyF8ylAdC"
      },
      "source": [
        "gm_3_labels = GaussianMixture(n_components=3, random_state=0).fit_predict(current_outputs)"
      ],
      "execution_count": null,
      "outputs": []
    },
    {
      "cell_type": "code",
      "metadata": {
        "colab": {
          "base_uri": "https://localhost:8080/",
          "height": 311
        },
        "id": "akRUiZ58lOT1",
        "outputId": "7cd623c8-99f3-43e6-d116-1bf5d3ef7c2b"
      },
      "source": [
        "draw(principalComponents, gm_3_labels, \" Gaussian Mixture\")"
      ],
      "execution_count": null,
      "outputs": [
        {
          "output_type": "display_data",
          "data": {
            "image/png": "[encoded data removed]",
            "text/plain": [
              "<Figure size 432x288 with 1 Axes>"
            ]
          },
          "metadata": {
            "tags": [],
            "needs_background": "light"
          }
        }
      ]
    },
    {
      "cell_type": "markdown",
      "metadata": {
        "id": "jy1leiBFTCGS"
      },
      "source": [
        "**Generate samples from each cluster in minibatch k means algorithm**"
      ]
    },
    {
      "cell_type": "code",
      "metadata": {
        "colab": {
          "base_uri": "https://localhost:8080/"
        },
        "id": "o3x20AMkTBuh",
        "outputId": "44f3a50e-0504-4f85-c49f-fadd338e0e42"
      },
      "source": [
        "indices = [np.where(mk_3_labels == 0), np.where(mk_3_labels == 1), np.where(mk_3_labels == 2)]\n",
        "for idx, label in enumerate(indices):\n",
        "    print(f\"\\n****   CLASS:{idx}   *******\")\n",
        "    print(all_df_1.iloc[random.choice(label[0])][\"comment\"])\n",
        "    print(\"****\")\n",
        "    print(all_df_1.iloc[random.choice(label[0])][\"comment\"])"
      ],
      "execution_count": null,
      "outputs": [
        {
          "output_type": "stream",
          "text": [
            "\n",
            "****   CLASS:0   *******\n",
            "First, let me make it clear that I'm a big fan of bad sci-fi, especially when it involves gigantic, city-stomping monsters. But this one is so fantastically lame that I can't even like it for being bad. They apparently didn't shave enough money off the budget by skimping on the props (the only prop we have to indicate the size of the alien girl is an oversized novelty pencil, available at Spencer's Gifts for about fifteen bucks), they also decided not to outlay for concept or plot. The monster DOES look okay, in my opinion, but it doesn't have enough interaction with the backgrounds, i.e. not enough destruction to suit most fans of the genre. The general rule of giant monster movies is: If you don't have a lot of fake-looking buildings to smash, then you'd better have another fake-looking monster to wrestle with. This movie has neither. I can't make my final complaint about the movie without giving away the ending, but suffice to say the origin of the monster, and the method found to get rid of it, just don't hold water. Not even as well as most of these movies. Skip it.\n",
            "****\n",
            "This show had pretty good stories, but bad dialog. The main character was especially annoying. It's quite obvious why this show was canceled, although, like most UPN shows, I never knew it even existed until it was in syndicated re-runs.<br /><br />Most of it's plots seemed to be copied from other shows and movies, leading me to think the producers didn't have an original idea in their heads. <br /><br />I haven't commented enough. You've got to have at least ten lines of text. The special effect were not bad for a 2001 show.<br /><br />The gnome was a nice character.\n",
            "\n",
            "****   CLASS:1   *******\n",
            "When I sat down to watch 'Largo Winch' I expected nothing more than action scenes and fascinating cars. When I stood up, I've seen both of these; and more.<br /><br />Karl Roden was finally not the antagonist in a movie, to start with. Kristin Scott Thomas played her role well, but the real two stars in my opinion were Tomer Sisley and Miki Manojlovic, both acting superbly. In Radivoje Bukvic portrayed Goran well.<br /><br />The mixed linguistics brought a nice color to the movie, but I understand why people would get bored with it.<br /><br />The scenery of Hong Kong and especially the stunning Croatian seaside both amazed me, and I hardly wanted to take my eyes off the screen when Largo entered the unbelievably beautiful island.<br /><br />Rolls Royce Phantom; Mercedes S500, and BMW 7; if anyone loves expensive limousine - type cars; this is their movie. It is also a movie for people who love action sequences, good acting, landscapes of extremal beauty, and above all, a fast - paced, well written action movie, with dazzling combat and a thoroughly twined inner drama.<br /><br />My vote, as it has enlightened a gloomy day is: 10/10\n",
            "****\n",
            "SPOILERS CONTAINED IN ORDER TO MAKE A OBSERVATION.<br /><br />Twenty years on from 1984, this film speaks loads about Prince's future in the music industry.<br /><br />There is a scene that sums up Prince's musical output of the last 10 years perfectly, which is if you took the best two songs off his last 10 albums you would have one fantastic album!<br /><br />The scene plays like this. Prince runs off to his dressing room after playing one song and the owner of the club enters the dressing room to give Prince an earful about his fall from grace during the 90's and putting out albums that only the most hardcore fans would be able to tolerate and support his artistry.<br /><br />Club owner- \"You're not packing them like you used to. The only person that digs your music is yourself!\"<br /><br />Spooky huh! How about the musical underscore which makes Prince even more evil when he smacks Apollonia to the ground in two separate scenes! It gave me chills that that was not the only scene women where mistreated in this film.<br /><br />I'm all for the comedy sparring's between Morris Day and Jerome Benton as these two stole every scene they were in. But what was funny about throwing a woman into a trash can? That was plain nasty! The other nasty bit was the chalk outline of Prince's father on the floor thoughtfully provided by the Minnieapolis police, which causes Prince to go even more loony!! FANTASTIC!!<br /><br />Purple Rain is an entertaining film overall, as it is the soundtrack of Prince songs that boosts it's value by 110%. But then again the film gives us another theory on Prince and his music, as the film tells us that Prince's biggest song of the film is written by Wendy, lisa and Princes wife beating musical father!<br /><br />Are Prince and the filmmakers trying to tell us that Prince stole all his best songs from his father after finding his fathers music sheets of written songs? Maybe that is why Prince started to run out of steam during the 90's because he ran out of his fathers ideas???...........Hmmmm.....\n",
            "\n",
            "****   CLASS:2   *******\n",
            "First off, let it be known that I came into this movie not for the music; actually I find it repugnant. Really, I was interested in the psychology of the punk subculture. On this point, the documentary did fairly well. One disagreeable aspect was the numerous scenes in which songs are played and the hyped-up band and belligerent crowd are shown running amok. If you've seen the first such scene, you've seen them all. This superfluity is party made up for by printing lyrics for some of the songs. With these, the audience is able to somewhat connect mentally with the band. The lyrics are of far more interest than the jumble of sounds projecting from the speakers. I don't know why all the lyrics were not printed. Scenes without lyrics slow (ironic eh?, given the many references to the speed of the music) the flow of the movie. Also insightful were the interviews with fans and bands, though there is a letdown when the latter band's interviews prove to be not nearly as enthralling or humorous as the first two. Overall, a good movie that I'm glad I saw. I'll check out the follow-ups if I ever get a chance.<br /><br />Favorite quote: He tried to hide the fact that he couldn't play by rubbing peanut butter over himself and breaking glass. <br /><br />Broad punk generalization: Though their disgracefulness, lack of vocabulary and hygiene, and drug-induced obliviousness is often hilarious, in the end it is understood that punks are just pathetic juveniles who rebel just for the sake of rebellion as seen through sophomoric lyrics and naive attempts to philosophize and politicize (disregarding Black Flag, who are slightly less misguided than their peers).\n",
            "****\n",
            "I have watched this movie countless times, and never failed to be charmed by it's homely simplicity, sincerity and goodness. Great characterizations by all of the cast, and the lovely little steam trains that play a such an important supporting role.I confess I fell in love with Roberta in 1970, and she still touches me today. Shown on TV in New Zealand on Christmas day, the nicest present I could have had.\n"
          ],
          "name": "stdout"
        }
      ]
    },
    {
      "cell_type": "markdown",
      "metadata": {
        "id": "-tSrYLyvxHKu"
      },
      "source": [
        "# **2 (Fine Tuning)**\n"
      ]
    },
    {
      "cell_type": "markdown",
      "metadata": {
        "id": "EYJrL2JEzxCH"
      },
      "source": [
        "### **A (MLP)**"
      ]
    },
    {
      "cell_type": "markdown",
      "metadata": {
        "id": "sZo-E9egxRvK"
      },
      "source": [
        "**Read Second Dataset**"
      ]
    },
    {
      "cell_type": "code",
      "metadata": {
        "id": "dzGboF5coyjO"
      },
      "source": [
        "all_df_2 = pd.read_csv(config[\"train_dataset_path_2\"])"
      ],
      "execution_count": null,
      "outputs": []
    },
    {
      "cell_type": "code",
      "metadata": {
        "colab": {
          "base_uri": "https://localhost:8080/",
          "height": 202
        },
        "id": "xECw_5y1oyjh",
        "outputId": "b94462d8-2ebd-4e5c-a801-a40a0d1741ba"
      },
      "source": [
        "all_df_2.head()"
      ],
      "execution_count": null,
      "outputs": [
        {
          "output_type": "execute_result",
          "data": {
            "text/html": [
              "<div>\n",
              "<style scoped>\n",
              "    .dataframe tbody tr th:only-of-type {\n",
              "        vertical-align: middle;\n",
              "    }\n",
              "\n",
              "    .dataframe tbody tr th {\n",
              "        vertical-align: top;\n",
              "    }\n",
              "\n",
              "    .dataframe thead th {\n",
              "        text-align: right;\n",
              "    }\n",
              "</style>\n",
              "<table border=\"1\" class=\"dataframe\">\n",
              "  <thead>\n",
              "    <tr style=\"text-align: right;\">\n",
              "      <th></th>\n",
              "      <th>comment</th>\n",
              "      <th>sentiment</th>\n",
              "    </tr>\n",
              "  </thead>\n",
              "  <tbody>\n",
              "    <tr>\n",
              "      <th>0</th>\n",
              "      <td>This is bad..: It has every cliched \"gang\",\"ba...</td>\n",
              "      <td>0</td>\n",
              "    </tr>\n",
              "    <tr>\n",
              "      <th>1</th>\n",
              "      <td>It's his training day.: I saw this movie on tv...</td>\n",
              "      <td>0</td>\n",
              "    </tr>\n",
              "    <tr>\n",
              "      <th>2</th>\n",
              "      <td>The most mundane cliched junk I've seen in a l...</td>\n",
              "      <td>0</td>\n",
              "    </tr>\n",
              "    <tr>\n",
              "      <th>3</th>\n",
              "      <td>(;D): The headline summarizes the movie! Denze...</td>\n",
              "      <td>1</td>\n",
              "    </tr>\n",
              "    <tr>\n",
              "      <th>4</th>\n",
              "      <td>Too much unbelievability: Denzel is a great ac...</td>\n",
              "      <td>0</td>\n",
              "    </tr>\n",
              "  </tbody>\n",
              "</table>\n",
              "</div>"
            ],
            "text/plain": [
              "                                             comment  sentiment\n",
              "0  This is bad..: It has every cliched \"gang\",\"ba...          0\n",
              "1  It's his training day.: I saw this movie on tv...          0\n",
              "2  The most mundane cliched junk I've seen in a l...          0\n",
              "3  (;D): The headline summarizes the movie! Denze...          1\n",
              "4  Too much unbelievability: Denzel is a great ac...          0"
            ]
          },
          "metadata": {
            "tags": []
          },
          "execution_count": 37
        }
      ]
    },
    {
      "cell_type": "markdown",
      "metadata": {
        "id": "RzKHzT-NxWgo"
      },
      "source": [
        "**Preprocess Second Dataset**"
      ]
    },
    {
      "cell_type": "code",
      "metadata": {
        "id": "ZfGfFzkXo9wp"
      },
      "source": [
        "preprocessor = Preprocessor(PreprocessorType.WITHOUT_PREPROCESSING)\n",
        "current_df_2 = all_df_2.copy()\n",
        "current_df_2[\"comment\"] = preprocessor.process(current_df_2[\"comment\"])"
      ],
      "execution_count": null,
      "outputs": []
    },
    {
      "cell_type": "markdown",
      "metadata": {
        "id": "335iRiRmxaSI"
      },
      "source": [
        "**Split Second Dataset to Train and Test sets**"
      ]
    },
    {
      "cell_type": "code",
      "metadata": {
        "id": "HthnKR8YpKNT"
      },
      "source": [
        "train_df_2 , test_df_2 = train_test_split(current_df_2, test_size=0.05, random_state=42)\n",
        "\n",
        "vectorizer_2 = CountVectorizer(lowercase=False, min_df=1, token_pattern=r\"[^\\s]+\")\n",
        "vectorizer_2.fit(train_df_2[\"comment\"].tolist())\n",
        "\n",
        "X_train_2 = vectorizer_2.transform(train_df_2[\"comment\"])\n",
        "y_train_2 = train_df_2[\"sentiment\"].tolist()\n",
        "X_test_2 = vectorizer_2.transform(test_df_2[\"comment\"])\n",
        "y_test_2 = test_df_2[\"sentiment\"].tolist()"
      ],
      "execution_count": null,
      "outputs": []
    },
    {
      "cell_type": "markdown",
      "metadata": {
        "id": "73UqebFtxl_D"
      },
      "source": [
        "**Apply MLP Model On Second Dataset**"
      ]
    },
    {
      "cell_type": "code",
      "metadata": {
        "id": "aOLIU1bPqF7Y"
      },
      "source": [
        "settings = {\n",
        "    Model.MLP : {\n",
        "        \"hidden_layer_sizes\" : [(100, 100), (100, 200, 50), (450, 100, 50), (400, 500, 400, 200, 100, 50)]\n",
        "    }\n",
        "}"
      ],
      "execution_count": null,
      "outputs": []
    },
    {
      "cell_type": "code",
      "metadata": {
        "colab": {
          "base_uri": "https://localhost:8080/"
        },
        "id": "hv-zrjN6pyI-",
        "outputId": "200173c3-5498-4837-f28f-a252cba6718b"
      },
      "source": [
        "grid_d2v_mlp = GridSearchCV(MLPClassifier(max_iter=2000),settings[Model.MLP],scoring='accuracy',n_jobs=-1, verbose=3)\n",
        "grid_d2v_mlp.fit(X_train_2, y_train_2)"
      ],
      "execution_count": null,
      "outputs": [
        {
          "output_type": "stream",
          "text": [
            "Fitting 5 folds for each of 4 candidates, totalling 20 fits\n"
          ],
          "name": "stdout"
        },
        {
          "output_type": "stream",
          "text": [
            "[Parallel(n_jobs=-1)]: Using backend LokyBackend with 4 concurrent workers.\n",
            "[Parallel(n_jobs=-1)]: Done  20 out of  20 | elapsed:   32.3s remaining:    0.0s\n",
            "[Parallel(n_jobs=-1)]: Done  20 out of  20 | elapsed:   32.3s finished\n"
          ],
          "name": "stderr"
        }
      ]
    },
    {
      "cell_type": "code",
      "metadata": {
        "colab": {
          "base_uri": "https://localhost:8080/",
          "height": 171
        },
        "id": "RVDZGx4bqH59",
        "outputId": "ec978979-87c4-4dcb-f2a2-fe3f82b20e46"
      },
      "source": [
        "show_grid_res(grid_d2v_mlp)"
      ],
      "execution_count": null,
      "outputs": [
        {
          "output_type": "execute_result",
          "data": {
            "text/html": [
              "<div>\n",
              "<style scoped>\n",
              "    .dataframe tbody tr th:only-of-type {\n",
              "        vertical-align: middle;\n",
              "    }\n",
              "\n",
              "    .dataframe tbody tr th {\n",
              "        vertical-align: top;\n",
              "    }\n",
              "\n",
              "    .dataframe thead th {\n",
              "        text-align: right;\n",
              "    }\n",
              "</style>\n",
              "<table border=\"1\" class=\"dataframe\">\n",
              "  <thead>\n",
              "    <tr style=\"text-align: right;\">\n",
              "      <th></th>\n",
              "      <th>param_hidden_layer_sizes</th>\n",
              "      <th>mean_test_score</th>\n",
              "      <th>rank_test_score</th>\n",
              "    </tr>\n",
              "  </thead>\n",
              "  <tbody>\n",
              "    <tr>\n",
              "      <th>0</th>\n",
              "      <td>(100, 100)</td>\n",
              "      <td>0.810526</td>\n",
              "      <td>1</td>\n",
              "    </tr>\n",
              "    <tr>\n",
              "      <th>2</th>\n",
              "      <td>(450, 100, 50)</td>\n",
              "      <td>0.806316</td>\n",
              "      <td>2</td>\n",
              "    </tr>\n",
              "    <tr>\n",
              "      <th>1</th>\n",
              "      <td>(100, 200, 50)</td>\n",
              "      <td>0.791579</td>\n",
              "      <td>3</td>\n",
              "    </tr>\n",
              "    <tr>\n",
              "      <th>3</th>\n",
              "      <td>(400, 500, 400, 200, 100, 50)</td>\n",
              "      <td>0.785263</td>\n",
              "      <td>4</td>\n",
              "    </tr>\n",
              "  </tbody>\n",
              "</table>\n",
              "</div>"
            ],
            "text/plain": [
              "        param_hidden_layer_sizes  mean_test_score  rank_test_score\n",
              "0                     (100, 100)         0.810526                1\n",
              "2                 (450, 100, 50)         0.806316                2\n",
              "1                 (100, 200, 50)         0.791579                3\n",
              "3  (400, 500, 400, 200, 100, 50)         0.785263                4"
            ]
          },
          "metadata": {
            "tags": []
          },
          "execution_count": 213
        }
      ]
    },
    {
      "cell_type": "code",
      "metadata": {
        "colab": {
          "base_uri": "https://localhost:8080/"
        },
        "id": "zCIyJDriqKbA",
        "outputId": "a8ed8192-3229-4591-866b-0bceb0c5432a"
      },
      "source": [
        "grid_predictions = grid_d2v_mlp.predict(X_test_2)\n",
        "analysis(y_test_2, grid_predictions)"
      ],
      "execution_count": null,
      "outputs": [
        {
          "output_type": "stream",
          "text": [
            "Classification Report : \n",
            "               precision    recall  f1-score   support\n",
            "\n",
            "    negative       1.00      0.71      0.83        14\n",
            "    positive       0.73      1.00      0.85        11\n",
            "\n",
            "    accuracy                           0.84        25\n",
            "   macro avg       0.87      0.86      0.84        25\n",
            "weighted avg       0.88      0.84      0.84        25\n",
            "\n",
            "Confusion Matrix : \n",
            " [[10  4]\n",
            " [ 0 11]]\n",
            "Accuracy : \n",
            " 0.84\n",
            "F1 : \n",
            " 0.846153846153846\n"
          ],
          "name": "stdout"
        }
      ]
    },
    {
      "cell_type": "markdown",
      "metadata": {
        "id": "QRz4-nmzz9Lx"
      },
      "source": [
        "### **B (Fine Tune)**"
      ]
    },
    {
      "cell_type": "code",
      "metadata": {
        "id": "8ADiig7i0XmO"
      },
      "source": [
        "train_df_2 , test_df_2 = train_test_split(current_df_2, test_size=0.2, random_state=42)\n",
        "\n",
        "X_train_1 = vectorizer_1.transform(train_df_1[\"comment\"])\n",
        "y_train_1 = train_df_1[\"sentiment\"].tolist()\n",
        "X_train_2 = vectorizer_1.transform(train_df_2[\"comment\"])\n",
        "y_train_2 = train_df_2[\"sentiment\"].tolist()\n",
        "X_test_1 = vectorizer_1.transform(test_df_1[\"comment\"])\n",
        "y_test_1 = test_df_1[\"sentiment\"].tolist()\n",
        "X_test_2 = vectorizer_1.transform(test_df_2[\"comment\"])\n",
        "y_test_2 = test_df_2[\"sentiment\"].tolist()"
      ],
      "execution_count": null,
      "outputs": []
    },
    {
      "cell_type": "code",
      "metadata": {
        "id": "vrpZdzqU3fm7"
      },
      "source": [
        "import pickle\n",
        "mlp = pickle.load(open(config[\"model_save_path\"] + 'best.pkl', 'rb'))"
      ],
      "execution_count": null,
      "outputs": []
    },
    {
      "cell_type": "code",
      "metadata": {
        "id": "zUu4HY8Jr2gd"
      },
      "source": [
        "for _ in range(2):\n",
        "    mlp.fit(X_train_2, y_train_2)"
      ],
      "execution_count": null,
      "outputs": []
    },
    {
      "cell_type": "code",
      "metadata": {
        "colab": {
          "base_uri": "https://localhost:8080/"
        },
        "id": "qRjTdMiDoDXc",
        "outputId": "e760fd02-de91-466d-d888-88b5ff78b6e6"
      },
      "source": [
        "predictions_2 = mlp.predict(X_test_1)\n",
        "analysis(y_test_1, predictions_2)"
      ],
      "execution_count": null,
      "outputs": [
        {
          "output_type": "stream",
          "text": [
            "Classification Report : \n",
            "               precision    recall  f1-score   support\n",
            "\n",
            "    negative       0.84      0.91      0.87      2225\n",
            "    positive       0.91      0.82      0.86      2275\n",
            "\n",
            "    accuracy                           0.87      4500\n",
            "   macro avg       0.87      0.87      0.87      4500\n",
            "weighted avg       0.87      0.87      0.87      4500\n",
            "\n",
            "Confusion Matrix : \n",
            " [[2033  192]\n",
            " [ 401 1874]]\n",
            "Accuracy : \n",
            " 0.8682222222222222\n",
            "F1 : \n",
            " 0.8633955309836443\n"
          ],
          "name": "stdout"
        }
      ]
    },
    {
      "cell_type": "code",
      "metadata": {
        "id": "EK6j9ifccxiB"
      },
      "source": [
        ""
      ],
      "execution_count": null,
      "outputs": []
    }
  ]
}