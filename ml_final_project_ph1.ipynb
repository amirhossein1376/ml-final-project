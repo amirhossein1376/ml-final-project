{
  "nbformat": 4,
  "nbformat_minor": 0,
  "metadata": {
    "colab": {
      "name": "ml_final_project_ph1.ipynb",
      "provenance": [],
      "collapsed_sections": [
        "fpOz5wWf0feZ",
        "xOm4o_AmiOPP",
        "A0ORqH0njc1j",
        "OsVtH6_fjc1k",
        "_dMUCtRdjc1l",
        "1HR1uFdJinRv",
        "7j_hvaeEARAv",
        "Y5RVisRkARAz",
        "ylN6DPAbARA0",
        "DR9gYHizitcm",
        "3komtB7lejTU",
        "v2rsGPH8ejTi",
        "B8DgrCGpejTk",
        "Jvc1arBLmxIn",
        "6Lz03hg2B5Rx",
        "ZWfi9Q69CT3b",
        "pY3yIGmPChN4",
        "vt0_BGajqX4M",
        "S8GCdkoghBE3",
        "jVT_wEvAhBE5",
        "ob4y8_lxhBE8",
        "V0Fhh6Gt33h1",
        "4r951DdHwT8H"
      ],
      "machine_shape": "hm",
      "authorship_tag": "ABX9TyPr2ZsAbeTHF0UP74F87vAD",
      "include_colab_link": true
    },
    "kernelspec": {
      "display_name": "Python 3",
      "name": "python3"
    },
    "language_info": {
      "name": "python"
    }
  },
  "cells": [
    {
      "cell_type": "markdown",
      "metadata": {
        "id": "view-in-github",
        "colab_type": "text"
      },
      "source": [
        "<a href=\"https://colab.research.google.com/github/amirhossein1376/ml-final-project/blob/main/ml_final_project_ph1.ipynb\" target=\"_parent\"><img src=\"https://colab.research.google.com/assets/colab-badge.svg\" alt=\"Open In Colab\"/></a>"
      ]
    },
    {
      "cell_type": "markdown",
      "metadata": {
        "id": "_8g2UpVIowPH"
      },
      "source": [
        "**Import Libraries**"
      ]
    },
    {
      "cell_type": "code",
      "metadata": {
        "colab": {
          "base_uri": "https://localhost:8080/"
        },
        "id": "-cQGHDn7oUj9",
        "outputId": "0b1efbe1-b40c-4cfa-9886-a20831152b60"
      },
      "source": [
        "#Notebook\n",
        "from google.colab import drive\n",
        "from IPython.display import display\n",
        "\n",
        "#NLP\n",
        "import nltk\n",
        "nltk.download('punkt')\n",
        "nltk.download('stopwords')\n",
        "nltk.download('words')\n",
        "nltk.download('wordnet')\n",
        "from nltk.tokenize import word_tokenize\n",
        "from nltk.corpus import words\n",
        "from nltk.corpus import stopwords\n",
        "from nltk.stem.porter import PorterStemmer\n",
        "from nltk.stem import WordNetLemmatizer\n",
        "from bs4 import BeautifulSoup\n",
        "\n",
        "from gensim.models import KeyedVectors\n",
        "\n",
        "#ML\n",
        "import pandas as pd\n",
        "import numpy as np\n",
        "\n",
        "from sklearn.feature_extraction.text import CountVectorizer\n",
        "from sklearn.model_selection import train_test_split, GridSearchCV\n",
        "from sklearn.linear_model import LogisticRegression\n",
        "from sklearn.svm import LinearSVC\n",
        "from sklearn.neighbors import KNeighborsClassifier\n",
        "from sklearn.metrics import classification_report, confusion_matrix, accuracy_score, f1_score, plot_confusion_matrix\n",
        "from sklearn.neural_network import MLPClassifier\n",
        "\n",
        "import matplotlib.pyplot as plt  \n",
        "\n",
        "import joblib\n",
        "#from warnings import simplefilter\n",
        "#from sklearn.exceptions import ConvergenceWarning\n",
        "#simplefilter(\"ignore\", category=ConvergenceWarning)\n",
        "\n",
        "#Other\n",
        "from collections import Counter\n",
        "import re\n",
        "import json\n",
        "import string"
      ],
      "execution_count": null,
      "outputs": [
        {
          "output_type": "stream",
          "text": [
            "[nltk_data] Downloading package punkt to /root/nltk_data...\n",
            "[nltk_data]   Package punkt is already up-to-date!\n",
            "[nltk_data] Downloading package stopwords to /root/nltk_data...\n",
            "[nltk_data]   Package stopwords is already up-to-date!\n",
            "[nltk_data] Downloading package words to /root/nltk_data...\n",
            "[nltk_data]   Package words is already up-to-date!\n",
            "[nltk_data] Downloading package wordnet to /root/nltk_data...\n",
            "[nltk_data]   Package wordnet is already up-to-date!\n"
          ],
          "name": "stdout"
        }
      ]
    },
    {
      "cell_type": "markdown",
      "metadata": {
        "id": "Vc9REcMvpZfP"
      },
      "source": [
        "**Mount Drive**"
      ]
    },
    {
      "cell_type": "code",
      "metadata": {
        "colab": {
          "base_uri": "https://localhost:8080/"
        },
        "id": "mTqjlGnwpY_n",
        "outputId": "81b260c0-70a9-47db-dbae-92e3ebfe558a"
      },
      "source": [
        "drive.mount('/content/gdrive')"
      ],
      "execution_count": null,
      "outputs": [
        {
          "output_type": "stream",
          "text": [
            "Mounted at /content/gdrive\n"
          ],
          "name": "stdout"
        }
      ]
    },
    {
      "cell_type": "markdown",
      "metadata": {
        "id": "d0fLn9MZp2yY"
      },
      "source": [
        "**Config**"
      ]
    },
    {
      "cell_type": "code",
      "metadata": {
        "id": "RpLuE-wIp1LW"
      },
      "source": [
        "config = {\n",
        "    \"train_dataset_path\" : \"/content/gdrive/MyDrive/ML/dataset.csv\",\n",
        "    \"word2vec_path\" : \"/content/gdrive/MyDrive/ML/word2vec-google-news-300.gz\",\n",
        "    \"contractions_path\" : \"/content/gdrive/MyDrive/ML/contractions.json\",\n",
        "    \"model_save_path\" : \"/content/gdrive/MyDrive/ML/\"\n",
        "}"
      ],
      "execution_count": null,
      "outputs": []
    },
    {
      "cell_type": "markdown",
      "metadata": {
        "id": "i-ULXv8gpEBd"
      },
      "source": [
        "**Read Data**"
      ]
    },
    {
      "cell_type": "code",
      "metadata": {
        "id": "CVVmsU1GoqUa"
      },
      "source": [
        "all_df = pd.read_csv(config[\"train_dataset_path\"])"
      ],
      "execution_count": null,
      "outputs": []
    },
    {
      "cell_type": "code",
      "metadata": {
        "id": "LBVEOZfLmI7F"
      },
      "source": [
        "with open(config[\"contractions_path\"]) as f:\n",
        "    english_contractions = dict(json.load(f).items())\n",
        "    contractions_re = re.compile('(%s)' % '|'.join(english_contractions.keys()))"
      ],
      "execution_count": null,
      "outputs": []
    },
    {
      "cell_type": "markdown",
      "metadata": {
        "id": "IBC1E3SGAXH_"
      },
      "source": [
        "**Convert Labels To Binary Numbers**"
      ]
    },
    {
      "cell_type": "code",
      "metadata": {
        "id": "d4vgU3UgvF3_"
      },
      "source": [
        "all_df['sentiment'] = all_df['sentiment'].apply(lambda x : 0 if x==\"negative\" else 1)"
      ],
      "execution_count": null,
      "outputs": []
    },
    {
      "cell_type": "code",
      "metadata": {
        "colab": {
          "base_uri": "https://localhost:8080/",
          "height": 202
        },
        "id": "IY4XKT84tZD3",
        "outputId": "91015c53-1cd9-48b4-9921-95100868e2f9"
      },
      "source": [
        "all_df.head()"
      ],
      "execution_count": null,
      "outputs": [
        {
          "output_type": "execute_result",
          "data": {
            "text/html": [
              "<div>\n",
              "<style scoped>\n",
              "    .dataframe tbody tr th:only-of-type {\n",
              "        vertical-align: middle;\n",
              "    }\n",
              "\n",
              "    .dataframe tbody tr th {\n",
              "        vertical-align: top;\n",
              "    }\n",
              "\n",
              "    .dataframe thead th {\n",
              "        text-align: right;\n",
              "    }\n",
              "</style>\n",
              "<table border=\"1\" class=\"dataframe\">\n",
              "  <thead>\n",
              "    <tr style=\"text-align: right;\">\n",
              "      <th></th>\n",
              "      <th>comment</th>\n",
              "      <th>sentiment</th>\n",
              "    </tr>\n",
              "  </thead>\n",
              "  <tbody>\n",
              "    <tr>\n",
              "      <th>0</th>\n",
              "      <td>Oh my god, it just doesn't get any worse than ...</td>\n",
              "      <td>0</td>\n",
              "    </tr>\n",
              "    <tr>\n",
              "      <th>1</th>\n",
              "      <td>If you're a layman interested in quantum theor...</td>\n",
              "      <td>0</td>\n",
              "    </tr>\n",
              "    <tr>\n",
              "      <th>2</th>\n",
              "      <td>It's amazing that this no talent actor Chapa g...</td>\n",
              "      <td>0</td>\n",
              "    </tr>\n",
              "    <tr>\n",
              "      <th>3</th>\n",
              "      <td>This must be one of the most overrated Spanish...</td>\n",
              "      <td>0</td>\n",
              "    </tr>\n",
              "    <tr>\n",
              "      <th>4</th>\n",
              "      <td>Some critics have compared Chop Shop with the ...</td>\n",
              "      <td>1</td>\n",
              "    </tr>\n",
              "  </tbody>\n",
              "</table>\n",
              "</div>"
            ],
            "text/plain": [
              "                                             comment  sentiment\n",
              "0  Oh my god, it just doesn't get any worse than ...          0\n",
              "1  If you're a layman interested in quantum theor...          0\n",
              "2  It's amazing that this no talent actor Chapa g...          0\n",
              "3  This must be one of the most overrated Spanish...          0\n",
              "4  Some critics have compared Chop Shop with the ...          1"
            ]
          },
          "metadata": {
            "tags": []
          },
          "execution_count": 10
        }
      ]
    },
    {
      "cell_type": "markdown",
      "metadata": {
        "id": "bNdJOoyuB0t_"
      },
      "source": [
        "**Preprocessing**"
      ]
    },
    {
      "cell_type": "code",
      "metadata": {
        "id": "_R5sv83KqNlG"
      },
      "source": [
        "class PreprocessorType:\n",
        "    WITHOUT_PREPROCESSING = 0\n",
        "    ELEMENTARY_PREPROCESSING = 1\n",
        "    ADVANCED_PREPROCESSING = 2\n",
        "\n",
        "    def get_name(t):\n",
        "        if t == PreprocessorType.WITHOUT_PREPROCESSING:\n",
        "            return \"Without Preprocessing\"\n",
        "        elif t == PreprocessorType.ELEMENTARY_PREPROCESSING:\n",
        "            return \"Elementary Preprocessing\"\n",
        "        elif t == PreprocessorType.ADVANCED_PREPROCESSING:\n",
        "            return \"Advanced Preprocessing\"\n",
        "    \n",
        "class Preprocessor:\n",
        "\n",
        "    def __init__(self, preprocess_type):\n",
        "        self.preprocess_type = preprocess_type\n",
        "        self.stop_words = stopwords.words('english')\n",
        "        self.porter = PorterStemmer()\n",
        "        self.lemmatizer = WordNetLemmatizer()\n",
        "\n",
        "    def process_with_elementary_preprocessing(self):\n",
        "        self.data = self.data.apply(lambda x: x.lower())\n",
        "        self.data = self.data.apply(lambda x: re.sub('[%s]' % re.escape(string.punctuation), '' , x))\n",
        "        self.data = self.data.apply(lambda x : word_tokenize(x))\n",
        "        self.data = self.data.apply(lambda tkns : [word for word in tkns if word.isalpha()])\n",
        "        \n",
        "    def process_with_advanced_preprocessing(self, without_stem_lemma):\n",
        "        self.data = self.data.apply(lambda txt : BeautifulSoup(txt, \"lxml\").text)\n",
        "        self.data = self.data.apply(lambda txt : contractions_re.sub(lambda match : english_contractions[match.group(0)], txt))\n",
        "            \n",
        "        self.data = self.data.apply(lambda x: re.sub(r'[\\w.+-]+@[\\w-]+\\.[\\w.-]+', 'EMAIL_ADD',x))\n",
        "        self.data = self.data.apply(lambda x: re.sub(r\"(?i)\\b((?:https?://|www\\d{0,3}[.]|[a-z0-9.\\-]+[.][a-z]{2,4}/)(?:[^\\s()<>]+|\\(([^\\s()<>]+|(\\([^\\s()<>]+\\)))*\\))+(?:\\(([^\\s()<>]+|(\\([^\\s()<>]+\\)))*\\)|[^\\s`!()\\[\\]{};:'\\\".,<>?«»“”‘’]))\", 'URL_ADD', x))\n",
        "\n",
        "        self.process_with_elementary_preprocessing()\n",
        "\n",
        "        if without_stem_lemma:\n",
        "            self.data = self.data.apply(lambda tkns : [word for word in tkns if word not in self.stop_words])            \n",
        "        else:\n",
        "            self.data = self.data.apply(lambda tkns : [self.porter.stem(self.lemmatizer.lemmatize(word)) for word in tkns if word not in self.stop_words])            \n",
        "    def process(self, data, without_stem_lemma=False):\n",
        "        self.data = data.copy()\n",
        "        \n",
        "        if self.preprocess_type == PreprocessorType.ADVANCED_PREPROCESSING:\n",
        "            self.process_with_advanced_preprocessing(without_stem_lemma)\n",
        "            self.data = self.data.apply(lambda tkns : ' '.join(tkns))\n",
        "\n",
        "        elif self.preprocess_type == PreprocessorType.ELEMENTARY_PREPROCESSING:\n",
        "            self.process_with_elementary_preprocessing()\n",
        "            self.data = self.data.apply(lambda tkns : ' '.join(tkns))\n",
        "\n",
        "        return self.data"
      ],
      "execution_count": null,
      "outputs": []
    },
    {
      "cell_type": "markdown",
      "metadata": {
        "id": "P5gFswk6lIJl"
      },
      "source": [
        "**Make data ready**"
      ]
    },
    {
      "cell_type": "code",
      "metadata": {
        "id": "aRykEg_LlKCG"
      },
      "source": [
        "data_arrays = {}\n",
        "for pt in [PreprocessorType.WITHOUT_PREPROCESSING, PreprocessorType.ELEMENTARY_PREPROCESSING, PreprocessorType.ADVANCED_PREPROCESSING]:\n",
        "\n",
        "    preprocessor = Preprocessor(pt)\n",
        "    current_df = all_df.copy()\n",
        "    current_df[\"comment\"] = preprocessor.process(current_df[\"comment\"])\n",
        "\n",
        "    train_df , test_df = train_test_split(current_df, test_size=0.1, random_state=42)\n",
        "    #valid_df , test_df = train_test_split(test_df, test_size=0.5, random_state=42)\n",
        "\n",
        "    vectorizer = CountVectorizer(lowercase=False, min_df=10, token_pattern=r\"[^\\s]+\")\n",
        "    vectorizer.fit(train_df[\"comment\"].tolist())\n",
        "\n",
        "    X_train = vectorizer.transform(train_df[\"comment\"])\n",
        "    y_train = train_df[\"sentiment\"].tolist()\n",
        "    X_test = vectorizer.transform(test_df[\"comment\"])\n",
        "    y_test = test_df[\"sentiment\"].tolist()\n",
        "    #X_valid = vectorizer.transform(valid_df[\"comment\"])\n",
        "    #y_valid = valid_df[\"sentiment\"].tolist()\n",
        "\n",
        "    data_arrays[pt] = (X_train, y_train, X_test, y_test)"
      ],
      "execution_count": null,
      "outputs": []
    },
    {
      "cell_type": "code",
      "metadata": {
        "id": "Z0G9x5Cn0x5y"
      },
      "source": [
        "class Model:\n",
        "    LOGISTIC_REGRESSION = 1\n",
        "    KNN = 2\n",
        "    SVM = 3\n",
        "    MLP = 4\n",
        "\n",
        "    def get_name(m):\n",
        "        if m == Model.LOGISTIC_REGRESSION:\n",
        "            return \"Logistic Regression\"\n",
        "        elif m == Model.KNN:\n",
        "            return \"K Nearest Neighbours\"\n",
        "        elif m == Model.SVM:\n",
        "            return \"Support Vector Machines\"\n",
        "        elif m == Model.MLP:\n",
        "            return \"Multi Layer Perceptron\"\n",
        "            \n",
        "def show_grid_res(grid):\n",
        "    res = pd.DataFrame(grid.cv_results_)\n",
        "    res = res.filter(regex='param_.*|mean_test_score|rank_test_score').sort_values('rank_test_score')\n",
        "    return res\n",
        "\n",
        "def analysis(labels, predictions):\n",
        "    print(\"Classification Report : \\n\", classification_report(labels, predictions, target_names=[\"negative\", \"positive\"]))\n",
        "    print(\"Confusion Matrix : \\n\", confusion_matrix(labels, predictions))\n",
        "    print(\"Accuracy : \\n\", accuracy_score(labels, predictions))\n",
        "    print(\"F1 : \\n\", f1_score(labels, predictions))"
      ],
      "execution_count": null,
      "outputs": []
    },
    {
      "cell_type": "markdown",
      "metadata": {
        "id": "fpOz5wWf0feZ"
      },
      "source": [
        "# **3.1**"
      ]
    },
    {
      "cell_type": "code",
      "metadata": {
        "id": "Ova3YbdivP_1"
      },
      "source": [
        "settings = {\n",
        "    Model.LOGISTIC_REGRESSION : {\n",
        "        \"C\" : [0.01, 0.1, 1, 10],\n",
        "        \"tol\" : [1e-6, 1e-5, 1e-4]\n",
        "    },\n",
        "    Model.KNN : {\n",
        "        \"n_neighbors\" : [50, 100, 200, 350, 500],\n",
        "        \"weights\" : [\"uniform\", \"distance\"],\n",
        "    },\n",
        "    Model.SVM : {\n",
        "        \"penalty\" : [\"l1\", \"l2\"],\n",
        "        \"C\" : [0, 0.001, 0.01, 0.1, 1, 10]\n",
        "    }\n",
        "}"
      ],
      "execution_count": null,
      "outputs": []
    },
    {
      "cell_type": "markdown",
      "metadata": {
        "id": "xOm4o_AmiOPP"
      },
      "source": [
        "## ***Logistic Regression***"
      ]
    },
    {
      "cell_type": "markdown",
      "metadata": {
        "id": "A0ORqH0njc1j"
      },
      "source": [
        "### ***Without preprocessing***"
      ]
    },
    {
      "cell_type": "code",
      "metadata": {
        "colab": {
          "base_uri": "https://localhost:8080/"
        },
        "id": "7-CGNLEruwRO",
        "outputId": "1471efa9-27dd-453b-c5bf-45bc01581f82"
      },
      "source": [
        "X_train, y_train, X_test, y_test = data_arrays[PreprocessorType.WITHOUT_PREPROCESSING]\n",
        "grid = GridSearchCV(LogisticRegression(max_iter=2000),settings[Model.LOGISTIC_REGRESSION],scoring='accuracy',n_jobs=-1, verbose=3)\n",
        "grid.fit(X_train, y_train)"
      ],
      "execution_count": null,
      "outputs": [
        {
          "output_type": "stream",
          "text": [
            "Fitting 5 folds for each of 12 candidates, totalling 60 fits\n"
          ],
          "name": "stdout"
        },
        {
          "output_type": "stream",
          "text": [
            "[Parallel(n_jobs=-1)]: Using backend LokyBackend with 4 concurrent workers.\n",
            "[Parallel(n_jobs=-1)]: Done  24 tasks      | elapsed:  1.8min\n",
            "[Parallel(n_jobs=-1)]: Done  60 out of  60 | elapsed:  9.3min finished\n"
          ],
          "name": "stderr"
        },
        {
          "output_type": "execute_result",
          "data": {
            "text/plain": [
              "GridSearchCV(cv=None, error_score=nan,\n",
              "             estimator=LogisticRegression(C=1.0, class_weight=None, dual=False,\n",
              "                                          fit_intercept=True,\n",
              "                                          intercept_scaling=1, l1_ratio=None,\n",
              "                                          max_iter=2000, multi_class='auto',\n",
              "                                          n_jobs=None, penalty='l2',\n",
              "                                          random_state=None, solver='lbfgs',\n",
              "                                          tol=0.0001, verbose=0,\n",
              "                                          warm_start=False),\n",
              "             iid='deprecated', n_jobs=-1,\n",
              "             param_grid={'C': [0.01, 0.1, 1, 10],\n",
              "                         'tol': [1e-06, 1e-05, 0.0001]},\n",
              "             pre_dispatch='2*n_jobs', refit=True, return_train_score=False,\n",
              "             scoring='accuracy', verbose=3)"
            ]
          },
          "metadata": {
            "tags": []
          },
          "execution_count": 12
        }
      ]
    },
    {
      "cell_type": "code",
      "metadata": {
        "colab": {
          "base_uri": "https://localhost:8080/"
        },
        "id": "WEg-36z87HCr",
        "outputId": "2d8d4689-48c6-48c9-fc83-800d06f86caa"
      },
      "source": [
        "show_grid_res(grid)"
      ],
      "execution_count": null,
      "outputs": [
        {
          "output_type": "execute_result",
          "data": {
            "text/html": [
              "<div>\n",
              "<style scoped>\n",
              "    .dataframe tbody tr th:only-of-type {\n",
              "        vertical-align: middle;\n",
              "    }\n",
              "\n",
              "    .dataframe tbody tr th {\n",
              "        vertical-align: top;\n",
              "    }\n",
              "\n",
              "    .dataframe thead th {\n",
              "        text-align: right;\n",
              "    }\n",
              "</style>\n",
              "<table border=\"1\" class=\"dataframe\">\n",
              "  <thead>\n",
              "    <tr style=\"text-align: right;\">\n",
              "      <th></th>\n",
              "      <th>param_C</th>\n",
              "      <th>param_tol</th>\n",
              "      <th>mean_test_score</th>\n",
              "      <th>rank_test_score</th>\n",
              "    </tr>\n",
              "  </thead>\n",
              "  <tbody>\n",
              "    <tr>\n",
              "      <th>3</th>\n",
              "      <td>0.1</td>\n",
              "      <td>1e-06</td>\n",
              "      <td>0.889284</td>\n",
              "      <td>1</td>\n",
              "    </tr>\n",
              "    <tr>\n",
              "      <th>4</th>\n",
              "      <td>0.1</td>\n",
              "      <td>1e-05</td>\n",
              "      <td>0.889284</td>\n",
              "      <td>1</td>\n",
              "    </tr>\n",
              "    <tr>\n",
              "      <th>5</th>\n",
              "      <td>0.1</td>\n",
              "      <td>0.0001</td>\n",
              "      <td>0.889284</td>\n",
              "      <td>1</td>\n",
              "    </tr>\n",
              "    <tr>\n",
              "      <th>6</th>\n",
              "      <td>1</td>\n",
              "      <td>1e-06</td>\n",
              "      <td>0.884000</td>\n",
              "      <td>4</td>\n",
              "    </tr>\n",
              "    <tr>\n",
              "      <th>7</th>\n",
              "      <td>1</td>\n",
              "      <td>1e-05</td>\n",
              "      <td>0.884000</td>\n",
              "      <td>4</td>\n",
              "    </tr>\n",
              "    <tr>\n",
              "      <th>8</th>\n",
              "      <td>1</td>\n",
              "      <td>0.0001</td>\n",
              "      <td>0.884000</td>\n",
              "      <td>4</td>\n",
              "    </tr>\n",
              "    <tr>\n",
              "      <th>0</th>\n",
              "      <td>0.01</td>\n",
              "      <td>1e-06</td>\n",
              "      <td>0.878765</td>\n",
              "      <td>7</td>\n",
              "    </tr>\n",
              "    <tr>\n",
              "      <th>1</th>\n",
              "      <td>0.01</td>\n",
              "      <td>1e-05</td>\n",
              "      <td>0.878765</td>\n",
              "      <td>7</td>\n",
              "    </tr>\n",
              "    <tr>\n",
              "      <th>2</th>\n",
              "      <td>0.01</td>\n",
              "      <td>0.0001</td>\n",
              "      <td>0.878765</td>\n",
              "      <td>7</td>\n",
              "    </tr>\n",
              "    <tr>\n",
              "      <th>9</th>\n",
              "      <td>10</td>\n",
              "      <td>1e-06</td>\n",
              "      <td>0.877086</td>\n",
              "      <td>10</td>\n",
              "    </tr>\n",
              "    <tr>\n",
              "      <th>10</th>\n",
              "      <td>10</td>\n",
              "      <td>1e-05</td>\n",
              "      <td>0.877086</td>\n",
              "      <td>10</td>\n",
              "    </tr>\n",
              "    <tr>\n",
              "      <th>11</th>\n",
              "      <td>10</td>\n",
              "      <td>0.0001</td>\n",
              "      <td>0.877086</td>\n",
              "      <td>10</td>\n",
              "    </tr>\n",
              "  </tbody>\n",
              "</table>\n",
              "</div>"
            ],
            "text/plain": [
              "   param_C param_tol  mean_test_score  rank_test_score\n",
              "3      0.1     1e-06         0.889284                1\n",
              "4      0.1     1e-05         0.889284                1\n",
              "5      0.1    0.0001         0.889284                1\n",
              "6        1     1e-06         0.884000                4\n",
              "7        1     1e-05         0.884000                4\n",
              "8        1    0.0001         0.884000                4\n",
              "0     0.01     1e-06         0.878765                7\n",
              "1     0.01     1e-05         0.878765                7\n",
              "2     0.01    0.0001         0.878765                7\n",
              "9       10     1e-06         0.877086               10\n",
              "10      10     1e-05         0.877086               10\n",
              "11      10    0.0001         0.877086               10"
            ]
          },
          "metadata": {
            "tags": []
          },
          "execution_count": 13
        }
      ]
    },
    {
      "cell_type": "code",
      "metadata": {
        "colab": {
          "base_uri": "https://localhost:8080/"
        },
        "id": "uzOSR-OppSoO",
        "outputId": "3dbcdc8b-50fb-42c1-90eb-5316dedaabe3"
      },
      "source": [
        "grid_predictions = grid.predict(X_train)\n",
        "analysis(y_train, grid_predictions)"
      ],
      "execution_count": null,
      "outputs": [
        {
          "output_type": "stream",
          "text": [
            "Classification Report : \n",
            "               precision    recall  f1-score   support\n",
            "\n",
            "    negative       0.97      0.97      0.97     20274\n",
            "    positive       0.97      0.97      0.97     20226\n",
            "\n",
            "    accuracy                           0.97     40500\n",
            "   macro avg       0.97      0.97      0.97     40500\n",
            "weighted avg       0.97      0.97      0.97     40500\n",
            "\n",
            "Confusion Matrix : \n",
            " [[19649   625]\n",
            " [  527 19699]]\n",
            "Accuracy : \n",
            " 0.9715555555555555\n",
            "F1 : \n",
            " 0.9715906288532676\n"
          ],
          "name": "stdout"
        }
      ]
    },
    {
      "cell_type": "code",
      "metadata": {
        "colab": {
          "base_uri": "https://localhost:8080/"
        },
        "id": "4Cj1TYhI3cF-",
        "outputId": "f2074ce7-d849-402e-ed8e-d4281195c332"
      },
      "source": [
        "grid_predictions = grid.predict(X_test)\n",
        "analysis(y_test, grid_predictions)"
      ],
      "execution_count": null,
      "outputs": [
        {
          "output_type": "stream",
          "text": [
            "Classification Report : \n",
            "               precision    recall  f1-score   support\n",
            "\n",
            "    negative       0.90      0.88      0.89      2225\n",
            "    positive       0.89      0.90      0.89      2275\n",
            "\n",
            "    accuracy                           0.89      4500\n",
            "   macro avg       0.89      0.89      0.89      4500\n",
            "weighted avg       0.89      0.89      0.89      4500\n",
            "\n",
            "Confusion Matrix : \n",
            " [[1961  264]\n",
            " [ 219 2056]]\n",
            "Accuracy : \n",
            " 0.8926666666666667\n",
            "F1 : \n",
            " 0.894885745375408\n"
          ],
          "name": "stdout"
        }
      ]
    },
    {
      "cell_type": "markdown",
      "metadata": {
        "id": "OsVtH6_fjc1k"
      },
      "source": [
        "### ***With Elementary preprocessing***"
      ]
    },
    {
      "cell_type": "code",
      "metadata": {
        "colab": {
          "base_uri": "https://localhost:8080/"
        },
        "id": "Nrrd3Le89LM_",
        "outputId": "e059f909-6907-4f10-888d-f9560b03af0c"
      },
      "source": [
        "X_train, y_train, X_test, y_test = data_arrays[PreprocessorType.ELEMENTARY_PREPROCESSING]\n",
        "grid = GridSearchCV(LogisticRegression(max_iter=2000),settings[Model.LOGISTIC_REGRESSION],scoring='accuracy',n_jobs=-1, verbose=3)\n",
        "grid.fit(X_train, y_train)"
      ],
      "execution_count": null,
      "outputs": [
        {
          "output_type": "stream",
          "text": [
            "Fitting 5 folds for each of 12 candidates, totalling 60 fits\n"
          ],
          "name": "stdout"
        },
        {
          "output_type": "stream",
          "text": [
            "[Parallel(n_jobs=-1)]: Using backend LokyBackend with 4 concurrent workers.\n",
            "[Parallel(n_jobs=-1)]: Done  24 tasks      | elapsed:  1.4min\n",
            "[Parallel(n_jobs=-1)]: Done  60 out of  60 | elapsed:  8.2min finished\n"
          ],
          "name": "stderr"
        },
        {
          "output_type": "execute_result",
          "data": {
            "text/plain": [
              "GridSearchCV(cv=None, error_score=nan,\n",
              "             estimator=LogisticRegression(C=1.0, class_weight=None, dual=False,\n",
              "                                          fit_intercept=True,\n",
              "                                          intercept_scaling=1, l1_ratio=None,\n",
              "                                          max_iter=2000, multi_class='auto',\n",
              "                                          n_jobs=None, penalty='l2',\n",
              "                                          random_state=None, solver='lbfgs',\n",
              "                                          tol=0.0001, verbose=0,\n",
              "                                          warm_start=False),\n",
              "             iid='deprecated', n_jobs=-1,\n",
              "             param_grid={'C': [0.01, 0.1, 1, 10],\n",
              "                         'tol': [1e-06, 1e-05, 0.0001]},\n",
              "             pre_dispatch='2*n_jobs', refit=True, return_train_score=False,\n",
              "             scoring='accuracy', verbose=3)"
            ]
          },
          "metadata": {
            "tags": []
          },
          "execution_count": 16
        }
      ]
    },
    {
      "cell_type": "code",
      "metadata": {
        "colab": {
          "base_uri": "https://localhost:8080/"
        },
        "id": "-cSREXGe9LNC",
        "outputId": "50b9feb9-6734-4967-b36f-7b6638042555"
      },
      "source": [
        "show_grid_res(grid)"
      ],
      "execution_count": null,
      "outputs": [
        {
          "output_type": "execute_result",
          "data": {
            "text/html": [
              "<div>\n",
              "<style scoped>\n",
              "    .dataframe tbody tr th:only-of-type {\n",
              "        vertical-align: middle;\n",
              "    }\n",
              "\n",
              "    .dataframe tbody tr th {\n",
              "        vertical-align: top;\n",
              "    }\n",
              "\n",
              "    .dataframe thead th {\n",
              "        text-align: right;\n",
              "    }\n",
              "</style>\n",
              "<table border=\"1\" class=\"dataframe\">\n",
              "  <thead>\n",
              "    <tr style=\"text-align: right;\">\n",
              "      <th></th>\n",
              "      <th>param_C</th>\n",
              "      <th>param_tol</th>\n",
              "      <th>mean_test_score</th>\n",
              "      <th>rank_test_score</th>\n",
              "    </tr>\n",
              "  </thead>\n",
              "  <tbody>\n",
              "    <tr>\n",
              "      <th>3</th>\n",
              "      <td>0.1</td>\n",
              "      <td>1e-06</td>\n",
              "      <td>0.892938</td>\n",
              "      <td>1</td>\n",
              "    </tr>\n",
              "    <tr>\n",
              "      <th>4</th>\n",
              "      <td>0.1</td>\n",
              "      <td>1e-05</td>\n",
              "      <td>0.892938</td>\n",
              "      <td>1</td>\n",
              "    </tr>\n",
              "    <tr>\n",
              "      <th>5</th>\n",
              "      <td>0.1</td>\n",
              "      <td>0.0001</td>\n",
              "      <td>0.892938</td>\n",
              "      <td>1</td>\n",
              "    </tr>\n",
              "    <tr>\n",
              "      <th>0</th>\n",
              "      <td>0.01</td>\n",
              "      <td>1e-06</td>\n",
              "      <td>0.886642</td>\n",
              "      <td>4</td>\n",
              "    </tr>\n",
              "    <tr>\n",
              "      <th>1</th>\n",
              "      <td>0.01</td>\n",
              "      <td>1e-05</td>\n",
              "      <td>0.886642</td>\n",
              "      <td>4</td>\n",
              "    </tr>\n",
              "    <tr>\n",
              "      <th>2</th>\n",
              "      <td>0.01</td>\n",
              "      <td>0.0001</td>\n",
              "      <td>0.886642</td>\n",
              "      <td>4</td>\n",
              "    </tr>\n",
              "    <tr>\n",
              "      <th>6</th>\n",
              "      <td>1</td>\n",
              "      <td>1e-06</td>\n",
              "      <td>0.883877</td>\n",
              "      <td>7</td>\n",
              "    </tr>\n",
              "    <tr>\n",
              "      <th>7</th>\n",
              "      <td>1</td>\n",
              "      <td>1e-05</td>\n",
              "      <td>0.883877</td>\n",
              "      <td>7</td>\n",
              "    </tr>\n",
              "    <tr>\n",
              "      <th>8</th>\n",
              "      <td>1</td>\n",
              "      <td>0.0001</td>\n",
              "      <td>0.883877</td>\n",
              "      <td>7</td>\n",
              "    </tr>\n",
              "    <tr>\n",
              "      <th>9</th>\n",
              "      <td>10</td>\n",
              "      <td>1e-06</td>\n",
              "      <td>0.874222</td>\n",
              "      <td>10</td>\n",
              "    </tr>\n",
              "    <tr>\n",
              "      <th>10</th>\n",
              "      <td>10</td>\n",
              "      <td>1e-05</td>\n",
              "      <td>0.874222</td>\n",
              "      <td>10</td>\n",
              "    </tr>\n",
              "    <tr>\n",
              "      <th>11</th>\n",
              "      <td>10</td>\n",
              "      <td>0.0001</td>\n",
              "      <td>0.874222</td>\n",
              "      <td>10</td>\n",
              "    </tr>\n",
              "  </tbody>\n",
              "</table>\n",
              "</div>"
            ],
            "text/plain": [
              "   param_C param_tol  mean_test_score  rank_test_score\n",
              "3      0.1     1e-06         0.892938                1\n",
              "4      0.1     1e-05         0.892938                1\n",
              "5      0.1    0.0001         0.892938                1\n",
              "0     0.01     1e-06         0.886642                4\n",
              "1     0.01     1e-05         0.886642                4\n",
              "2     0.01    0.0001         0.886642                4\n",
              "6        1     1e-06         0.883877                7\n",
              "7        1     1e-05         0.883877                7\n",
              "8        1    0.0001         0.883877                7\n",
              "9       10     1e-06         0.874222               10\n",
              "10      10     1e-05         0.874222               10\n",
              "11      10    0.0001         0.874222               10"
            ]
          },
          "metadata": {
            "tags": []
          },
          "execution_count": 17
        }
      ]
    },
    {
      "cell_type": "code",
      "metadata": {
        "colab": {
          "base_uri": "https://localhost:8080/"
        },
        "id": "k4ZxW0KUqvEv",
        "outputId": "c634c9e9-81ab-425a-83ce-0f9ef10ef77a"
      },
      "source": [
        "grid_predictions = grid.predict(X_train)\n",
        "analysis(y_train, grid_predictions)"
      ],
      "execution_count": null,
      "outputs": [
        {
          "output_type": "stream",
          "text": [
            "Classification Report : \n",
            "               precision    recall  f1-score   support\n",
            "\n",
            "    negative       0.96      0.96      0.96     20274\n",
            "    positive       0.96      0.97      0.96     20226\n",
            "\n",
            "    accuracy                           0.96     40500\n",
            "   macro avg       0.96      0.96      0.96     40500\n",
            "weighted avg       0.96      0.96      0.96     40500\n",
            "\n",
            "Confusion Matrix : \n",
            " [[19441   833]\n",
            " [  707 19519]]\n",
            "Accuracy : \n",
            " 0.9619753086419753\n",
            "F1 : \n",
            " 0.9620484006111686\n"
          ],
          "name": "stdout"
        }
      ]
    },
    {
      "cell_type": "code",
      "metadata": {
        "colab": {
          "base_uri": "https://localhost:8080/"
        },
        "id": "k9RLPioa9LNC",
        "outputId": "cc28a9e2-e237-4cec-b10a-dd351d36135c"
      },
      "source": [
        "grid_predictions = grid.predict(X_test)\n",
        "analysis(y_test, grid_predictions)"
      ],
      "execution_count": null,
      "outputs": [
        {
          "output_type": "stream",
          "text": [
            "Classification Report : \n",
            "               precision    recall  f1-score   support\n",
            "\n",
            "    negative       0.90      0.88      0.89      2225\n",
            "    positive       0.89      0.90      0.89      2275\n",
            "\n",
            "    accuracy                           0.89      4500\n",
            "   macro avg       0.89      0.89      0.89      4500\n",
            "weighted avg       0.89      0.89      0.89      4500\n",
            "\n",
            "Confusion Matrix : \n",
            " [[1961  264]\n",
            " [ 221 2054]]\n",
            "Accuracy : \n",
            " 0.8922222222222222\n",
            "F1 : \n",
            " 0.8944045286305247\n"
          ],
          "name": "stdout"
        }
      ]
    },
    {
      "cell_type": "markdown",
      "metadata": {
        "id": "_dMUCtRdjc1l"
      },
      "source": [
        "### ***With Advanced preprocessing***"
      ]
    },
    {
      "cell_type": "code",
      "metadata": {
        "colab": {
          "base_uri": "https://localhost:8080/"
        },
        "id": "H9Pz8r8_9Rf6",
        "outputId": "42e324e9-21ee-4fb7-bc14-dcdb52063276"
      },
      "source": [
        "X_train, y_train, X_test, y_test = data_arrays[PreprocessorType.ADVANCED_PREPROCESSING]\n",
        "grid = GridSearchCV(LogisticRegression(max_iter=2000),settings[Model.LOGISTIC_REGRESSION],scoring='accuracy',n_jobs=-1, verbose=3)\n",
        "grid.fit(X_train, y_train)"
      ],
      "execution_count": null,
      "outputs": [
        {
          "output_type": "stream",
          "text": [
            "Fitting 5 folds for each of 12 candidates, totalling 60 fits\n"
          ],
          "name": "stdout"
        },
        {
          "output_type": "stream",
          "text": [
            "[Parallel(n_jobs=-1)]: Using backend LokyBackend with 4 concurrent workers.\n",
            "[Parallel(n_jobs=-1)]: Done  24 tasks      | elapsed:   20.4s\n",
            "[Parallel(n_jobs=-1)]: Done  60 out of  60 | elapsed:  2.3min finished\n"
          ],
          "name": "stderr"
        },
        {
          "output_type": "execute_result",
          "data": {
            "text/plain": [
              "GridSearchCV(cv=None, error_score=nan,\n",
              "             estimator=LogisticRegression(C=1.0, class_weight=None, dual=False,\n",
              "                                          fit_intercept=True,\n",
              "                                          intercept_scaling=1, l1_ratio=None,\n",
              "                                          max_iter=2000, multi_class='auto',\n",
              "                                          n_jobs=None, penalty='l2',\n",
              "                                          random_state=None, solver='lbfgs',\n",
              "                                          tol=0.0001, verbose=0,\n",
              "                                          warm_start=False),\n",
              "             iid='deprecated', n_jobs=-1,\n",
              "             param_grid={'C': [0.01, 0.1, 1, 10],\n",
              "                         'tol': [1e-06, 1e-05, 0.0001]},\n",
              "             pre_dispatch='2*n_jobs', refit=True, return_train_score=False,\n",
              "             scoring='accuracy', verbose=3)"
            ]
          },
          "metadata": {
            "tags": []
          },
          "execution_count": 20
        }
      ]
    },
    {
      "cell_type": "code",
      "metadata": {
        "colab": {
          "base_uri": "https://localhost:8080/"
        },
        "id": "NnjzC3q09Rf7",
        "outputId": "afc8b44a-301d-4828-c64c-57c8c9074297"
      },
      "source": [
        "show_grid_res(grid)"
      ],
      "execution_count": null,
      "outputs": [
        {
          "output_type": "execute_result",
          "data": {
            "text/html": [
              "<div>\n",
              "<style scoped>\n",
              "    .dataframe tbody tr th:only-of-type {\n",
              "        vertical-align: middle;\n",
              "    }\n",
              "\n",
              "    .dataframe tbody tr th {\n",
              "        vertical-align: top;\n",
              "    }\n",
              "\n",
              "    .dataframe thead th {\n",
              "        text-align: right;\n",
              "    }\n",
              "</style>\n",
              "<table border=\"1\" class=\"dataframe\">\n",
              "  <thead>\n",
              "    <tr style=\"text-align: right;\">\n",
              "      <th></th>\n",
              "      <th>param_C</th>\n",
              "      <th>param_tol</th>\n",
              "      <th>mean_test_score</th>\n",
              "      <th>rank_test_score</th>\n",
              "    </tr>\n",
              "  </thead>\n",
              "  <tbody>\n",
              "    <tr>\n",
              "      <th>3</th>\n",
              "      <td>0.1</td>\n",
              "      <td>1e-06</td>\n",
              "      <td>0.883136</td>\n",
              "      <td>1</td>\n",
              "    </tr>\n",
              "    <tr>\n",
              "      <th>4</th>\n",
              "      <td>0.1</td>\n",
              "      <td>1e-05</td>\n",
              "      <td>0.883136</td>\n",
              "      <td>1</td>\n",
              "    </tr>\n",
              "    <tr>\n",
              "      <th>5</th>\n",
              "      <td>0.1</td>\n",
              "      <td>0.0001</td>\n",
              "      <td>0.883136</td>\n",
              "      <td>1</td>\n",
              "    </tr>\n",
              "    <tr>\n",
              "      <th>0</th>\n",
              "      <td>0.01</td>\n",
              "      <td>1e-06</td>\n",
              "      <td>0.878420</td>\n",
              "      <td>4</td>\n",
              "    </tr>\n",
              "    <tr>\n",
              "      <th>1</th>\n",
              "      <td>0.01</td>\n",
              "      <td>1e-05</td>\n",
              "      <td>0.878420</td>\n",
              "      <td>4</td>\n",
              "    </tr>\n",
              "    <tr>\n",
              "      <th>2</th>\n",
              "      <td>0.01</td>\n",
              "      <td>0.0001</td>\n",
              "      <td>0.878420</td>\n",
              "      <td>4</td>\n",
              "    </tr>\n",
              "    <tr>\n",
              "      <th>6</th>\n",
              "      <td>1</td>\n",
              "      <td>1e-06</td>\n",
              "      <td>0.873333</td>\n",
              "      <td>7</td>\n",
              "    </tr>\n",
              "    <tr>\n",
              "      <th>7</th>\n",
              "      <td>1</td>\n",
              "      <td>1e-05</td>\n",
              "      <td>0.873333</td>\n",
              "      <td>7</td>\n",
              "    </tr>\n",
              "    <tr>\n",
              "      <th>8</th>\n",
              "      <td>1</td>\n",
              "      <td>0.0001</td>\n",
              "      <td>0.873333</td>\n",
              "      <td>7</td>\n",
              "    </tr>\n",
              "    <tr>\n",
              "      <th>9</th>\n",
              "      <td>10</td>\n",
              "      <td>1e-06</td>\n",
              "      <td>0.858667</td>\n",
              "      <td>10</td>\n",
              "    </tr>\n",
              "    <tr>\n",
              "      <th>10</th>\n",
              "      <td>10</td>\n",
              "      <td>1e-05</td>\n",
              "      <td>0.858667</td>\n",
              "      <td>10</td>\n",
              "    </tr>\n",
              "    <tr>\n",
              "      <th>11</th>\n",
              "      <td>10</td>\n",
              "      <td>0.0001</td>\n",
              "      <td>0.858667</td>\n",
              "      <td>10</td>\n",
              "    </tr>\n",
              "  </tbody>\n",
              "</table>\n",
              "</div>"
            ],
            "text/plain": [
              "   param_C param_tol  mean_test_score  rank_test_score\n",
              "3      0.1     1e-06         0.883136                1\n",
              "4      0.1     1e-05         0.883136                1\n",
              "5      0.1    0.0001         0.883136                1\n",
              "0     0.01     1e-06         0.878420                4\n",
              "1     0.01     1e-05         0.878420                4\n",
              "2     0.01    0.0001         0.878420                4\n",
              "6        1     1e-06         0.873333                7\n",
              "7        1     1e-05         0.873333                7\n",
              "8        1    0.0001         0.873333                7\n",
              "9       10     1e-06         0.858667               10\n",
              "10      10     1e-05         0.858667               10\n",
              "11      10    0.0001         0.858667               10"
            ]
          },
          "metadata": {
            "tags": []
          },
          "execution_count": 21
        }
      ]
    },
    {
      "cell_type": "code",
      "metadata": {
        "colab": {
          "base_uri": "https://localhost:8080/"
        },
        "id": "M5Sogndsq580",
        "outputId": "ddfcd96a-672b-4ded-daf1-42922328a7b0"
      },
      "source": [
        "grid_predictions = grid.predict(X_train)\n",
        "analysis(y_train, grid_predictions)"
      ],
      "execution_count": null,
      "outputs": [
        {
          "output_type": "stream",
          "text": [
            "Classification Report : \n",
            "               precision    recall  f1-score   support\n",
            "\n",
            "    negative       0.95      0.94      0.95     20274\n",
            "    positive       0.94      0.95      0.95     20226\n",
            "\n",
            "    accuracy                           0.95     40500\n",
            "   macro avg       0.95      0.95      0.95     40500\n",
            "weighted avg       0.95      0.95      0.95     40500\n",
            "\n",
            "Confusion Matrix : \n",
            " [[19113  1161]\n",
            " [  984 19242]]\n",
            "Accuracy : \n",
            " 0.947037037037037\n",
            "F1 : \n",
            " 0.9472051982574023\n"
          ],
          "name": "stdout"
        }
      ]
    },
    {
      "cell_type": "code",
      "metadata": {
        "colab": {
          "base_uri": "https://localhost:8080/"
        },
        "id": "QP9fsBeS9Rf7",
        "outputId": "436c3af6-2ecd-4047-9dfb-1f74fba41eb6"
      },
      "source": [
        "grid_predictions = grid.predict(X_test)\n",
        "analysis(y_test, grid_predictions)"
      ],
      "execution_count": null,
      "outputs": [
        {
          "output_type": "stream",
          "text": [
            "Classification Report : \n",
            "               precision    recall  f1-score   support\n",
            "\n",
            "    negative       0.90      0.88      0.89      2225\n",
            "    positive       0.88      0.91      0.90      2275\n",
            "\n",
            "    accuracy                           0.89      4500\n",
            "   macro avg       0.89      0.89      0.89      4500\n",
            "weighted avg       0.89      0.89      0.89      4500\n",
            "\n",
            "Confusion Matrix : \n",
            " [[1955  270]\n",
            " [ 212 2063]]\n",
            "Accuracy : \n",
            " 0.8928888888888888\n",
            "F1 : \n",
            " 0.8953993055555555\n"
          ],
          "name": "stdout"
        }
      ]
    },
    {
      "cell_type": "markdown",
      "metadata": {
        "id": "1HR1uFdJinRv"
      },
      "source": [
        "## ***KNN***"
      ]
    },
    {
      "cell_type": "markdown",
      "metadata": {
        "id": "7j_hvaeEARAv"
      },
      "source": [
        "### ***Without preprocessing***"
      ]
    },
    {
      "cell_type": "code",
      "metadata": {
        "colab": {
          "base_uri": "https://localhost:8080/"
        },
        "id": "ii1n1a3gARAx",
        "outputId": "c2f0663e-64c3-45ee-c39c-565390d56961"
      },
      "source": [
        "X_train, y_train, X_test, y_test = data_arrays[PreprocessorType.WITHOUT_PREPROCESSING]\n",
        "grid = GridSearchCV(KNeighborsClassifier(),settings[Model.KNN],scoring='accuracy',n_jobs=-1, verbose=3)\n",
        "grid.fit(X_train, y_train)"
      ],
      "execution_count": null,
      "outputs": [
        {
          "output_type": "stream",
          "text": [
            "Fitting 5 folds for each of 10 candidates, totalling 50 fits\n"
          ],
          "name": "stdout"
        },
        {
          "output_type": "stream",
          "text": [
            "[Parallel(n_jobs=-1)]: Using backend LokyBackend with 4 concurrent workers.\n",
            "/usr/local/lib/python3.7/dist-packages/joblib/externals/loky/process_executor.py:691: UserWarning: A worker stopped while some jobs were given to the executor. This can be caused by a too short worker timeout or by a memory leak.\n",
            "  \"timeout or by a memory leak.\", UserWarning\n",
            "[Parallel(n_jobs=-1)]: Done  24 tasks      | elapsed:  5.0min\n",
            "[Parallel(n_jobs=-1)]: Done  50 out of  50 | elapsed: 10.4min finished\n"
          ],
          "name": "stderr"
        },
        {
          "output_type": "execute_result",
          "data": {
            "text/plain": [
              "GridSearchCV(cv=None, error_score=nan,\n",
              "             estimator=KNeighborsClassifier(algorithm='auto', leaf_size=30,\n",
              "                                            metric='minkowski',\n",
              "                                            metric_params=None, n_jobs=None,\n",
              "                                            n_neighbors=5, p=2,\n",
              "                                            weights='uniform'),\n",
              "             iid='deprecated', n_jobs=-1,\n",
              "             param_grid={'n_neighbors': [50, 100, 200, 350, 500],\n",
              "                         'weights': ['uniform', 'distance']},\n",
              "             pre_dispatch='2*n_jobs', refit=True, return_train_score=False,\n",
              "             scoring='accuracy', verbose=3)"
            ]
          },
          "metadata": {
            "tags": []
          },
          "execution_count": 24
        }
      ]
    },
    {
      "cell_type": "code",
      "metadata": {
        "colab": {
          "base_uri": "https://localhost:8080/"
        },
        "id": "egcW_BWoARAy",
        "outputId": "a127beee-a578-4e51-f945-9ef938f4098f"
      },
      "source": [
        "show_grid_res(grid)"
      ],
      "execution_count": null,
      "outputs": [
        {
          "output_type": "execute_result",
          "data": {
            "text/html": [
              "<div>\n",
              "<style scoped>\n",
              "    .dataframe tbody tr th:only-of-type {\n",
              "        vertical-align: middle;\n",
              "    }\n",
              "\n",
              "    .dataframe tbody tr th {\n",
              "        vertical-align: top;\n",
              "    }\n",
              "\n",
              "    .dataframe thead th {\n",
              "        text-align: right;\n",
              "    }\n",
              "</style>\n",
              "<table border=\"1\" class=\"dataframe\">\n",
              "  <thead>\n",
              "    <tr style=\"text-align: right;\">\n",
              "      <th></th>\n",
              "      <th>param_n_neighbors</th>\n",
              "      <th>param_weights</th>\n",
              "      <th>mean_test_score</th>\n",
              "      <th>rank_test_score</th>\n",
              "    </tr>\n",
              "  </thead>\n",
              "  <tbody>\n",
              "    <tr>\n",
              "      <th>3</th>\n",
              "      <td>100</td>\n",
              "      <td>distance</td>\n",
              "      <td>0.645580</td>\n",
              "      <td>1</td>\n",
              "    </tr>\n",
              "    <tr>\n",
              "      <th>5</th>\n",
              "      <td>200</td>\n",
              "      <td>distance</td>\n",
              "      <td>0.644840</td>\n",
              "      <td>2</td>\n",
              "    </tr>\n",
              "    <tr>\n",
              "      <th>1</th>\n",
              "      <td>50</td>\n",
              "      <td>distance</td>\n",
              "      <td>0.644519</td>\n",
              "      <td>3</td>\n",
              "    </tr>\n",
              "    <tr>\n",
              "      <th>2</th>\n",
              "      <td>100</td>\n",
              "      <td>uniform</td>\n",
              "      <td>0.643432</td>\n",
              "      <td>4</td>\n",
              "    </tr>\n",
              "    <tr>\n",
              "      <th>0</th>\n",
              "      <td>50</td>\n",
              "      <td>uniform</td>\n",
              "      <td>0.643111</td>\n",
              "      <td>5</td>\n",
              "    </tr>\n",
              "    <tr>\n",
              "      <th>4</th>\n",
              "      <td>200</td>\n",
              "      <td>uniform</td>\n",
              "      <td>0.640815</td>\n",
              "      <td>6</td>\n",
              "    </tr>\n",
              "    <tr>\n",
              "      <th>7</th>\n",
              "      <td>350</td>\n",
              "      <td>distance</td>\n",
              "      <td>0.639975</td>\n",
              "      <td>7</td>\n",
              "    </tr>\n",
              "    <tr>\n",
              "      <th>9</th>\n",
              "      <td>500</td>\n",
              "      <td>distance</td>\n",
              "      <td>0.638395</td>\n",
              "      <td>8</td>\n",
              "    </tr>\n",
              "    <tr>\n",
              "      <th>6</th>\n",
              "      <td>350</td>\n",
              "      <td>uniform</td>\n",
              "      <td>0.635309</td>\n",
              "      <td>9</td>\n",
              "    </tr>\n",
              "    <tr>\n",
              "      <th>8</th>\n",
              "      <td>500</td>\n",
              "      <td>uniform</td>\n",
              "      <td>0.633111</td>\n",
              "      <td>10</td>\n",
              "    </tr>\n",
              "  </tbody>\n",
              "</table>\n",
              "</div>"
            ],
            "text/plain": [
              "  param_n_neighbors param_weights  mean_test_score  rank_test_score\n",
              "3               100      distance         0.645580                1\n",
              "5               200      distance         0.644840                2\n",
              "1                50      distance         0.644519                3\n",
              "2               100       uniform         0.643432                4\n",
              "0                50       uniform         0.643111                5\n",
              "4               200       uniform         0.640815                6\n",
              "7               350      distance         0.639975                7\n",
              "9               500      distance         0.638395                8\n",
              "6               350       uniform         0.635309                9\n",
              "8               500       uniform         0.633111               10"
            ]
          },
          "metadata": {
            "tags": []
          },
          "execution_count": 25
        }
      ]
    },
    {
      "cell_type": "code",
      "metadata": {
        "colab": {
          "base_uri": "https://localhost:8080/"
        },
        "id": "K4xNKGkIrDfF",
        "outputId": "cf3b7c4e-6ccf-468e-d4d0-672066df3d72"
      },
      "source": [
        "grid_predictions = grid.predict(X_train)\n",
        "analysis(y_train, grid_predictions)"
      ],
      "execution_count": null,
      "outputs": [
        {
          "output_type": "stream",
          "text": [
            "Classification Report : \n",
            "               precision    recall  f1-score   support\n",
            "\n",
            "    negative       1.00      1.00      1.00     20274\n",
            "    positive       1.00      1.00      1.00     20226\n",
            "\n",
            "    accuracy                           1.00     40500\n",
            "   macro avg       1.00      1.00      1.00     40500\n",
            "weighted avg       1.00      1.00      1.00     40500\n",
            "\n",
            "Confusion Matrix : \n",
            " [[20274     0]\n",
            " [    0 20226]]\n",
            "Accuracy : \n",
            " 1.0\n",
            "F1 : \n",
            " 1.0\n"
          ],
          "name": "stdout"
        }
      ]
    },
    {
      "cell_type": "code",
      "metadata": {
        "colab": {
          "base_uri": "https://localhost:8080/"
        },
        "id": "NX9JwjQOARAz",
        "outputId": "c971ce11-3980-49ad-a036-999ea350bdd1"
      },
      "source": [
        "grid_predictions = grid.predict(X_test)\n",
        "analysis(y_test, grid_predictions)"
      ],
      "execution_count": null,
      "outputs": [
        {
          "output_type": "stream",
          "text": [
            "Classification Report : \n",
            "               precision    recall  f1-score   support\n",
            "\n",
            "    negative       0.75      0.44      0.55      2225\n",
            "    positive       0.61      0.85      0.71      2275\n",
            "\n",
            "    accuracy                           0.65      4500\n",
            "   macro avg       0.68      0.65      0.63      4500\n",
            "weighted avg       0.68      0.65      0.63      4500\n",
            "\n",
            "Confusion Matrix : \n",
            " [[ 973 1252]\n",
            " [ 331 1944]]\n",
            "Accuracy : \n",
            " 0.6482222222222223\n",
            "F1 : \n",
            " 0.7106561871687077\n"
          ],
          "name": "stdout"
        }
      ]
    },
    {
      "cell_type": "markdown",
      "metadata": {
        "id": "Y5RVisRkARAz"
      },
      "source": [
        "### ***With Elementary preprocessing***"
      ]
    },
    {
      "cell_type": "code",
      "metadata": {
        "colab": {
          "base_uri": "https://localhost:8080/"
        },
        "id": "cdor3sTAARAz",
        "outputId": "4e32fb61-0f40-41fa-f022-e6bf8d797d4b"
      },
      "source": [
        "X_train, y_train, X_test, y_test = data_arrays[PreprocessorType.ELEMENTARY_PREPROCESSING]\n",
        "grid = GridSearchCV(KNeighborsClassifier(),settings[Model.KNN],scoring='accuracy',n_jobs=-1, verbose=3)\n",
        "grid.fit(X_train, y_train)"
      ],
      "execution_count": null,
      "outputs": [
        {
          "output_type": "stream",
          "text": [
            "Fitting 5 folds for each of 10 candidates, totalling 50 fits\n"
          ],
          "name": "stdout"
        },
        {
          "output_type": "stream",
          "text": [
            "[Parallel(n_jobs=-1)]: Using backend LokyBackend with 4 concurrent workers.\n",
            "[Parallel(n_jobs=-1)]: Done  24 tasks      | elapsed:  4.9min\n",
            "/usr/local/lib/python3.7/dist-packages/joblib/externals/loky/process_executor.py:691: UserWarning: A worker stopped while some jobs were given to the executor. This can be caused by a too short worker timeout or by a memory leak.\n",
            "  \"timeout or by a memory leak.\", UserWarning\n",
            "[Parallel(n_jobs=-1)]: Done  50 out of  50 | elapsed: 10.4min finished\n"
          ],
          "name": "stderr"
        },
        {
          "output_type": "execute_result",
          "data": {
            "text/plain": [
              "GridSearchCV(cv=None, error_score=nan,\n",
              "             estimator=KNeighborsClassifier(algorithm='auto', leaf_size=30,\n",
              "                                            metric='minkowski',\n",
              "                                            metric_params=None, n_jobs=None,\n",
              "                                            n_neighbors=5, p=2,\n",
              "                                            weights='uniform'),\n",
              "             iid='deprecated', n_jobs=-1,\n",
              "             param_grid={'n_neighbors': [50, 100, 200, 350, 500],\n",
              "                         'weights': ['uniform', 'distance']},\n",
              "             pre_dispatch='2*n_jobs', refit=True, return_train_score=False,\n",
              "             scoring='accuracy', verbose=3)"
            ]
          },
          "metadata": {
            "tags": []
          },
          "execution_count": 28
        }
      ]
    },
    {
      "cell_type": "code",
      "metadata": {
        "colab": {
          "base_uri": "https://localhost:8080/"
        },
        "id": "Tgj-A0EOARA0",
        "outputId": "556faeec-9323-4f4f-f2d1-3f8db89f3960"
      },
      "source": [
        "show_grid_res(grid)"
      ],
      "execution_count": null,
      "outputs": [
        {
          "output_type": "execute_result",
          "data": {
            "text/html": [
              "<div>\n",
              "<style scoped>\n",
              "    .dataframe tbody tr th:only-of-type {\n",
              "        vertical-align: middle;\n",
              "    }\n",
              "\n",
              "    .dataframe tbody tr th {\n",
              "        vertical-align: top;\n",
              "    }\n",
              "\n",
              "    .dataframe thead th {\n",
              "        text-align: right;\n",
              "    }\n",
              "</style>\n",
              "<table border=\"1\" class=\"dataframe\">\n",
              "  <thead>\n",
              "    <tr style=\"text-align: right;\">\n",
              "      <th></th>\n",
              "      <th>param_n_neighbors</th>\n",
              "      <th>param_weights</th>\n",
              "      <th>mean_test_score</th>\n",
              "      <th>rank_test_score</th>\n",
              "    </tr>\n",
              "  </thead>\n",
              "  <tbody>\n",
              "    <tr>\n",
              "      <th>1</th>\n",
              "      <td>50</td>\n",
              "      <td>distance</td>\n",
              "      <td>0.673358</td>\n",
              "      <td>1</td>\n",
              "    </tr>\n",
              "    <tr>\n",
              "      <th>3</th>\n",
              "      <td>100</td>\n",
              "      <td>distance</td>\n",
              "      <td>0.673037</td>\n",
              "      <td>2</td>\n",
              "    </tr>\n",
              "    <tr>\n",
              "      <th>5</th>\n",
              "      <td>200</td>\n",
              "      <td>distance</td>\n",
              "      <td>0.671827</td>\n",
              "      <td>3</td>\n",
              "    </tr>\n",
              "    <tr>\n",
              "      <th>0</th>\n",
              "      <td>50</td>\n",
              "      <td>uniform</td>\n",
              "      <td>0.670815</td>\n",
              "      <td>4</td>\n",
              "    </tr>\n",
              "    <tr>\n",
              "      <th>2</th>\n",
              "      <td>100</td>\n",
              "      <td>uniform</td>\n",
              "      <td>0.669654</td>\n",
              "      <td>5</td>\n",
              "    </tr>\n",
              "    <tr>\n",
              "      <th>4</th>\n",
              "      <td>200</td>\n",
              "      <td>uniform</td>\n",
              "      <td>0.668395</td>\n",
              "      <td>6</td>\n",
              "    </tr>\n",
              "    <tr>\n",
              "      <th>7</th>\n",
              "      <td>350</td>\n",
              "      <td>distance</td>\n",
              "      <td>0.667728</td>\n",
              "      <td>7</td>\n",
              "    </tr>\n",
              "    <tr>\n",
              "      <th>6</th>\n",
              "      <td>350</td>\n",
              "      <td>uniform</td>\n",
              "      <td>0.663235</td>\n",
              "      <td>8</td>\n",
              "    </tr>\n",
              "    <tr>\n",
              "      <th>9</th>\n",
              "      <td>500</td>\n",
              "      <td>distance</td>\n",
              "      <td>0.662815</td>\n",
              "      <td>9</td>\n",
              "    </tr>\n",
              "    <tr>\n",
              "      <th>8</th>\n",
              "      <td>500</td>\n",
              "      <td>uniform</td>\n",
              "      <td>0.658321</td>\n",
              "      <td>10</td>\n",
              "    </tr>\n",
              "  </tbody>\n",
              "</table>\n",
              "</div>"
            ],
            "text/plain": [
              "  param_n_neighbors param_weights  mean_test_score  rank_test_score\n",
              "1                50      distance         0.673358                1\n",
              "3               100      distance         0.673037                2\n",
              "5               200      distance         0.671827                3\n",
              "0                50       uniform         0.670815                4\n",
              "2               100       uniform         0.669654                5\n",
              "4               200       uniform         0.668395                6\n",
              "7               350      distance         0.667728                7\n",
              "6               350       uniform         0.663235                8\n",
              "9               500      distance         0.662815                9\n",
              "8               500       uniform         0.658321               10"
            ]
          },
          "metadata": {
            "tags": []
          },
          "execution_count": 29
        }
      ]
    },
    {
      "cell_type": "code",
      "metadata": {
        "colab": {
          "base_uri": "https://localhost:8080/"
        },
        "id": "9lXUPf1frK5d",
        "outputId": "1366824a-1382-469a-b8b3-584cb5dcf95b"
      },
      "source": [
        "grid_predictions = grid.predict(X_train)\n",
        "analysis(y_train, grid_predictions)"
      ],
      "execution_count": null,
      "outputs": [
        {
          "output_type": "stream",
          "text": [
            "Classification Report : \n",
            "               precision    recall  f1-score   support\n",
            "\n",
            "    negative       1.00      1.00      1.00     20274\n",
            "    positive       1.00      1.00      1.00     20226\n",
            "\n",
            "    accuracy                           1.00     40500\n",
            "   macro avg       1.00      1.00      1.00     40500\n",
            "weighted avg       1.00      1.00      1.00     40500\n",
            "\n",
            "Confusion Matrix : \n",
            " [[20274     0]\n",
            " [    0 20226]]\n",
            "Accuracy : \n",
            " 1.0\n",
            "F1 : \n",
            " 1.0\n"
          ],
          "name": "stdout"
        }
      ]
    },
    {
      "cell_type": "code",
      "metadata": {
        "colab": {
          "base_uri": "https://localhost:8080/"
        },
        "id": "Xqyqb6k9ARA0",
        "outputId": "7677573b-78c7-4c62-a7e3-8b413d51b5f4"
      },
      "source": [
        "grid_predictions = grid.predict(X_test)\n",
        "analysis(y_test, grid_predictions)"
      ],
      "execution_count": null,
      "outputs": [
        {
          "output_type": "stream",
          "text": [
            "Classification Report : \n",
            "               precision    recall  f1-score   support\n",
            "\n",
            "    negative       0.76      0.54      0.63      2225\n",
            "    positive       0.65      0.83      0.73      2275\n",
            "\n",
            "    accuracy                           0.69      4500\n",
            "   macro avg       0.70      0.69      0.68      4500\n",
            "weighted avg       0.70      0.69      0.68      4500\n",
            "\n",
            "Confusion Matrix : \n",
            " [[1202 1023]\n",
            " [ 387 1888]]\n",
            "Accuracy : \n",
            " 0.6866666666666666\n",
            "F1 : \n",
            " 0.7281141534901658\n"
          ],
          "name": "stdout"
        }
      ]
    },
    {
      "cell_type": "markdown",
      "metadata": {
        "id": "ylN6DPAbARA0"
      },
      "source": [
        "### ***With Advanced preprocessing***"
      ]
    },
    {
      "cell_type": "code",
      "metadata": {
        "colab": {
          "base_uri": "https://localhost:8080/"
        },
        "id": "o8zkcKSIARA0",
        "outputId": "0e403331-92d1-43c2-cf6a-49316c5ba39f"
      },
      "source": [
        "X_train, y_train, X_test, y_test = data_arrays[PreprocessorType.ADVANCED_PREPROCESSING]\n",
        "grid = GridSearchCV(KNeighborsClassifier(),settings[Model.KNN],scoring='accuracy',n_jobs=-1, verbose=3)\n",
        "grid.fit(X_train, y_train)"
      ],
      "execution_count": null,
      "outputs": [
        {
          "output_type": "stream",
          "text": [
            "Fitting 5 folds for each of 10 candidates, totalling 50 fits\n"
          ],
          "name": "stdout"
        },
        {
          "output_type": "stream",
          "text": [
            "[Parallel(n_jobs=-1)]: Using backend LokyBackend with 4 concurrent workers.\n",
            "[Parallel(n_jobs=-1)]: Done  24 tasks      | elapsed:  3.2min\n",
            "/usr/local/lib/python3.7/dist-packages/joblib/externals/loky/process_executor.py:691: UserWarning: A worker stopped while some jobs were given to the executor. This can be caused by a too short worker timeout or by a memory leak.\n",
            "  \"timeout or by a memory leak.\", UserWarning\n",
            "[Parallel(n_jobs=-1)]: Done  50 out of  50 | elapsed:  6.3min finished\n"
          ],
          "name": "stderr"
        },
        {
          "output_type": "execute_result",
          "data": {
            "text/plain": [
              "GridSearchCV(cv=None, error_score=nan,\n",
              "             estimator=KNeighborsClassifier(algorithm='auto', leaf_size=30,\n",
              "                                            metric='minkowski',\n",
              "                                            metric_params=None, n_jobs=None,\n",
              "                                            n_neighbors=5, p=2,\n",
              "                                            weights='uniform'),\n",
              "             iid='deprecated', n_jobs=-1,\n",
              "             param_grid={'n_neighbors': [50, 100, 200, 350, 500],\n",
              "                         'weights': ['uniform', 'distance']},\n",
              "             pre_dispatch='2*n_jobs', refit=True, return_train_score=False,\n",
              "             scoring='accuracy', verbose=3)"
            ]
          },
          "metadata": {
            "tags": []
          },
          "execution_count": 32
        }
      ]
    },
    {
      "cell_type": "code",
      "metadata": {
        "colab": {
          "base_uri": "https://localhost:8080/"
        },
        "id": "IULdYiMJARA1",
        "outputId": "620cb6f2-6aed-4037-9922-c0f41f7cb51c"
      },
      "source": [
        "show_grid_res(grid)"
      ],
      "execution_count": null,
      "outputs": [
        {
          "output_type": "execute_result",
          "data": {
            "text/html": [
              "<div>\n",
              "<style scoped>\n",
              "    .dataframe tbody tr th:only-of-type {\n",
              "        vertical-align: middle;\n",
              "    }\n",
              "\n",
              "    .dataframe tbody tr th {\n",
              "        vertical-align: top;\n",
              "    }\n",
              "\n",
              "    .dataframe thead th {\n",
              "        text-align: right;\n",
              "    }\n",
              "</style>\n",
              "<table border=\"1\" class=\"dataframe\">\n",
              "  <thead>\n",
              "    <tr style=\"text-align: right;\">\n",
              "      <th></th>\n",
              "      <th>param_n_neighbors</th>\n",
              "      <th>param_weights</th>\n",
              "      <th>mean_test_score</th>\n",
              "      <th>rank_test_score</th>\n",
              "    </tr>\n",
              "  </thead>\n",
              "  <tbody>\n",
              "    <tr>\n",
              "      <th>2</th>\n",
              "      <td>100</td>\n",
              "      <td>uniform</td>\n",
              "      <td>0.718667</td>\n",
              "      <td>1</td>\n",
              "    </tr>\n",
              "    <tr>\n",
              "      <th>3</th>\n",
              "      <td>100</td>\n",
              "      <td>distance</td>\n",
              "      <td>0.718543</td>\n",
              "      <td>2</td>\n",
              "    </tr>\n",
              "    <tr>\n",
              "      <th>5</th>\n",
              "      <td>200</td>\n",
              "      <td>distance</td>\n",
              "      <td>0.718222</td>\n",
              "      <td>3</td>\n",
              "    </tr>\n",
              "    <tr>\n",
              "      <th>4</th>\n",
              "      <td>200</td>\n",
              "      <td>uniform</td>\n",
              "      <td>0.716000</td>\n",
              "      <td>4</td>\n",
              "    </tr>\n",
              "    <tr>\n",
              "      <th>7</th>\n",
              "      <td>350</td>\n",
              "      <td>distance</td>\n",
              "      <td>0.713383</td>\n",
              "      <td>5</td>\n",
              "    </tr>\n",
              "    <tr>\n",
              "      <th>6</th>\n",
              "      <td>350</td>\n",
              "      <td>uniform</td>\n",
              "      <td>0.711037</td>\n",
              "      <td>6</td>\n",
              "    </tr>\n",
              "    <tr>\n",
              "      <th>0</th>\n",
              "      <td>50</td>\n",
              "      <td>uniform</td>\n",
              "      <td>0.708494</td>\n",
              "      <td>7</td>\n",
              "    </tr>\n",
              "    <tr>\n",
              "      <th>1</th>\n",
              "      <td>50</td>\n",
              "      <td>distance</td>\n",
              "      <td>0.708444</td>\n",
              "      <td>8</td>\n",
              "    </tr>\n",
              "    <tr>\n",
              "      <th>9</th>\n",
              "      <td>500</td>\n",
              "      <td>distance</td>\n",
              "      <td>0.702642</td>\n",
              "      <td>9</td>\n",
              "    </tr>\n",
              "    <tr>\n",
              "      <th>8</th>\n",
              "      <td>500</td>\n",
              "      <td>uniform</td>\n",
              "      <td>0.699802</td>\n",
              "      <td>10</td>\n",
              "    </tr>\n",
              "  </tbody>\n",
              "</table>\n",
              "</div>"
            ],
            "text/plain": [
              "  param_n_neighbors param_weights  mean_test_score  rank_test_score\n",
              "2               100       uniform         0.718667                1\n",
              "3               100      distance         0.718543                2\n",
              "5               200      distance         0.718222                3\n",
              "4               200       uniform         0.716000                4\n",
              "7               350      distance         0.713383                5\n",
              "6               350       uniform         0.711037                6\n",
              "0                50       uniform         0.708494                7\n",
              "1                50      distance         0.708444                8\n",
              "9               500      distance         0.702642                9\n",
              "8               500       uniform         0.699802               10"
            ]
          },
          "metadata": {
            "tags": []
          },
          "execution_count": 33
        }
      ]
    },
    {
      "cell_type": "code",
      "metadata": {
        "colab": {
          "base_uri": "https://localhost:8080/"
        },
        "id": "bEM7fCYTrQBa",
        "outputId": "4da60b66-c39f-4336-f479-eff50fc25683"
      },
      "source": [
        "grid_predictions = grid.predict(X_train)\n",
        "analysis(y_train, grid_predictions)"
      ],
      "execution_count": null,
      "outputs": [
        {
          "output_type": "stream",
          "text": [
            "Classification Report : \n",
            "               precision    recall  f1-score   support\n",
            "\n",
            "    negative       0.85      0.59      0.70     20274\n",
            "    positive       0.69      0.90      0.78     20226\n",
            "\n",
            "    accuracy                           0.74     40500\n",
            "   macro avg       0.77      0.74      0.74     40500\n",
            "weighted avg       0.77      0.74      0.74     40500\n",
            "\n",
            "Confusion Matrix : \n",
            " [[11934  8340]\n",
            " [ 2049 18177]]\n",
            "Accuracy : \n",
            " 0.7434814814814815\n",
            "F1 : \n",
            " 0.777742121815031\n"
          ],
          "name": "stdout"
        }
      ]
    },
    {
      "cell_type": "code",
      "metadata": {
        "colab": {
          "base_uri": "https://localhost:8080/"
        },
        "id": "oJG_Dnd1ARA1",
        "outputId": "9cc5699e-f889-4155-a357-2d4195615a5b"
      },
      "source": [
        "grid_predictions = grid.predict(X_test)\n",
        "analysis(y_test, grid_predictions)"
      ],
      "execution_count": null,
      "outputs": [
        {
          "output_type": "stream",
          "text": [
            "Classification Report : \n",
            "               precision    recall  f1-score   support\n",
            "\n",
            "    negative       0.84      0.54      0.66      2225\n",
            "    positive       0.67      0.90      0.77      2275\n",
            "\n",
            "    accuracy                           0.72      4500\n",
            "   macro avg       0.75      0.72      0.71      4500\n",
            "weighted avg       0.75      0.72      0.71      4500\n",
            "\n",
            "Confusion Matrix : \n",
            " [[1208 1017]\n",
            " [ 235 2040]]\n",
            "Accuracy : \n",
            " 0.7217777777777777\n",
            "F1 : \n",
            " 0.7651912978244562\n"
          ],
          "name": "stdout"
        }
      ]
    },
    {
      "cell_type": "markdown",
      "metadata": {
        "id": "DR9gYHizitcm"
      },
      "source": [
        "## ***SVM***"
      ]
    },
    {
      "cell_type": "markdown",
      "metadata": {
        "id": "3komtB7lejTU"
      },
      "source": [
        "### ***Without preprocessing***"
      ]
    },
    {
      "cell_type": "code",
      "metadata": {
        "colab": {
          "base_uri": "https://localhost:8080/"
        },
        "id": "gjRxdYrwejTh",
        "outputId": "705d0f3f-8a55-4936-f095-fe0ac178b91c"
      },
      "source": [
        "X_train, y_train, X_test, y_test = data_arrays[PreprocessorType.WITHOUT_PREPROCESSING]\n",
        "grid = GridSearchCV(LinearSVC(max_iter=5000),settings[Model.SVM],scoring='accuracy',n_jobs=-1, verbose=3)\n",
        "grid.fit(X_train, y_train)"
      ],
      "execution_count": null,
      "outputs": [
        {
          "output_type": "stream",
          "text": [
            "Fitting 5 folds for each of 12 candidates, totalling 60 fits\n"
          ],
          "name": "stdout"
        },
        {
          "output_type": "stream",
          "text": [
            "[Parallel(n_jobs=-1)]: Using backend LokyBackend with 4 concurrent workers.\n",
            "[Parallel(n_jobs=-1)]: Done  24 tasks      | elapsed:   23.2s\n",
            "[Parallel(n_jobs=-1)]: Done  60 out of  60 | elapsed:  6.7min finished\n"
          ],
          "name": "stderr"
        },
        {
          "output_type": "execute_result",
          "data": {
            "text/plain": [
              "GridSearchCV(cv=None, error_score=nan,\n",
              "             estimator=LinearSVC(C=1.0, class_weight=None, dual=True,\n",
              "                                 fit_intercept=True, intercept_scaling=1,\n",
              "                                 loss='squared_hinge', max_iter=5000,\n",
              "                                 multi_class='ovr', penalty='l2',\n",
              "                                 random_state=None, tol=0.0001, verbose=0),\n",
              "             iid='deprecated', n_jobs=-1,\n",
              "             param_grid={'C': [0, 0.001, 0.01, 0.1, 1, 10],\n",
              "                         'penalty': ['l1', 'l2']},\n",
              "             pre_dispatch='2*n_jobs', refit=True, return_train_score=False,\n",
              "             scoring='accuracy', verbose=3)"
            ]
          },
          "metadata": {
            "tags": []
          },
          "execution_count": 36
        }
      ]
    },
    {
      "cell_type": "code",
      "metadata": {
        "colab": {
          "base_uri": "https://localhost:8080/"
        },
        "id": "lKRa9LRHejTi",
        "outputId": "9821d95a-f8c9-4da3-9e9b-b8cae168b678"
      },
      "source": [
        "show_grid_res(grid)"
      ],
      "execution_count": null,
      "outputs": [
        {
          "output_type": "execute_result",
          "data": {
            "text/html": [
              "<div>\n",
              "<style scoped>\n",
              "    .dataframe tbody tr th:only-of-type {\n",
              "        vertical-align: middle;\n",
              "    }\n",
              "\n",
              "    .dataframe tbody tr th {\n",
              "        vertical-align: top;\n",
              "    }\n",
              "\n",
              "    .dataframe thead th {\n",
              "        text-align: right;\n",
              "    }\n",
              "</style>\n",
              "<table border=\"1\" class=\"dataframe\">\n",
              "  <thead>\n",
              "    <tr style=\"text-align: right;\">\n",
              "      <th></th>\n",
              "      <th>param_C</th>\n",
              "      <th>param_penalty</th>\n",
              "      <th>mean_test_score</th>\n",
              "      <th>rank_test_score</th>\n",
              "    </tr>\n",
              "  </thead>\n",
              "  <tbody>\n",
              "    <tr>\n",
              "      <th>5</th>\n",
              "      <td>0.01</td>\n",
              "      <td>l2</td>\n",
              "      <td>0.888321</td>\n",
              "      <td>1</td>\n",
              "    </tr>\n",
              "    <tr>\n",
              "      <th>3</th>\n",
              "      <td>0.001</td>\n",
              "      <td>l2</td>\n",
              "      <td>0.882000</td>\n",
              "      <td>2</td>\n",
              "    </tr>\n",
              "    <tr>\n",
              "      <th>7</th>\n",
              "      <td>0.1</td>\n",
              "      <td>l2</td>\n",
              "      <td>0.875580</td>\n",
              "      <td>3</td>\n",
              "    </tr>\n",
              "    <tr>\n",
              "      <th>9</th>\n",
              "      <td>1</td>\n",
              "      <td>l2</td>\n",
              "      <td>0.865062</td>\n",
              "      <td>4</td>\n",
              "    </tr>\n",
              "    <tr>\n",
              "      <th>11</th>\n",
              "      <td>10</td>\n",
              "      <td>l2</td>\n",
              "      <td>0.863235</td>\n",
              "      <td>5</td>\n",
              "    </tr>\n",
              "    <tr>\n",
              "      <th>0</th>\n",
              "      <td>0</td>\n",
              "      <td>l1</td>\n",
              "      <td>NaN</td>\n",
              "      <td>6</td>\n",
              "    </tr>\n",
              "    <tr>\n",
              "      <th>1</th>\n",
              "      <td>0</td>\n",
              "      <td>l2</td>\n",
              "      <td>NaN</td>\n",
              "      <td>7</td>\n",
              "    </tr>\n",
              "    <tr>\n",
              "      <th>2</th>\n",
              "      <td>0.001</td>\n",
              "      <td>l1</td>\n",
              "      <td>NaN</td>\n",
              "      <td>8</td>\n",
              "    </tr>\n",
              "    <tr>\n",
              "      <th>4</th>\n",
              "      <td>0.01</td>\n",
              "      <td>l1</td>\n",
              "      <td>NaN</td>\n",
              "      <td>9</td>\n",
              "    </tr>\n",
              "    <tr>\n",
              "      <th>6</th>\n",
              "      <td>0.1</td>\n",
              "      <td>l1</td>\n",
              "      <td>NaN</td>\n",
              "      <td>10</td>\n",
              "    </tr>\n",
              "    <tr>\n",
              "      <th>8</th>\n",
              "      <td>1</td>\n",
              "      <td>l1</td>\n",
              "      <td>NaN</td>\n",
              "      <td>11</td>\n",
              "    </tr>\n",
              "    <tr>\n",
              "      <th>10</th>\n",
              "      <td>10</td>\n",
              "      <td>l1</td>\n",
              "      <td>NaN</td>\n",
              "      <td>12</td>\n",
              "    </tr>\n",
              "  </tbody>\n",
              "</table>\n",
              "</div>"
            ],
            "text/plain": [
              "   param_C param_penalty  mean_test_score  rank_test_score\n",
              "5     0.01            l2         0.888321                1\n",
              "3    0.001            l2         0.882000                2\n",
              "7      0.1            l2         0.875580                3\n",
              "9        1            l2         0.865062                4\n",
              "11      10            l2         0.863235                5\n",
              "0        0            l1              NaN                6\n",
              "1        0            l2              NaN                7\n",
              "2    0.001            l1              NaN                8\n",
              "4     0.01            l1              NaN                9\n",
              "6      0.1            l1              NaN               10\n",
              "8        1            l1              NaN               11\n",
              "10      10            l1              NaN               12"
            ]
          },
          "metadata": {
            "tags": []
          },
          "execution_count": 37
        }
      ]
    },
    {
      "cell_type": "code",
      "metadata": {
        "colab": {
          "base_uri": "https://localhost:8080/"
        },
        "id": "4fcly2fsr0e-",
        "outputId": "dfa2da65-623f-4409-a7bd-6eb3d5d15752"
      },
      "source": [
        "grid_predictions = grid.predict(X_train)\n",
        "analysis(y_train, grid_predictions)"
      ],
      "execution_count": null,
      "outputs": [
        {
          "output_type": "stream",
          "text": [
            "Classification Report : \n",
            "               precision    recall  f1-score   support\n",
            "\n",
            "    negative       0.98      0.97      0.97     20274\n",
            "    positive       0.97      0.98      0.97     20226\n",
            "\n",
            "    accuracy                           0.97     40500\n",
            "   macro avg       0.97      0.97      0.97     40500\n",
            "weighted avg       0.97      0.97      0.97     40500\n",
            "\n",
            "Confusion Matrix : \n",
            " [[19693   581]\n",
            " [  466 19760]]\n",
            "Accuracy : \n",
            " 0.9741481481481481\n",
            "F1 : \n",
            " 0.9741908447753099\n"
          ],
          "name": "stdout"
        }
      ]
    },
    {
      "cell_type": "code",
      "metadata": {
        "colab": {
          "base_uri": "https://localhost:8080/"
        },
        "id": "OLuHCB6gejTi",
        "outputId": "83466d99-9633-424a-95c4-c6c69129e885"
      },
      "source": [
        "grid_predictions = grid.predict(X_test)\n",
        "analysis(y_test, grid_predictions)"
      ],
      "execution_count": null,
      "outputs": [
        {
          "output_type": "stream",
          "text": [
            "Classification Report : \n",
            "               precision    recall  f1-score   support\n",
            "\n",
            "    negative       0.90      0.88      0.89      2225\n",
            "    positive       0.89      0.90      0.89      2275\n",
            "\n",
            "    accuracy                           0.89      4500\n",
            "   macro avg       0.89      0.89      0.89      4500\n",
            "weighted avg       0.89      0.89      0.89      4500\n",
            "\n",
            "Confusion Matrix : \n",
            " [[1964  261]\n",
            " [ 230 2045]]\n",
            "Accuracy : \n",
            " 0.8908888888888888\n",
            "F1 : \n",
            " 0.8928181619733683\n"
          ],
          "name": "stdout"
        }
      ]
    },
    {
      "cell_type": "markdown",
      "metadata": {
        "id": "v2rsGPH8ejTi"
      },
      "source": [
        "### ***With Elementary preprocessing***"
      ]
    },
    {
      "cell_type": "code",
      "metadata": {
        "colab": {
          "base_uri": "https://localhost:8080/"
        },
        "id": "5NukaFOpejTj",
        "outputId": "6c42ee2f-57c9-4648-d023-58ef3b9fcb57"
      },
      "source": [
        "X_train, y_train, X_test, y_test = data_arrays[PreprocessorType.ELEMENTARY_PREPROCESSING]\n",
        "grid = GridSearchCV(LinearSVC(max_iter=5000),settings[Model.SVM],scoring='accuracy',n_jobs=-1, verbose=3)\n",
        "grid.fit(X_train, y_train)"
      ],
      "execution_count": null,
      "outputs": [
        {
          "output_type": "stream",
          "text": [
            "Fitting 5 folds for each of 12 candidates, totalling 60 fits\n"
          ],
          "name": "stdout"
        },
        {
          "output_type": "stream",
          "text": [
            "[Parallel(n_jobs=-1)]: Using backend LokyBackend with 4 concurrent workers.\n",
            "[Parallel(n_jobs=-1)]: Done  24 tasks      | elapsed:   10.8s\n",
            "[Parallel(n_jobs=-1)]: Done  60 out of  60 | elapsed:  4.9min finished\n"
          ],
          "name": "stderr"
        },
        {
          "output_type": "execute_result",
          "data": {
            "text/plain": [
              "GridSearchCV(cv=None, error_score=nan,\n",
              "             estimator=LinearSVC(C=1.0, class_weight=None, dual=True,\n",
              "                                 fit_intercept=True, intercept_scaling=1,\n",
              "                                 loss='squared_hinge', max_iter=5000,\n",
              "                                 multi_class='ovr', penalty='l2',\n",
              "                                 random_state=None, tol=0.0001, verbose=0),\n",
              "             iid='deprecated', n_jobs=-1,\n",
              "             param_grid={'C': [0, 0.001, 0.01, 0.1, 1, 10],\n",
              "                         'penalty': ['l1', 'l2']},\n",
              "             pre_dispatch='2*n_jobs', refit=True, return_train_score=False,\n",
              "             scoring='accuracy', verbose=3)"
            ]
          },
          "metadata": {
            "tags": []
          },
          "execution_count": 40
        }
      ]
    },
    {
      "cell_type": "code",
      "metadata": {
        "colab": {
          "base_uri": "https://localhost:8080/"
        },
        "id": "a2TTaLJOejTj",
        "outputId": "e780ccbf-11e9-43c8-ccfc-57baebc144f5"
      },
      "source": [
        "show_grid_res(grid)"
      ],
      "execution_count": null,
      "outputs": [
        {
          "output_type": "execute_result",
          "data": {
            "text/html": [
              "<div>\n",
              "<style scoped>\n",
              "    .dataframe tbody tr th:only-of-type {\n",
              "        vertical-align: middle;\n",
              "    }\n",
              "\n",
              "    .dataframe tbody tr th {\n",
              "        vertical-align: top;\n",
              "    }\n",
              "\n",
              "    .dataframe thead th {\n",
              "        text-align: right;\n",
              "    }\n",
              "</style>\n",
              "<table border=\"1\" class=\"dataframe\">\n",
              "  <thead>\n",
              "    <tr style=\"text-align: right;\">\n",
              "      <th></th>\n",
              "      <th>param_C</th>\n",
              "      <th>param_penalty</th>\n",
              "      <th>mean_test_score</th>\n",
              "      <th>rank_test_score</th>\n",
              "    </tr>\n",
              "  </thead>\n",
              "  <tbody>\n",
              "    <tr>\n",
              "      <th>5</th>\n",
              "      <td>0.01</td>\n",
              "      <td>l2</td>\n",
              "      <td>0.891975</td>\n",
              "      <td>1</td>\n",
              "    </tr>\n",
              "    <tr>\n",
              "      <th>3</th>\n",
              "      <td>0.001</td>\n",
              "      <td>l2</td>\n",
              "      <td>0.888123</td>\n",
              "      <td>2</td>\n",
              "    </tr>\n",
              "    <tr>\n",
              "      <th>7</th>\n",
              "      <td>0.1</td>\n",
              "      <td>l2</td>\n",
              "      <td>0.876963</td>\n",
              "      <td>3</td>\n",
              "    </tr>\n",
              "    <tr>\n",
              "      <th>9</th>\n",
              "      <td>1</td>\n",
              "      <td>l2</td>\n",
              "      <td>0.862667</td>\n",
              "      <td>4</td>\n",
              "    </tr>\n",
              "    <tr>\n",
              "      <th>11</th>\n",
              "      <td>10</td>\n",
              "      <td>l2</td>\n",
              "      <td>0.857753</td>\n",
              "      <td>5</td>\n",
              "    </tr>\n",
              "    <tr>\n",
              "      <th>0</th>\n",
              "      <td>0</td>\n",
              "      <td>l1</td>\n",
              "      <td>NaN</td>\n",
              "      <td>6</td>\n",
              "    </tr>\n",
              "    <tr>\n",
              "      <th>1</th>\n",
              "      <td>0</td>\n",
              "      <td>l2</td>\n",
              "      <td>NaN</td>\n",
              "      <td>7</td>\n",
              "    </tr>\n",
              "    <tr>\n",
              "      <th>2</th>\n",
              "      <td>0.001</td>\n",
              "      <td>l1</td>\n",
              "      <td>NaN</td>\n",
              "      <td>8</td>\n",
              "    </tr>\n",
              "    <tr>\n",
              "      <th>4</th>\n",
              "      <td>0.01</td>\n",
              "      <td>l1</td>\n",
              "      <td>NaN</td>\n",
              "      <td>9</td>\n",
              "    </tr>\n",
              "    <tr>\n",
              "      <th>6</th>\n",
              "      <td>0.1</td>\n",
              "      <td>l1</td>\n",
              "      <td>NaN</td>\n",
              "      <td>10</td>\n",
              "    </tr>\n",
              "    <tr>\n",
              "      <th>8</th>\n",
              "      <td>1</td>\n",
              "      <td>l1</td>\n",
              "      <td>NaN</td>\n",
              "      <td>11</td>\n",
              "    </tr>\n",
              "    <tr>\n",
              "      <th>10</th>\n",
              "      <td>10</td>\n",
              "      <td>l1</td>\n",
              "      <td>NaN</td>\n",
              "      <td>12</td>\n",
              "    </tr>\n",
              "  </tbody>\n",
              "</table>\n",
              "</div>"
            ],
            "text/plain": [
              "   param_C param_penalty  mean_test_score  rank_test_score\n",
              "5     0.01            l2         0.891975                1\n",
              "3    0.001            l2         0.888123                2\n",
              "7      0.1            l2         0.876963                3\n",
              "9        1            l2         0.862667                4\n",
              "11      10            l2         0.857753                5\n",
              "0        0            l1              NaN                6\n",
              "1        0            l2              NaN                7\n",
              "2    0.001            l1              NaN                8\n",
              "4     0.01            l1              NaN                9\n",
              "6      0.1            l1              NaN               10\n",
              "8        1            l1              NaN               11\n",
              "10      10            l1              NaN               12"
            ]
          },
          "metadata": {
            "tags": []
          },
          "execution_count": 41
        }
      ]
    },
    {
      "cell_type": "code",
      "metadata": {
        "colab": {
          "base_uri": "https://localhost:8080/"
        },
        "id": "_kwZrxtDr6oy",
        "outputId": "cea18e8a-6e25-4aea-c124-11c6168f0e40"
      },
      "source": [
        "grid_predictions = grid.predict(X_train)\n",
        "analysis(y_train, grid_predictions)"
      ],
      "execution_count": null,
      "outputs": [
        {
          "output_type": "stream",
          "text": [
            "Classification Report : \n",
            "               precision    recall  f1-score   support\n",
            "\n",
            "    negative       0.97      0.96      0.96     20274\n",
            "    positive       0.96      0.97      0.96     20226\n",
            "\n",
            "    accuracy                           0.96     40500\n",
            "   macro avg       0.96      0.96      0.96     40500\n",
            "weighted avg       0.96      0.96      0.96     40500\n",
            "\n",
            "Confusion Matrix : \n",
            " [[19513   761]\n",
            " [  659 19567]]\n",
            "Accuracy : \n",
            " 0.9649382716049383\n",
            "F1 : \n",
            " 0.9649849583271687\n"
          ],
          "name": "stdout"
        }
      ]
    },
    {
      "cell_type": "code",
      "metadata": {
        "colab": {
          "base_uri": "https://localhost:8080/"
        },
        "id": "bqZPfkQRejTj",
        "outputId": "2bdff5e5-3513-4c70-c13d-3aca5b94730e"
      },
      "source": [
        "grid_predictions = grid.predict(X_test)\n",
        "analysis(y_test, grid_predictions)"
      ],
      "execution_count": null,
      "outputs": [
        {
          "output_type": "stream",
          "text": [
            "Classification Report : \n",
            "               precision    recall  f1-score   support\n",
            "\n",
            "    negative       0.90      0.88      0.89      2225\n",
            "    positive       0.88      0.90      0.89      2275\n",
            "\n",
            "    accuracy                           0.89      4500\n",
            "   macro avg       0.89      0.89      0.89      4500\n",
            "weighted avg       0.89      0.89      0.89      4500\n",
            "\n",
            "Confusion Matrix : \n",
            " [[1952  273]\n",
            " [ 226 2049]]\n",
            "Accuracy : \n",
            " 0.8891111111111111\n",
            "F1 : \n",
            " 0.8914509462693061\n"
          ],
          "name": "stdout"
        }
      ]
    },
    {
      "cell_type": "markdown",
      "metadata": {
        "id": "B8DgrCGpejTk"
      },
      "source": [
        "### ***With Advanced preprocessing***"
      ]
    },
    {
      "cell_type": "code",
      "metadata": {
        "colab": {
          "base_uri": "https://localhost:8080/"
        },
        "id": "pYma_tAqejTk",
        "outputId": "43eaa3ff-2ab8-49b9-f3f3-f9ac36f0c37f"
      },
      "source": [
        "X_train, y_train, X_test, y_test = data_arrays[PreprocessorType.ADVANCED_PREPROCESSING]\n",
        "grid = GridSearchCV(LinearSVC(max_iter=5000),settings[Model.SVM],scoring='accuracy',n_jobs=-1, verbose=3)\n",
        "grid.fit(X_train, y_train)"
      ],
      "execution_count": null,
      "outputs": [
        {
          "output_type": "stream",
          "text": [
            "Fitting 5 folds for each of 12 candidates, totalling 60 fits\n"
          ],
          "name": "stdout"
        },
        {
          "output_type": "stream",
          "text": [
            "[Parallel(n_jobs=-1)]: Using backend LokyBackend with 4 concurrent workers.\n",
            "[Parallel(n_jobs=-1)]: Done  24 tasks      | elapsed:    3.2s\n",
            "[Parallel(n_jobs=-1)]: Done  60 out of  60 | elapsed:  2.4min finished\n"
          ],
          "name": "stderr"
        },
        {
          "output_type": "execute_result",
          "data": {
            "text/plain": [
              "GridSearchCV(cv=None, error_score=nan,\n",
              "             estimator=LinearSVC(C=1.0, class_weight=None, dual=True,\n",
              "                                 fit_intercept=True, intercept_scaling=1,\n",
              "                                 loss='squared_hinge', max_iter=5000,\n",
              "                                 multi_class='ovr', penalty='l2',\n",
              "                                 random_state=None, tol=0.0001, verbose=0),\n",
              "             iid='deprecated', n_jobs=-1,\n",
              "             param_grid={'C': [0, 0.001, 0.01, 0.1, 1, 10],\n",
              "                         'penalty': ['l1', 'l2']},\n",
              "             pre_dispatch='2*n_jobs', refit=True, return_train_score=False,\n",
              "             scoring='accuracy', verbose=3)"
            ]
          },
          "metadata": {
            "tags": []
          },
          "execution_count": 44
        }
      ]
    },
    {
      "cell_type": "code",
      "metadata": {
        "colab": {
          "base_uri": "https://localhost:8080/"
        },
        "id": "P6plGi7qejTk",
        "outputId": "235386f9-ecb1-4bb3-a929-3edb38bc65ce"
      },
      "source": [
        "show_grid_res(grid)"
      ],
      "execution_count": null,
      "outputs": [
        {
          "output_type": "execute_result",
          "data": {
            "text/html": [
              "<div>\n",
              "<style scoped>\n",
              "    .dataframe tbody tr th:only-of-type {\n",
              "        vertical-align: middle;\n",
              "    }\n",
              "\n",
              "    .dataframe tbody tr th {\n",
              "        vertical-align: top;\n",
              "    }\n",
              "\n",
              "    .dataframe thead th {\n",
              "        text-align: right;\n",
              "    }\n",
              "</style>\n",
              "<table border=\"1\" class=\"dataframe\">\n",
              "  <thead>\n",
              "    <tr style=\"text-align: right;\">\n",
              "      <th></th>\n",
              "      <th>param_C</th>\n",
              "      <th>param_penalty</th>\n",
              "      <th>mean_test_score</th>\n",
              "      <th>rank_test_score</th>\n",
              "    </tr>\n",
              "  </thead>\n",
              "  <tbody>\n",
              "    <tr>\n",
              "      <th>5</th>\n",
              "      <td>0.01</td>\n",
              "      <td>l2</td>\n",
              "      <td>0.882889</td>\n",
              "      <td>1</td>\n",
              "    </tr>\n",
              "    <tr>\n",
              "      <th>3</th>\n",
              "      <td>0.001</td>\n",
              "      <td>l2</td>\n",
              "      <td>0.879407</td>\n",
              "      <td>2</td>\n",
              "    </tr>\n",
              "    <tr>\n",
              "      <th>7</th>\n",
              "      <td>0.1</td>\n",
              "      <td>l2</td>\n",
              "      <td>0.868593</td>\n",
              "      <td>3</td>\n",
              "    </tr>\n",
              "    <tr>\n",
              "      <th>9</th>\n",
              "      <td>1</td>\n",
              "      <td>l2</td>\n",
              "      <td>0.847407</td>\n",
              "      <td>4</td>\n",
              "    </tr>\n",
              "    <tr>\n",
              "      <th>11</th>\n",
              "      <td>10</td>\n",
              "      <td>l2</td>\n",
              "      <td>0.838642</td>\n",
              "      <td>5</td>\n",
              "    </tr>\n",
              "    <tr>\n",
              "      <th>0</th>\n",
              "      <td>0</td>\n",
              "      <td>l1</td>\n",
              "      <td>NaN</td>\n",
              "      <td>6</td>\n",
              "    </tr>\n",
              "    <tr>\n",
              "      <th>1</th>\n",
              "      <td>0</td>\n",
              "      <td>l2</td>\n",
              "      <td>NaN</td>\n",
              "      <td>7</td>\n",
              "    </tr>\n",
              "    <tr>\n",
              "      <th>2</th>\n",
              "      <td>0.001</td>\n",
              "      <td>l1</td>\n",
              "      <td>NaN</td>\n",
              "      <td>8</td>\n",
              "    </tr>\n",
              "    <tr>\n",
              "      <th>4</th>\n",
              "      <td>0.01</td>\n",
              "      <td>l1</td>\n",
              "      <td>NaN</td>\n",
              "      <td>9</td>\n",
              "    </tr>\n",
              "    <tr>\n",
              "      <th>6</th>\n",
              "      <td>0.1</td>\n",
              "      <td>l1</td>\n",
              "      <td>NaN</td>\n",
              "      <td>10</td>\n",
              "    </tr>\n",
              "    <tr>\n",
              "      <th>8</th>\n",
              "      <td>1</td>\n",
              "      <td>l1</td>\n",
              "      <td>NaN</td>\n",
              "      <td>11</td>\n",
              "    </tr>\n",
              "    <tr>\n",
              "      <th>10</th>\n",
              "      <td>10</td>\n",
              "      <td>l1</td>\n",
              "      <td>NaN</td>\n",
              "      <td>12</td>\n",
              "    </tr>\n",
              "  </tbody>\n",
              "</table>\n",
              "</div>"
            ],
            "text/plain": [
              "   param_C param_penalty  mean_test_score  rank_test_score\n",
              "5     0.01            l2         0.882889                1\n",
              "3    0.001            l2         0.879407                2\n",
              "7      0.1            l2         0.868593                3\n",
              "9        1            l2         0.847407                4\n",
              "11      10            l2         0.838642                5\n",
              "0        0            l1              NaN                6\n",
              "1        0            l2              NaN                7\n",
              "2    0.001            l1              NaN                8\n",
              "4     0.01            l1              NaN                9\n",
              "6      0.1            l1              NaN               10\n",
              "8        1            l1              NaN               11\n",
              "10      10            l1              NaN               12"
            ]
          },
          "metadata": {
            "tags": []
          },
          "execution_count": 45
        }
      ]
    },
    {
      "cell_type": "code",
      "metadata": {
        "colab": {
          "base_uri": "https://localhost:8080/"
        },
        "id": "7bLEtkNor_US",
        "outputId": "00ac01aa-12b6-4f1f-b4a5-2b81643999ee"
      },
      "source": [
        "grid_predictions = grid.predict(X_train)\n",
        "analysis(y_train, grid_predictions)"
      ],
      "execution_count": null,
      "outputs": [
        {
          "output_type": "stream",
          "text": [
            "Classification Report : \n",
            "               precision    recall  f1-score   support\n",
            "\n",
            "    negative       0.95      0.95      0.95     20274\n",
            "    positive       0.95      0.95      0.95     20226\n",
            "\n",
            "    accuracy                           0.95     40500\n",
            "   macro avg       0.95      0.95      0.95     40500\n",
            "weighted avg       0.95      0.95      0.95     40500\n",
            "\n",
            "Confusion Matrix : \n",
            " [[19164  1110]\n",
            " [  923 19303]]\n",
            "Accuracy : \n",
            " 0.9498024691358025\n",
            "F1 : \n",
            " 0.9499741627500677\n"
          ],
          "name": "stdout"
        }
      ]
    },
    {
      "cell_type": "code",
      "metadata": {
        "colab": {
          "base_uri": "https://localhost:8080/"
        },
        "id": "M7ZBHf7CejTk",
        "outputId": "b602cc92-2a29-496d-e0d7-281017df13a3"
      },
      "source": [
        "grid_predictions = grid.predict(X_test)\n",
        "analysis(y_test, grid_predictions)"
      ],
      "execution_count": null,
      "outputs": [
        {
          "output_type": "stream",
          "text": [
            "Classification Report : \n",
            "               precision    recall  f1-score   support\n",
            "\n",
            "    negative       0.90      0.87      0.89      2225\n",
            "    positive       0.88      0.90      0.89      2275\n",
            "\n",
            "    accuracy                           0.89      4500\n",
            "   macro avg       0.89      0.89      0.89      4500\n",
            "weighted avg       0.89      0.89      0.89      4500\n",
            "\n",
            "Confusion Matrix : \n",
            " [[1946  279]\n",
            " [ 219 2056]]\n",
            "Accuracy : \n",
            " 0.8893333333333333\n",
            "F1 : \n",
            " 0.8919739696312363\n"
          ],
          "name": "stdout"
        }
      ]
    },
    {
      "cell_type": "markdown",
      "metadata": {
        "id": "Jvc1arBLmxIn"
      },
      "source": [
        "# **3.2**"
      ]
    },
    {
      "cell_type": "code",
      "metadata": {
        "id": "atrDdHaLAccU"
      },
      "source": [
        "settings = {\n",
        "    Model.LOGISTIC_REGRESSION : {\n",
        "        \"C\" : [0.04, 0.08, 0.16, 0.32, 0.64, 1]\n",
        "    },\n",
        "    Model.KNN : {\n",
        "        \"n_neighbors\" : [50, 100, 150, 200, 250, 300, 350, 500],\n",
        "        \"weights\" : [\"uniform\", \"distance\"],\n",
        "    },\n",
        "    Model.SVM : {\n",
        "        \"loss\" : [\"hinge\", \"squared_hinge\"],\n",
        "        \"C\" : [0.05, 0.01, 0.02, 0.04, 0.08, 0.16, 0.32, 0.64, 1.28]\n",
        "    }\n",
        "}"
      ],
      "execution_count": null,
      "outputs": []
    },
    {
      "cell_type": "markdown",
      "metadata": {
        "id": "bOWxKSCqqPpo"
      },
      "source": [
        "## ***Bag Of Words***"
      ]
    },
    {
      "cell_type": "code",
      "metadata": {
        "id": "3bNNHvyIm8od"
      },
      "source": [
        "preprocessor = Preprocessor(PreprocessorType.ADVANCED_PREPROCESSING)\n",
        "current_df = all_df.copy()\n",
        "current_df[\"comment\"] = preprocessor.process(current_df[\"comment\"])"
      ],
      "execution_count": null,
      "outputs": []
    },
    {
      "cell_type": "code",
      "metadata": {
        "colab": {
          "base_uri": "https://localhost:8080/",
          "height": 202
        },
        "id": "WiPfDDIzLPKi",
        "outputId": "7faabd22-e33e-4351-b806-f590d2e230c1"
      },
      "source": [
        "current_df.head()"
      ],
      "execution_count": null,
      "outputs": [
        {
          "output_type": "execute_result",
          "data": {
            "text/html": [
              "<div>\n",
              "<style scoped>\n",
              "    .dataframe tbody tr th:only-of-type {\n",
              "        vertical-align: middle;\n",
              "    }\n",
              "\n",
              "    .dataframe tbody tr th {\n",
              "        vertical-align: top;\n",
              "    }\n",
              "\n",
              "    .dataframe thead th {\n",
              "        text-align: right;\n",
              "    }\n",
              "</style>\n",
              "<table border=\"1\" class=\"dataframe\">\n",
              "  <thead>\n",
              "    <tr style=\"text-align: right;\">\n",
              "      <th></th>\n",
              "      <th>comment</th>\n",
              "      <th>sentiment</th>\n",
              "    </tr>\n",
              "  </thead>\n",
              "  <tbody>\n",
              "    <tr>\n",
              "      <th>0</th>\n",
              "      <td>oh god get wors alway love silli littl scifi b...</td>\n",
              "      <td>0</td>\n",
              "    </tr>\n",
              "    <tr>\n",
              "      <th>1</th>\n",
              "      <td>layman interest quantum theori string theori r...</td>\n",
              "      <td>0</td>\n",
              "    </tr>\n",
              "    <tr>\n",
              "      <th>2</th>\n",
              "      <td>amaz talent actor chapa got well known star ap...</td>\n",
              "      <td>0</td>\n",
              "    </tr>\n",
              "    <tr>\n",
              "      <th>3</th>\n",
              "      <td>must one overr spanish film histori lack subtl...</td>\n",
              "      <td>0</td>\n",
              "    </tr>\n",
              "    <tr>\n",
              "      <th>4</th>\n",
              "      <td>critic compar chop shop theatric releas citi g...</td>\n",
              "      <td>1</td>\n",
              "    </tr>\n",
              "  </tbody>\n",
              "</table>\n",
              "</div>"
            ],
            "text/plain": [
              "                                             comment  sentiment\n",
              "0  oh god get wors alway love silli littl scifi b...          0\n",
              "1  layman interest quantum theori string theori r...          0\n",
              "2  amaz talent actor chapa got well known star ap...          0\n",
              "3  must one overr spanish film histori lack subtl...          0\n",
              "4  critic compar chop shop theatric releas citi g...          1"
            ]
          },
          "metadata": {
            "tags": []
          },
          "execution_count": 15
        }
      ]
    },
    {
      "cell_type": "code",
      "metadata": {
        "id": "ZpeWrZTcqWbw"
      },
      "source": [
        "train_df , test_df = train_test_split(current_df, test_size=0.1, random_state=42)\n",
        "\n",
        "vectorizer = CountVectorizer(lowercase=False, min_df=10, token_pattern=r\"[^\\s]+\")\n",
        "vectorizer.fit(train_df[\"comment\"].tolist())\n",
        "\n",
        "X_train = vectorizer.transform(train_df[\"comment\"])\n",
        "y_train = train_df[\"sentiment\"].tolist()\n",
        "X_test = vectorizer.transform(test_df[\"comment\"])\n",
        "y_test = test_df[\"sentiment\"].tolist()"
      ],
      "execution_count": null,
      "outputs": []
    },
    {
      "cell_type": "markdown",
      "metadata": {
        "id": "6Lz03hg2B5Rx"
      },
      "source": [
        "### ***Logistic Regression***"
      ]
    },
    {
      "cell_type": "code",
      "metadata": {
        "colab": {
          "base_uri": "https://localhost:8080/"
        },
        "id": "yTDMJecFA9Wm",
        "outputId": "c73b3d21-7a00-44da-8c7a-9a9c364a2f47"
      },
      "source": [
        "grid_bow_lr = GridSearchCV(LogisticRegression(max_iter=2000),settings[Model.LOGISTIC_REGRESSION],scoring='accuracy',n_jobs=-1, verbose=3)\n",
        "grid_bow_lr.fit(X_train, y_train)"
      ],
      "execution_count": null,
      "outputs": [
        {
          "output_type": "stream",
          "text": [
            "Fitting 5 folds for each of 6 candidates, totalling 30 fits\n"
          ],
          "name": "stdout"
        },
        {
          "output_type": "stream",
          "text": [
            "[Parallel(n_jobs=-1)]: Using backend LokyBackend with 4 concurrent workers.\n",
            "[Parallel(n_jobs=-1)]: Done  30 out of  30 | elapsed:   53.7s finished\n"
          ],
          "name": "stderr"
        },
        {
          "output_type": "execute_result",
          "data": {
            "text/plain": [
              "GridSearchCV(cv=None, error_score=nan,\n",
              "             estimator=LogisticRegression(C=1.0, class_weight=None, dual=False,\n",
              "                                          fit_intercept=True,\n",
              "                                          intercept_scaling=1, l1_ratio=None,\n",
              "                                          max_iter=2000, multi_class='auto',\n",
              "                                          n_jobs=None, penalty='l2',\n",
              "                                          random_state=None, solver='lbfgs',\n",
              "                                          tol=0.0001, verbose=0,\n",
              "                                          warm_start=False),\n",
              "             iid='deprecated', n_jobs=-1,\n",
              "             param_grid={'C': [0.04, 0.08, 0.16, 0.32, 0.64, 1]},\n",
              "             pre_dispatch='2*n_jobs', refit=True, return_train_score=False,\n",
              "             scoring='accuracy', verbose=3)"
            ]
          },
          "metadata": {
            "tags": []
          },
          "execution_count": 52
        }
      ]
    },
    {
      "cell_type": "code",
      "metadata": {
        "colab": {
          "base_uri": "https://localhost:8080/",
          "height": 233
        },
        "id": "iZenHsHoA9Wn",
        "outputId": "bebfefde-6493-4c21-94e5-b89219b7f5f2"
      },
      "source": [
        "show_grid_res(grid_bow_lr)"
      ],
      "execution_count": null,
      "outputs": [
        {
          "output_type": "execute_result",
          "data": {
            "text/html": [
              "<div>\n",
              "<style scoped>\n",
              "    .dataframe tbody tr th:only-of-type {\n",
              "        vertical-align: middle;\n",
              "    }\n",
              "\n",
              "    .dataframe tbody tr th {\n",
              "        vertical-align: top;\n",
              "    }\n",
              "\n",
              "    .dataframe thead th {\n",
              "        text-align: right;\n",
              "    }\n",
              "</style>\n",
              "<table border=\"1\" class=\"dataframe\">\n",
              "  <thead>\n",
              "    <tr style=\"text-align: right;\">\n",
              "      <th></th>\n",
              "      <th>param_C</th>\n",
              "      <th>mean_test_score</th>\n",
              "      <th>rank_test_score</th>\n",
              "    </tr>\n",
              "  </thead>\n",
              "  <tbody>\n",
              "    <tr>\n",
              "      <th>1</th>\n",
              "      <td>0.08</td>\n",
              "      <td>0.883951</td>\n",
              "      <td>1</td>\n",
              "    </tr>\n",
              "    <tr>\n",
              "      <th>0</th>\n",
              "      <td>0.04</td>\n",
              "      <td>0.883284</td>\n",
              "      <td>2</td>\n",
              "    </tr>\n",
              "    <tr>\n",
              "      <th>2</th>\n",
              "      <td>0.16</td>\n",
              "      <td>0.882568</td>\n",
              "      <td>3</td>\n",
              "    </tr>\n",
              "    <tr>\n",
              "      <th>3</th>\n",
              "      <td>0.32</td>\n",
              "      <td>0.880444</td>\n",
              "      <td>4</td>\n",
              "    </tr>\n",
              "    <tr>\n",
              "      <th>4</th>\n",
              "      <td>0.64</td>\n",
              "      <td>0.876716</td>\n",
              "      <td>5</td>\n",
              "    </tr>\n",
              "    <tr>\n",
              "      <th>5</th>\n",
              "      <td>1</td>\n",
              "      <td>0.873333</td>\n",
              "      <td>6</td>\n",
              "    </tr>\n",
              "  </tbody>\n",
              "</table>\n",
              "</div>"
            ],
            "text/plain": [
              "  param_C  mean_test_score  rank_test_score\n",
              "1    0.08         0.883951                1\n",
              "0    0.04         0.883284                2\n",
              "2    0.16         0.882568                3\n",
              "3    0.32         0.880444                4\n",
              "4    0.64         0.876716                5\n",
              "5       1         0.873333                6"
            ]
          },
          "metadata": {
            "tags": []
          },
          "execution_count": 53
        }
      ]
    },
    {
      "cell_type": "code",
      "metadata": {
        "colab": {
          "base_uri": "https://localhost:8080/"
        },
        "id": "VyyhzQmJA9Wn",
        "outputId": "de22e0ef-e460-4d26-8abc-941f54cb0efc"
      },
      "source": [
        "grid_predictions = grid_bow_lr.predict(X_train)\n",
        "analysis(y_train, grid_predictions)"
      ],
      "execution_count": null,
      "outputs": [
        {
          "output_type": "stream",
          "text": [
            "Classification Report : \n",
            "               precision    recall  f1-score   support\n",
            "\n",
            "    negative       0.95      0.94      0.94     20274\n",
            "    positive       0.94      0.95      0.94     20226\n",
            "\n",
            "    accuracy                           0.94     40500\n",
            "   macro avg       0.94      0.94      0.94     40500\n",
            "weighted avg       0.94      0.94      0.94     40500\n",
            "\n",
            "Confusion Matrix : \n",
            " [[19039  1235]\n",
            " [ 1046 19180]]\n",
            "Accuracy : \n",
            " 0.943679012345679\n",
            "F1 : \n",
            " 0.9438744125390616\n"
          ],
          "name": "stdout"
        }
      ]
    },
    {
      "cell_type": "code",
      "metadata": {
        "colab": {
          "base_uri": "https://localhost:8080/"
        },
        "id": "VWfZKyKoA9Wo",
        "outputId": "f3299684-e45c-48d5-8707-9c9bd4a02e33"
      },
      "source": [
        "grid_predictions = grid_bow_lr.predict(X_test)\n",
        "analysis(y_test, grid_predictions)"
      ],
      "execution_count": null,
      "outputs": [
        {
          "output_type": "stream",
          "text": [
            "Classification Report : \n",
            "               precision    recall  f1-score   support\n",
            "\n",
            "    negative       0.90      0.88      0.89      2225\n",
            "    positive       0.89      0.91      0.90      2275\n",
            "\n",
            "    accuracy                           0.89      4500\n",
            "   macro avg       0.89      0.89      0.89      4500\n",
            "weighted avg       0.89      0.89      0.89      4500\n",
            "\n",
            "Confusion Matrix : \n",
            " [[1960  265]\n",
            " [ 212 2063]]\n",
            "Accuracy : \n",
            " 0.894\n",
            "F1 : \n",
            " 0.8963719313491201\n"
          ],
          "name": "stdout"
        }
      ]
    },
    {
      "cell_type": "markdown",
      "metadata": {
        "id": "ZWfi9Q69CT3b"
      },
      "source": [
        "### ***KNN***"
      ]
    },
    {
      "cell_type": "code",
      "metadata": {
        "colab": {
          "base_uri": "https://localhost:8080/"
        },
        "id": "7FlXuKIHCXC9",
        "outputId": "3cb8b5eb-01ff-4f4b-cc61-3eb29c1fabd3"
      },
      "source": [
        "grid = GridSearchCV(KNeighborsClassifier(),settings[Model.KNN],scoring='accuracy',n_jobs=-1, verbose=3)\n",
        "grid.fit(X_train, y_train)"
      ],
      "execution_count": null,
      "outputs": [
        {
          "output_type": "stream",
          "text": [
            "Fitting 5 folds for each of 16 candidates, totalling 80 fits\n"
          ],
          "name": "stdout"
        },
        {
          "output_type": "stream",
          "text": [
            "[Parallel(n_jobs=-1)]: Using backend LokyBackend with 4 concurrent workers.\n",
            "/usr/local/lib/python3.7/dist-packages/joblib/externals/loky/process_executor.py:691: UserWarning: A worker stopped while some jobs were given to the executor. This can be caused by a too short worker timeout or by a memory leak.\n",
            "  \"timeout or by a memory leak.\", UserWarning\n",
            "[Parallel(n_jobs=-1)]: Done  24 tasks      | elapsed:  3.1min\n",
            "[Parallel(n_jobs=-1)]: Done  80 out of  80 | elapsed:  9.9min finished\n"
          ],
          "name": "stderr"
        },
        {
          "output_type": "execute_result",
          "data": {
            "text/plain": [
              "GridSearchCV(cv=None, error_score=nan,\n",
              "             estimator=KNeighborsClassifier(algorithm='auto', leaf_size=30,\n",
              "                                            metric='minkowski',\n",
              "                                            metric_params=None, n_jobs=None,\n",
              "                                            n_neighbors=5, p=2,\n",
              "                                            weights='uniform'),\n",
              "             iid='deprecated', n_jobs=-1,\n",
              "             param_grid={'n_neighbors': [50, 100, 150, 200, 250, 300, 350, 500],\n",
              "                         'weights': ['uniform', 'distance']},\n",
              "             pre_dispatch='2*n_jobs', refit=True, return_train_score=False,\n",
              "             scoring='accuracy', verbose=3)"
            ]
          },
          "metadata": {
            "tags": []
          },
          "execution_count": 56
        }
      ]
    },
    {
      "cell_type": "code",
      "metadata": {
        "colab": {
          "base_uri": "https://localhost:8080/",
          "height": 539
        },
        "id": "nvcDmw4pCXC-",
        "outputId": "c42eb914-24f6-4207-8d9e-169cf7ca4073"
      },
      "source": [
        "show_grid_res(grid)"
      ],
      "execution_count": null,
      "outputs": [
        {
          "output_type": "execute_result",
          "data": {
            "text/html": [
              "<div>\n",
              "<style scoped>\n",
              "    .dataframe tbody tr th:only-of-type {\n",
              "        vertical-align: middle;\n",
              "    }\n",
              "\n",
              "    .dataframe tbody tr th {\n",
              "        vertical-align: top;\n",
              "    }\n",
              "\n",
              "    .dataframe thead th {\n",
              "        text-align: right;\n",
              "    }\n",
              "</style>\n",
              "<table border=\"1\" class=\"dataframe\">\n",
              "  <thead>\n",
              "    <tr style=\"text-align: right;\">\n",
              "      <th></th>\n",
              "      <th>param_n_neighbors</th>\n",
              "      <th>param_weights</th>\n",
              "      <th>mean_test_score</th>\n",
              "      <th>rank_test_score</th>\n",
              "    </tr>\n",
              "  </thead>\n",
              "  <tbody>\n",
              "    <tr>\n",
              "      <th>2</th>\n",
              "      <td>100</td>\n",
              "      <td>uniform</td>\n",
              "      <td>0.718667</td>\n",
              "      <td>1</td>\n",
              "    </tr>\n",
              "    <tr>\n",
              "      <th>5</th>\n",
              "      <td>150</td>\n",
              "      <td>distance</td>\n",
              "      <td>0.718617</td>\n",
              "      <td>2</td>\n",
              "    </tr>\n",
              "    <tr>\n",
              "      <th>3</th>\n",
              "      <td>100</td>\n",
              "      <td>distance</td>\n",
              "      <td>0.718543</td>\n",
              "      <td>3</td>\n",
              "    </tr>\n",
              "    <tr>\n",
              "      <th>4</th>\n",
              "      <td>150</td>\n",
              "      <td>uniform</td>\n",
              "      <td>0.718444</td>\n",
              "      <td>4</td>\n",
              "    </tr>\n",
              "    <tr>\n",
              "      <th>7</th>\n",
              "      <td>200</td>\n",
              "      <td>distance</td>\n",
              "      <td>0.718222</td>\n",
              "      <td>5</td>\n",
              "    </tr>\n",
              "    <tr>\n",
              "      <th>6</th>\n",
              "      <td>200</td>\n",
              "      <td>uniform</td>\n",
              "      <td>0.716000</td>\n",
              "      <td>6</td>\n",
              "    </tr>\n",
              "    <tr>\n",
              "      <th>9</th>\n",
              "      <td>250</td>\n",
              "      <td>distance</td>\n",
              "      <td>0.713926</td>\n",
              "      <td>7</td>\n",
              "    </tr>\n",
              "    <tr>\n",
              "      <th>11</th>\n",
              "      <td>300</td>\n",
              "      <td>distance</td>\n",
              "      <td>0.713556</td>\n",
              "      <td>8</td>\n",
              "    </tr>\n",
              "    <tr>\n",
              "      <th>13</th>\n",
              "      <td>350</td>\n",
              "      <td>distance</td>\n",
              "      <td>0.713383</td>\n",
              "      <td>9</td>\n",
              "    </tr>\n",
              "    <tr>\n",
              "      <th>8</th>\n",
              "      <td>250</td>\n",
              "      <td>uniform</td>\n",
              "      <td>0.712420</td>\n",
              "      <td>10</td>\n",
              "    </tr>\n",
              "    <tr>\n",
              "      <th>10</th>\n",
              "      <td>300</td>\n",
              "      <td>uniform</td>\n",
              "      <td>0.711630</td>\n",
              "      <td>11</td>\n",
              "    </tr>\n",
              "    <tr>\n",
              "      <th>12</th>\n",
              "      <td>350</td>\n",
              "      <td>uniform</td>\n",
              "      <td>0.711037</td>\n",
              "      <td>12</td>\n",
              "    </tr>\n",
              "    <tr>\n",
              "      <th>0</th>\n",
              "      <td>50</td>\n",
              "      <td>uniform</td>\n",
              "      <td>0.708494</td>\n",
              "      <td>13</td>\n",
              "    </tr>\n",
              "    <tr>\n",
              "      <th>1</th>\n",
              "      <td>50</td>\n",
              "      <td>distance</td>\n",
              "      <td>0.708444</td>\n",
              "      <td>14</td>\n",
              "    </tr>\n",
              "    <tr>\n",
              "      <th>15</th>\n",
              "      <td>500</td>\n",
              "      <td>distance</td>\n",
              "      <td>0.702642</td>\n",
              "      <td>15</td>\n",
              "    </tr>\n",
              "    <tr>\n",
              "      <th>14</th>\n",
              "      <td>500</td>\n",
              "      <td>uniform</td>\n",
              "      <td>0.699802</td>\n",
              "      <td>16</td>\n",
              "    </tr>\n",
              "  </tbody>\n",
              "</table>\n",
              "</div>"
            ],
            "text/plain": [
              "   param_n_neighbors param_weights  mean_test_score  rank_test_score\n",
              "2                100       uniform         0.718667                1\n",
              "5                150      distance         0.718617                2\n",
              "3                100      distance         0.718543                3\n",
              "4                150       uniform         0.718444                4\n",
              "7                200      distance         0.718222                5\n",
              "6                200       uniform         0.716000                6\n",
              "9                250      distance         0.713926                7\n",
              "11               300      distance         0.713556                8\n",
              "13               350      distance         0.713383                9\n",
              "8                250       uniform         0.712420               10\n",
              "10               300       uniform         0.711630               11\n",
              "12               350       uniform         0.711037               12\n",
              "0                 50       uniform         0.708494               13\n",
              "1                 50      distance         0.708444               14\n",
              "15               500      distance         0.702642               15\n",
              "14               500       uniform         0.699802               16"
            ]
          },
          "metadata": {
            "tags": []
          },
          "execution_count": 57
        }
      ]
    },
    {
      "cell_type": "code",
      "metadata": {
        "colab": {
          "base_uri": "https://localhost:8080/"
        },
        "id": "j7uAH_-aCXC-",
        "outputId": "4e835d41-8cd4-419b-ec33-ff4c152ee082"
      },
      "source": [
        "grid_predictions = grid.predict(X_train)\n",
        "analysis(y_train, grid_predictions)"
      ],
      "execution_count": null,
      "outputs": [
        {
          "output_type": "stream",
          "text": [
            "Classification Report : \n",
            "               precision    recall  f1-score   support\n",
            "\n",
            "    negative       0.85      0.59      0.70     20274\n",
            "    positive       0.69      0.90      0.78     20226\n",
            "\n",
            "    accuracy                           0.74     40500\n",
            "   macro avg       0.77      0.74      0.74     40500\n",
            "weighted avg       0.77      0.74      0.74     40500\n",
            "\n",
            "Confusion Matrix : \n",
            " [[11934  8340]\n",
            " [ 2049 18177]]\n",
            "Accuracy : \n",
            " 0.7434814814814815\n",
            "F1 : \n",
            " 0.777742121815031\n"
          ],
          "name": "stdout"
        }
      ]
    },
    {
      "cell_type": "code",
      "metadata": {
        "colab": {
          "base_uri": "https://localhost:8080/"
        },
        "id": "ofrYN8ZxCXC_",
        "outputId": "0e840190-e7f9-4564-8a53-f43a02abcba0"
      },
      "source": [
        "grid_predictions = grid.predict(X_test)\n",
        "analysis(y_test, grid_predictions)"
      ],
      "execution_count": null,
      "outputs": [
        {
          "output_type": "stream",
          "text": [
            "Classification Report : \n",
            "               precision    recall  f1-score   support\n",
            "\n",
            "    negative       0.84      0.54      0.66      2225\n",
            "    positive       0.67      0.90      0.77      2275\n",
            "\n",
            "    accuracy                           0.72      4500\n",
            "   macro avg       0.75      0.72      0.71      4500\n",
            "weighted avg       0.75      0.72      0.71      4500\n",
            "\n",
            "Confusion Matrix : \n",
            " [[1208 1017]\n",
            " [ 235 2040]]\n",
            "Accuracy : \n",
            " 0.7217777777777777\n",
            "F1 : \n",
            " 0.7651912978244562\n"
          ],
          "name": "stdout"
        }
      ]
    },
    {
      "cell_type": "markdown",
      "metadata": {
        "id": "pY3yIGmPChN4"
      },
      "source": [
        "### ***SVM***"
      ]
    },
    {
      "cell_type": "code",
      "metadata": {
        "colab": {
          "base_uri": "https://localhost:8080/"
        },
        "id": "CcpGBX64Cjw5",
        "outputId": "751295f1-94ed-4464-ff23-d3bb12a9a2f1"
      },
      "source": [
        "grid_bow_svm = GridSearchCV(LinearSVC(max_iter=5000),settings[Model.SVM],scoring='accuracy',n_jobs=-1, verbose=3)\n",
        "grid_bow_svm.fit(X_train, y_train)"
      ],
      "execution_count": null,
      "outputs": [
        {
          "output_type": "stream",
          "text": [
            "Fitting 5 folds for each of 18 candidates, totalling 90 fits\n"
          ],
          "name": "stdout"
        },
        {
          "output_type": "stream",
          "text": [
            "[Parallel(n_jobs=-1)]: Using backend LokyBackend with 4 concurrent workers.\n",
            "[Parallel(n_jobs=-1)]: Done  24 tasks      | elapsed:   22.3s\n",
            "[Parallel(n_jobs=-1)]: Done  90 out of  90 | elapsed:  4.8min finished\n"
          ],
          "name": "stderr"
        },
        {
          "output_type": "execute_result",
          "data": {
            "text/plain": [
              "GridSearchCV(cv=None, error_score=nan,\n",
              "             estimator=LinearSVC(C=1.0, class_weight=None, dual=True,\n",
              "                                 fit_intercept=True, intercept_scaling=1,\n",
              "                                 loss='squared_hinge', max_iter=5000,\n",
              "                                 multi_class='ovr', penalty='l2',\n",
              "                                 random_state=None, tol=0.0001, verbose=0),\n",
              "             iid='deprecated', n_jobs=-1,\n",
              "             param_grid={'C': [0.05, 0.01, 0.02, 0.04, 0.08, 0.16, 0.32, 0.64,\n",
              "                               1.28],\n",
              "                         'loss': ['hinge', 'squared_hinge']},\n",
              "             pre_dispatch='2*n_jobs', refit=True, return_train_score=False,\n",
              "             scoring='accuracy', verbose=3)"
            ]
          },
          "metadata": {
            "tags": []
          },
          "execution_count": 17
        }
      ]
    },
    {
      "cell_type": "code",
      "metadata": {
        "colab": {
          "base_uri": "https://localhost:8080/",
          "height": 601
        },
        "id": "SglYxDT6Cjw5",
        "outputId": "817c514b-3dff-4976-891a-a92767bfa439"
      },
      "source": [
        "show_grid_res(grid_bow_svm)"
      ],
      "execution_count": null,
      "outputs": [
        {
          "output_type": "execute_result",
          "data": {
            "text/html": [
              "<div>\n",
              "<style scoped>\n",
              "    .dataframe tbody tr th:only-of-type {\n",
              "        vertical-align: middle;\n",
              "    }\n",
              "\n",
              "    .dataframe tbody tr th {\n",
              "        vertical-align: top;\n",
              "    }\n",
              "\n",
              "    .dataframe thead th {\n",
              "        text-align: right;\n",
              "    }\n",
              "</style>\n",
              "<table border=\"1\" class=\"dataframe\">\n",
              "  <thead>\n",
              "    <tr style=\"text-align: right;\">\n",
              "      <th></th>\n",
              "      <th>param_C</th>\n",
              "      <th>param_loss</th>\n",
              "      <th>mean_test_score</th>\n",
              "      <th>rank_test_score</th>\n",
              "    </tr>\n",
              "  </thead>\n",
              "  <tbody>\n",
              "    <tr>\n",
              "      <th>3</th>\n",
              "      <td>0.01</td>\n",
              "      <td>squared_hinge</td>\n",
              "      <td>0.882889</td>\n",
              "      <td>1</td>\n",
              "    </tr>\n",
              "    <tr>\n",
              "      <th>4</th>\n",
              "      <td>0.02</td>\n",
              "      <td>hinge</td>\n",
              "      <td>0.882198</td>\n",
              "      <td>2</td>\n",
              "    </tr>\n",
              "    <tr>\n",
              "      <th>2</th>\n",
              "      <td>0.01</td>\n",
              "      <td>hinge</td>\n",
              "      <td>0.881506</td>\n",
              "      <td>3</td>\n",
              "    </tr>\n",
              "    <tr>\n",
              "      <th>6</th>\n",
              "      <td>0.04</td>\n",
              "      <td>hinge</td>\n",
              "      <td>0.881259</td>\n",
              "      <td>4</td>\n",
              "    </tr>\n",
              "    <tr>\n",
              "      <th>5</th>\n",
              "      <td>0.02</td>\n",
              "      <td>squared_hinge</td>\n",
              "      <td>0.881037</td>\n",
              "      <td>5</td>\n",
              "    </tr>\n",
              "    <tr>\n",
              "      <th>0</th>\n",
              "      <td>0.05</td>\n",
              "      <td>hinge</td>\n",
              "      <td>0.880444</td>\n",
              "      <td>6</td>\n",
              "    </tr>\n",
              "    <tr>\n",
              "      <th>7</th>\n",
              "      <td>0.04</td>\n",
              "      <td>squared_hinge</td>\n",
              "      <td>0.877111</td>\n",
              "      <td>7</td>\n",
              "    </tr>\n",
              "    <tr>\n",
              "      <th>8</th>\n",
              "      <td>0.08</td>\n",
              "      <td>hinge</td>\n",
              "      <td>0.877012</td>\n",
              "      <td>8</td>\n",
              "    </tr>\n",
              "    <tr>\n",
              "      <th>1</th>\n",
              "      <td>0.05</td>\n",
              "      <td>squared_hinge</td>\n",
              "      <td>0.874914</td>\n",
              "      <td>9</td>\n",
              "    </tr>\n",
              "    <tr>\n",
              "      <th>10</th>\n",
              "      <td>0.16</td>\n",
              "      <td>hinge</td>\n",
              "      <td>0.870420</td>\n",
              "      <td>10</td>\n",
              "    </tr>\n",
              "    <tr>\n",
              "      <th>9</th>\n",
              "      <td>0.08</td>\n",
              "      <td>squared_hinge</td>\n",
              "      <td>0.870395</td>\n",
              "      <td>11</td>\n",
              "    </tr>\n",
              "    <tr>\n",
              "      <th>11</th>\n",
              "      <td>0.16</td>\n",
              "      <td>squared_hinge</td>\n",
              "      <td>0.864296</td>\n",
              "      <td>12</td>\n",
              "    </tr>\n",
              "    <tr>\n",
              "      <th>12</th>\n",
              "      <td>0.32</td>\n",
              "      <td>hinge</td>\n",
              "      <td>0.861852</td>\n",
              "      <td>13</td>\n",
              "    </tr>\n",
              "    <tr>\n",
              "      <th>13</th>\n",
              "      <td>0.32</td>\n",
              "      <td>squared_hinge</td>\n",
              "      <td>0.856988</td>\n",
              "      <td>14</td>\n",
              "    </tr>\n",
              "    <tr>\n",
              "      <th>14</th>\n",
              "      <td>0.64</td>\n",
              "      <td>hinge</td>\n",
              "      <td>0.853358</td>\n",
              "      <td>15</td>\n",
              "    </tr>\n",
              "    <tr>\n",
              "      <th>15</th>\n",
              "      <td>0.64</td>\n",
              "      <td>squared_hinge</td>\n",
              "      <td>0.849704</td>\n",
              "      <td>16</td>\n",
              "    </tr>\n",
              "    <tr>\n",
              "      <th>16</th>\n",
              "      <td>1.28</td>\n",
              "      <td>hinge</td>\n",
              "      <td>0.846568</td>\n",
              "      <td>17</td>\n",
              "    </tr>\n",
              "    <tr>\n",
              "      <th>17</th>\n",
              "      <td>1.28</td>\n",
              "      <td>squared_hinge</td>\n",
              "      <td>0.845556</td>\n",
              "      <td>18</td>\n",
              "    </tr>\n",
              "  </tbody>\n",
              "</table>\n",
              "</div>"
            ],
            "text/plain": [
              "   param_C     param_loss  mean_test_score  rank_test_score\n",
              "3     0.01  squared_hinge         0.882889                1\n",
              "4     0.02          hinge         0.882198                2\n",
              "2     0.01          hinge         0.881506                3\n",
              "6     0.04          hinge         0.881259                4\n",
              "5     0.02  squared_hinge         0.881037                5\n",
              "0     0.05          hinge         0.880444                6\n",
              "7     0.04  squared_hinge         0.877111                7\n",
              "8     0.08          hinge         0.877012                8\n",
              "1     0.05  squared_hinge         0.874914                9\n",
              "10    0.16          hinge         0.870420               10\n",
              "9     0.08  squared_hinge         0.870395               11\n",
              "11    0.16  squared_hinge         0.864296               12\n",
              "12    0.32          hinge         0.861852               13\n",
              "13    0.32  squared_hinge         0.856988               14\n",
              "14    0.64          hinge         0.853358               15\n",
              "15    0.64  squared_hinge         0.849704               16\n",
              "16    1.28          hinge         0.846568               17\n",
              "17    1.28  squared_hinge         0.845556               18"
            ]
          },
          "metadata": {
            "tags": []
          },
          "execution_count": 18
        }
      ]
    },
    {
      "cell_type": "code",
      "metadata": {
        "colab": {
          "base_uri": "https://localhost:8080/"
        },
        "id": "6NGOq21UCjw6",
        "outputId": "2d24fedb-9b65-4a4b-cc15-b5d0edd1762d"
      },
      "source": [
        "grid_predictions = grid_bow_svm.predict(X_train)\n",
        "analysis(y_train, grid_predictions)"
      ],
      "execution_count": null,
      "outputs": [
        {
          "output_type": "stream",
          "text": [
            "Classification Report : \n",
            "               precision    recall  f1-score   support\n",
            "\n",
            "    negative       0.95      0.95      0.95     20274\n",
            "    positive       0.95      0.95      0.95     20226\n",
            "\n",
            "    accuracy                           0.95     40500\n",
            "   macro avg       0.95      0.95      0.95     40500\n",
            "weighted avg       0.95      0.95      0.95     40500\n",
            "\n",
            "Confusion Matrix : \n",
            " [[19164  1110]\n",
            " [  923 19303]]\n",
            "Accuracy : \n",
            " 0.9498024691358025\n",
            "F1 : \n",
            " 0.9499741627500677\n"
          ],
          "name": "stdout"
        }
      ]
    },
    {
      "cell_type": "code",
      "metadata": {
        "colab": {
          "base_uri": "https://localhost:8080/"
        },
        "id": "P6vbBa6TCjw6",
        "outputId": "b49b2af5-05f6-4fef-dbfa-7394c8834e57"
      },
      "source": [
        "grid_predictions = grid_bow_svm.predict(X_test)\n",
        "analysis(y_test, grid_predictions)"
      ],
      "execution_count": null,
      "outputs": [
        {
          "output_type": "stream",
          "text": [
            "Classification Report : \n",
            "               precision    recall  f1-score   support\n",
            "\n",
            "    negative       0.90      0.87      0.89      2225\n",
            "    positive       0.88      0.90      0.89      2275\n",
            "\n",
            "    accuracy                           0.89      4500\n",
            "   macro avg       0.89      0.89      0.89      4500\n",
            "weighted avg       0.89      0.89      0.89      4500\n",
            "\n",
            "Confusion Matrix : \n",
            " [[1946  279]\n",
            " [ 219 2056]]\n",
            "Accuracy : \n",
            " 0.8893333333333333\n",
            "F1 : \n",
            " 0.8919739696312363\n"
          ],
          "name": "stdout"
        }
      ]
    },
    {
      "cell_type": "markdown",
      "metadata": {
        "id": "vt0_BGajqX4M"
      },
      "source": [
        "## ***Word2Vec***"
      ]
    },
    {
      "cell_type": "code",
      "metadata": {
        "id": "gfesYW4Agkmt"
      },
      "source": [
        "preprocessor = Preprocessor(PreprocessorType.ADVANCED_PREPROCESSING)\n",
        "current_df = all_df.copy()\n",
        "current_df[\"comment\"] = preprocessor.process(current_df[\"comment\"], without_stem_lemma=True)"
      ],
      "execution_count": null,
      "outputs": []
    },
    {
      "cell_type": "code",
      "metadata": {
        "colab": {
          "base_uri": "https://localhost:8080/",
          "height": 202
        },
        "id": "yo4XvK7DgknV",
        "outputId": "e04e2fd9-39f8-4a49-8ef3-48418d89f96b"
      },
      "source": [
        "current_df.head()"
      ],
      "execution_count": null,
      "outputs": [
        {
          "output_type": "execute_result",
          "data": {
            "text/html": [
              "<div>\n",
              "<style scoped>\n",
              "    .dataframe tbody tr th:only-of-type {\n",
              "        vertical-align: middle;\n",
              "    }\n",
              "\n",
              "    .dataframe tbody tr th {\n",
              "        vertical-align: top;\n",
              "    }\n",
              "\n",
              "    .dataframe thead th {\n",
              "        text-align: right;\n",
              "    }\n",
              "</style>\n",
              "<table border=\"1\" class=\"dataframe\">\n",
              "  <thead>\n",
              "    <tr style=\"text-align: right;\">\n",
              "      <th></th>\n",
              "      <th>comment</th>\n",
              "      <th>sentiment</th>\n",
              "    </tr>\n",
              "  </thead>\n",
              "  <tbody>\n",
              "    <tr>\n",
              "      <th>0</th>\n",
              "      <td>oh god get worse always love silly little scif...</td>\n",
              "      <td>0</td>\n",
              "    </tr>\n",
              "    <tr>\n",
              "      <th>1</th>\n",
              "      <td>layman interested quantum theory string theory...</td>\n",
              "      <td>0</td>\n",
              "    </tr>\n",
              "    <tr>\n",
              "      <th>2</th>\n",
              "      <td>amazing talent actor chapa got well known star...</td>\n",
              "      <td>0</td>\n",
              "    </tr>\n",
              "    <tr>\n",
              "      <th>3</th>\n",
              "      <td>must one overrated spanish films history lack ...</td>\n",
              "      <td>0</td>\n",
              "    </tr>\n",
              "    <tr>\n",
              "      <th>4</th>\n",
              "      <td>critics compared chop shop theatrical releases...</td>\n",
              "      <td>1</td>\n",
              "    </tr>\n",
              "  </tbody>\n",
              "</table>\n",
              "</div>"
            ],
            "text/plain": [
              "                                             comment  sentiment\n",
              "0  oh god get worse always love silly little scif...          0\n",
              "1  layman interested quantum theory string theory...          0\n",
              "2  amazing talent actor chapa got well known star...          0\n",
              "3  must one overrated spanish films history lack ...          0\n",
              "4  critics compared chop shop theatrical releases...          1"
            ]
          },
          "metadata": {
            "tags": []
          },
          "execution_count": 43
        }
      ]
    },
    {
      "cell_type": "code",
      "metadata": {
        "id": "b_n4r6ySmOPG"
      },
      "source": [
        "w2v_model = KeyedVectors.load_word2vec_format(config[\"word2vec_path\"], binary=True)"
      ],
      "execution_count": null,
      "outputs": []
    },
    {
      "cell_type": "code",
      "metadata": {
        "id": "FKYyttIIqZEO"
      },
      "source": [
        "def sentence_2_vector(sentence):\n",
        "    vec = np.zeros((300))\n",
        "    count = 0\n",
        "    for item in sentence.split(\" \"):\n",
        "        if item in w2v_model.vocab:\n",
        "            vec = vec + w2v_model.word_vec(item)\n",
        "            count += 1\n",
        "    vec = vec / count\n",
        "    return vec"
      ],
      "execution_count": null,
      "outputs": []
    },
    {
      "cell_type": "code",
      "metadata": {
        "id": "xv4L6Hvdw8ZM"
      },
      "source": [
        "vectors = np.vstack(current_df[\"comment\"].apply(lambda x : sentence_2_vector(x)).to_numpy())\n",
        "\n",
        "w2v_df = current_df.copy()\n",
        "\n",
        "del w2v_df[\"comment\"]\n",
        "\n",
        "for i in range(300):\n",
        "    w2v_df[f\"W{i+1}\"] = vectors[:,i]"
      ],
      "execution_count": null,
      "outputs": []
    },
    {
      "cell_type": "code",
      "metadata": {
        "id": "CHCHq3MCxrwd"
      },
      "source": [
        "train_df , test_df = train_test_split(w2v_df, test_size=0.1, random_state=42)\n",
        "# valid_df , test_df = train_test_split(test_df, test_size=0.5, random_state=42)\n",
        "\n",
        "X_train = train_df.drop(\"sentiment\", axis=1)\n",
        "y_train = train_df[\"sentiment\"].tolist()\n",
        "X_test = test_df.drop(\"sentiment\", axis=1)\n",
        "y_test = test_df[\"sentiment\"].tolist()"
      ],
      "execution_count": null,
      "outputs": []
    },
    {
      "cell_type": "code",
      "metadata": {
        "id": "3VwGA4UMWP2R"
      },
      "source": [
        "settings = {\n",
        "    Model.LOGISTIC_REGRESSION : {\n",
        "        \"C\" : [0.64, 1.28, 2.56, 5.12, 10.24, 20.48, 40.96]\n",
        "    },\n",
        "    Model.KNN : {\n",
        "        \"n_neighbors\" : [20, 40, 60, 80, 100, 200],\n",
        "        \"weights\" : [\"uniform\", \"distance\"],\n",
        "    },\n",
        "    Model.SVM : {\n",
        "        \"loss\" : [\"hinge\", \"squared_hinge\"],\n",
        "        \"C\" : [0.64, 1.28, 2.56, 5.12, 10.24, 20.48, 40.96]\n",
        "    }\n",
        "}"
      ],
      "execution_count": null,
      "outputs": []
    },
    {
      "cell_type": "markdown",
      "metadata": {
        "id": "S8GCdkoghBE3"
      },
      "source": [
        "### ***Logistic Regression***"
      ]
    },
    {
      "cell_type": "code",
      "metadata": {
        "colab": {
          "base_uri": "https://localhost:8080/"
        },
        "id": "hzdt0eP_hBE4",
        "outputId": "95de71b8-0b20-4a25-e81b-a182ef49f648"
      },
      "source": [
        "grid_w2v_lr = GridSearchCV(LogisticRegression(max_iter=2000),settings[Model.LOGISTIC_REGRESSION],scoring='accuracy',n_jobs=-1, verbose=3)\n",
        "grid_w2v_lr.fit(X_train, y_train)"
      ],
      "execution_count": null,
      "outputs": [
        {
          "output_type": "stream",
          "text": [
            "Fitting 5 folds for each of 7 candidates, totalling 35 fits\n"
          ],
          "name": "stdout"
        },
        {
          "output_type": "stream",
          "text": [
            "[Parallel(n_jobs=-1)]: Using backend LokyBackend with 4 concurrent workers.\n",
            "[Parallel(n_jobs=-1)]: Done  24 tasks      | elapsed:   46.7s\n",
            "[Parallel(n_jobs=-1)]: Done  35 out of  35 | elapsed:  1.3min finished\n"
          ],
          "name": "stderr"
        },
        {
          "output_type": "execute_result",
          "data": {
            "text/plain": [
              "GridSearchCV(cv=None, error_score=nan,\n",
              "             estimator=LogisticRegression(C=1.0, class_weight=None, dual=False,\n",
              "                                          fit_intercept=True,\n",
              "                                          intercept_scaling=1, l1_ratio=None,\n",
              "                                          max_iter=2000, multi_class='auto',\n",
              "                                          n_jobs=None, penalty='l2',\n",
              "                                          random_state=None, solver='lbfgs',\n",
              "                                          tol=0.0001, verbose=0,\n",
              "                                          warm_start=False),\n",
              "             iid='deprecated', n_jobs=-1,\n",
              "             param_grid={'C': [0.64, 1.28, 2.56, 5.12, 10.24, 20.48, 40.96]},\n",
              "             pre_dispatch='2*n_jobs', refit=True, return_train_score=False,\n",
              "             scoring='accuracy', verbose=3)"
            ]
          },
          "metadata": {
            "tags": []
          },
          "execution_count": 49
        }
      ]
    },
    {
      "cell_type": "code",
      "metadata": {
        "colab": {
          "base_uri": "https://localhost:8080/"
        },
        "id": "mdcs2S_RhBE4",
        "outputId": "6945f382-7934-4fa5-8399-13a28c5436d1"
      },
      "source": [
        "show_grid_res(grid_w2v_lr)"
      ],
      "execution_count": null,
      "outputs": [
        {
          "output_type": "execute_result",
          "data": {
            "text/html": [
              "<div>\n",
              "<style scoped>\n",
              "    .dataframe tbody tr th:only-of-type {\n",
              "        vertical-align: middle;\n",
              "    }\n",
              "\n",
              "    .dataframe tbody tr th {\n",
              "        vertical-align: top;\n",
              "    }\n",
              "\n",
              "    .dataframe thead th {\n",
              "        text-align: right;\n",
              "    }\n",
              "</style>\n",
              "<table border=\"1\" class=\"dataframe\">\n",
              "  <thead>\n",
              "    <tr style=\"text-align: right;\">\n",
              "      <th></th>\n",
              "      <th>param_C</th>\n",
              "      <th>mean_test_score</th>\n",
              "      <th>rank_test_score</th>\n",
              "    </tr>\n",
              "  </thead>\n",
              "  <tbody>\n",
              "    <tr>\n",
              "      <th>6</th>\n",
              "      <td>40.96</td>\n",
              "      <td>0.858222</td>\n",
              "      <td>1</td>\n",
              "    </tr>\n",
              "    <tr>\n",
              "      <th>5</th>\n",
              "      <td>20.48</td>\n",
              "      <td>0.857926</td>\n",
              "      <td>2</td>\n",
              "    </tr>\n",
              "    <tr>\n",
              "      <th>4</th>\n",
              "      <td>10.24</td>\n",
              "      <td>0.857852</td>\n",
              "      <td>3</td>\n",
              "    </tr>\n",
              "    <tr>\n",
              "      <th>3</th>\n",
              "      <td>5.12</td>\n",
              "      <td>0.857333</td>\n",
              "      <td>4</td>\n",
              "    </tr>\n",
              "    <tr>\n",
              "      <th>2</th>\n",
              "      <td>2.56</td>\n",
              "      <td>0.856370</td>\n",
              "      <td>5</td>\n",
              "    </tr>\n",
              "    <tr>\n",
              "      <th>1</th>\n",
              "      <td>1.28</td>\n",
              "      <td>0.854963</td>\n",
              "      <td>6</td>\n",
              "    </tr>\n",
              "    <tr>\n",
              "      <th>0</th>\n",
              "      <td>0.64</td>\n",
              "      <td>0.852123</td>\n",
              "      <td>7</td>\n",
              "    </tr>\n",
              "  </tbody>\n",
              "</table>\n",
              "</div>"
            ],
            "text/plain": [
              "  param_C  mean_test_score  rank_test_score\n",
              "6   40.96         0.858222                1\n",
              "5   20.48         0.857926                2\n",
              "4   10.24         0.857852                3\n",
              "3    5.12         0.857333                4\n",
              "2    2.56         0.856370                5\n",
              "1    1.28         0.854963                6\n",
              "0    0.64         0.852123                7"
            ]
          },
          "metadata": {
            "tags": []
          },
          "execution_count": 50
        }
      ]
    },
    {
      "cell_type": "code",
      "metadata": {
        "colab": {
          "base_uri": "https://localhost:8080/"
        },
        "id": "6H5PiWYLhBE5",
        "outputId": "f6eea89f-b988-4b61-aa07-909bddb5d9c5"
      },
      "source": [
        "grid_predictions = grid_w2v_lr.predict(X_train)\n",
        "analysis(y_train, grid_predictions)"
      ],
      "execution_count": null,
      "outputs": [
        {
          "output_type": "stream",
          "text": [
            "Classification Report : \n",
            "               precision    recall  f1-score   support\n",
            "\n",
            "    negative       0.86      0.86      0.86     20274\n",
            "    positive       0.86      0.87      0.86     20226\n",
            "\n",
            "    accuracy                           0.86     40500\n",
            "   macro avg       0.86      0.86      0.86     40500\n",
            "weighted avg       0.86      0.86      0.86     40500\n",
            "\n",
            "Confusion Matrix : \n",
            " [[17436  2838]\n",
            " [ 2726 17500]]\n",
            "Accuracy : \n",
            " 0.8626172839506173\n",
            "F1 : \n",
            " 0.8628340400354994\n"
          ],
          "name": "stdout"
        }
      ]
    },
    {
      "cell_type": "code",
      "metadata": {
        "colab": {
          "base_uri": "https://localhost:8080/"
        },
        "id": "OmKZ-P9XhBE5",
        "outputId": "c28abe0f-2abb-4b37-c6d0-210bdf35c7e7"
      },
      "source": [
        "grid_predictions = grid_w2v_lr.predict(X_test)\n",
        "analysis(y_test, grid_predictions)"
      ],
      "execution_count": null,
      "outputs": [
        {
          "output_type": "stream",
          "text": [
            "Classification Report : \n",
            "               precision    recall  f1-score   support\n",
            "\n",
            "    negative       0.86      0.86      0.86      2225\n",
            "    positive       0.86      0.86      0.86      2275\n",
            "\n",
            "    accuracy                           0.86      4500\n",
            "   macro avg       0.86      0.86      0.86      4500\n",
            "weighted avg       0.86      0.86      0.86      4500\n",
            "\n",
            "Confusion Matrix : \n",
            " [[1907  318]\n",
            " [ 313 1962]]\n",
            "Accuracy : \n",
            " 0.8597777777777778\n",
            "F1 : \n",
            " 0.8614709110867179\n"
          ],
          "name": "stdout"
        }
      ]
    },
    {
      "cell_type": "markdown",
      "metadata": {
        "id": "jVT_wEvAhBE5"
      },
      "source": [
        "### ***KNN***"
      ]
    },
    {
      "cell_type": "code",
      "metadata": {
        "colab": {
          "base_uri": "https://localhost:8080/"
        },
        "id": "32DXSli8hBE6",
        "outputId": "81e3e4b5-0ffc-4800-fbcb-2c543258303e"
      },
      "source": [
        "grid_w2v_knn = GridSearchCV(KNeighborsClassifier(),settings[Model.KNN],scoring='accuracy',n_jobs=-1, verbose=3)\n",
        "grid_w2v_knn.fit(X_train, y_train)"
      ],
      "execution_count": null,
      "outputs": [
        {
          "output_type": "stream",
          "text": [
            "Fitting 5 folds for each of 12 candidates, totalling 60 fits\n"
          ],
          "name": "stdout"
        },
        {
          "output_type": "stream",
          "text": [
            "[Parallel(n_jobs=-1)]: Using backend LokyBackend with 4 concurrent workers.\n",
            "[Parallel(n_jobs=-1)]: Done  24 tasks      | elapsed: 36.5min\n",
            "[Parallel(n_jobs=-1)]: Done  60 out of  60 | elapsed: 89.0min finished\n"
          ],
          "name": "stderr"
        },
        {
          "output_type": "execute_result",
          "data": {
            "text/plain": [
              "GridSearchCV(cv=None, error_score=nan,\n",
              "             estimator=KNeighborsClassifier(algorithm='auto', leaf_size=30,\n",
              "                                            metric='minkowski',\n",
              "                                            metric_params=None, n_jobs=None,\n",
              "                                            n_neighbors=5, p=2,\n",
              "                                            weights='uniform'),\n",
              "             iid='deprecated', n_jobs=-1,\n",
              "             param_grid={'n_neighbors': [20, 40, 60, 80, 100, 200],\n",
              "                         'weights': ['uniform', 'distance']},\n",
              "             pre_dispatch='2*n_jobs', refit=True, return_train_score=False,\n",
              "             scoring='accuracy', verbose=3)"
            ]
          },
          "metadata": {
            "tags": []
          },
          "execution_count": 53
        }
      ]
    },
    {
      "cell_type": "code",
      "metadata": {
        "colab": {
          "base_uri": "https://localhost:8080/"
        },
        "id": "PaGbWhhMhBE6",
        "outputId": "2ebf2a90-ffb9-49be-ea08-8afe6c4cfe47"
      },
      "source": [
        "show_grid_res(grid_w2v_knn)"
      ],
      "execution_count": null,
      "outputs": [
        {
          "output_type": "execute_result",
          "data": {
            "text/html": [
              "<div>\n",
              "<style scoped>\n",
              "    .dataframe tbody tr th:only-of-type {\n",
              "        vertical-align: middle;\n",
              "    }\n",
              "\n",
              "    .dataframe tbody tr th {\n",
              "        vertical-align: top;\n",
              "    }\n",
              "\n",
              "    .dataframe thead th {\n",
              "        text-align: right;\n",
              "    }\n",
              "</style>\n",
              "<table border=\"1\" class=\"dataframe\">\n",
              "  <thead>\n",
              "    <tr style=\"text-align: right;\">\n",
              "      <th></th>\n",
              "      <th>param_n_neighbors</th>\n",
              "      <th>param_weights</th>\n",
              "      <th>mean_test_score</th>\n",
              "      <th>rank_test_score</th>\n",
              "    </tr>\n",
              "  </thead>\n",
              "  <tbody>\n",
              "    <tr>\n",
              "      <th>1</th>\n",
              "      <td>20</td>\n",
              "      <td>distance</td>\n",
              "      <td>0.807062</td>\n",
              "      <td>1</td>\n",
              "    </tr>\n",
              "    <tr>\n",
              "      <th>3</th>\n",
              "      <td>40</td>\n",
              "      <td>distance</td>\n",
              "      <td>0.806938</td>\n",
              "      <td>2</td>\n",
              "    </tr>\n",
              "    <tr>\n",
              "      <th>5</th>\n",
              "      <td>60</td>\n",
              "      <td>distance</td>\n",
              "      <td>0.806247</td>\n",
              "      <td>3</td>\n",
              "    </tr>\n",
              "    <tr>\n",
              "      <th>7</th>\n",
              "      <td>80</td>\n",
              "      <td>distance</td>\n",
              "      <td>0.804543</td>\n",
              "      <td>4</td>\n",
              "    </tr>\n",
              "    <tr>\n",
              "      <th>9</th>\n",
              "      <td>100</td>\n",
              "      <td>distance</td>\n",
              "      <td>0.803062</td>\n",
              "      <td>5</td>\n",
              "    </tr>\n",
              "    <tr>\n",
              "      <th>2</th>\n",
              "      <td>40</td>\n",
              "      <td>uniform</td>\n",
              "      <td>0.801580</td>\n",
              "      <td>6</td>\n",
              "    </tr>\n",
              "    <tr>\n",
              "      <th>4</th>\n",
              "      <td>60</td>\n",
              "      <td>uniform</td>\n",
              "      <td>0.800840</td>\n",
              "      <td>7</td>\n",
              "    </tr>\n",
              "    <tr>\n",
              "      <th>6</th>\n",
              "      <td>80</td>\n",
              "      <td>uniform</td>\n",
              "      <td>0.799235</td>\n",
              "      <td>8</td>\n",
              "    </tr>\n",
              "    <tr>\n",
              "      <th>0</th>\n",
              "      <td>20</td>\n",
              "      <td>uniform</td>\n",
              "      <td>0.799062</td>\n",
              "      <td>9</td>\n",
              "    </tr>\n",
              "    <tr>\n",
              "      <th>8</th>\n",
              "      <td>100</td>\n",
              "      <td>uniform</td>\n",
              "      <td>0.797901</td>\n",
              "      <td>10</td>\n",
              "    </tr>\n",
              "    <tr>\n",
              "      <th>11</th>\n",
              "      <td>200</td>\n",
              "      <td>distance</td>\n",
              "      <td>0.796938</td>\n",
              "      <td>11</td>\n",
              "    </tr>\n",
              "    <tr>\n",
              "      <th>10</th>\n",
              "      <td>200</td>\n",
              "      <td>uniform</td>\n",
              "      <td>0.793160</td>\n",
              "      <td>12</td>\n",
              "    </tr>\n",
              "  </tbody>\n",
              "</table>\n",
              "</div>"
            ],
            "text/plain": [
              "   param_n_neighbors param_weights  mean_test_score  rank_test_score\n",
              "1                 20      distance         0.807062                1\n",
              "3                 40      distance         0.806938                2\n",
              "5                 60      distance         0.806247                3\n",
              "7                 80      distance         0.804543                4\n",
              "9                100      distance         0.803062                5\n",
              "2                 40       uniform         0.801580                6\n",
              "4                 60       uniform         0.800840                7\n",
              "6                 80       uniform         0.799235                8\n",
              "0                 20       uniform         0.799062                9\n",
              "8                100       uniform         0.797901               10\n",
              "11               200      distance         0.796938               11\n",
              "10               200       uniform         0.793160               12"
            ]
          },
          "metadata": {
            "tags": []
          },
          "execution_count": 54
        }
      ]
    },
    {
      "cell_type": "code",
      "metadata": {
        "id": "7DZC05NmhBE7",
        "colab": {
          "base_uri": "https://localhost:8080/"
        },
        "outputId": "2ea8fdf7-6d24-4721-eb01-1bd0cc1b335e"
      },
      "source": [
        "grid_predictions = grid_w2v_knn.predict(X_train)\n",
        "analysis(y_train, grid_predictions)"
      ],
      "execution_count": null,
      "outputs": [
        {
          "output_type": "stream",
          "text": [
            "Classification Report : \n",
            "               precision    recall  f1-score   support\n",
            "\n",
            "    negative       1.00      1.00      1.00     20274\n",
            "    positive       1.00      1.00      1.00     20226\n",
            "\n",
            "    accuracy                           1.00     40500\n",
            "   macro avg       1.00      1.00      1.00     40500\n",
            "weighted avg       1.00      1.00      1.00     40500\n",
            "\n",
            "Confusion Matrix : \n",
            " [[20274     0]\n",
            " [    0 20226]]\n",
            "Accuracy : \n",
            " 1.0\n",
            "F1 : \n",
            " 1.0\n"
          ],
          "name": "stdout"
        }
      ]
    },
    {
      "cell_type": "code",
      "metadata": {
        "id": "EQPxyZOyhBE8",
        "colab": {
          "base_uri": "https://localhost:8080/"
        },
        "outputId": "3e68e265-0911-4730-9faa-f1b050b4d5c3"
      },
      "source": [
        "grid_predictions = grid_w2v_knn.predict(X_test)\n",
        "analysis(y_test, grid_predictions)"
      ],
      "execution_count": null,
      "outputs": [
        {
          "output_type": "stream",
          "text": [
            "Classification Report : \n",
            "               precision    recall  f1-score   support\n",
            "\n",
            "    negative       0.79      0.83      0.81      2225\n",
            "    positive       0.83      0.78      0.80      2275\n",
            "\n",
            "    accuracy                           0.81      4500\n",
            "   macro avg       0.81      0.81      0.81      4500\n",
            "weighted avg       0.81      0.81      0.81      4500\n",
            "\n",
            "Confusion Matrix : \n",
            " [[1851  374]\n",
            " [ 492 1783]]\n",
            "Accuracy : \n",
            " 0.8075555555555556\n",
            "F1 : \n",
            " 0.8046028880866427\n"
          ],
          "name": "stdout"
        }
      ]
    },
    {
      "cell_type": "markdown",
      "metadata": {
        "id": "ob4y8_lxhBE8"
      },
      "source": [
        "### ***SVM***"
      ]
    },
    {
      "cell_type": "code",
      "metadata": {
        "id": "bDx-XBIxhBE9",
        "colab": {
          "base_uri": "https://localhost:8080/"
        },
        "outputId": "32bb25a0-a435-42ec-ae36-2084bb4f9923"
      },
      "source": [
        "grid_w2v_svm = GridSearchCV(LinearSVC(max_iter=5000),settings[Model.SVM],scoring='accuracy',n_jobs=-1, verbose=3)\n",
        "grid_w2v_svm.fit(X_train, y_train)"
      ],
      "execution_count": null,
      "outputs": [
        {
          "output_type": "stream",
          "text": [
            "Fitting 5 folds for each of 14 candidates, totalling 70 fits\n"
          ],
          "name": "stdout"
        },
        {
          "output_type": "stream",
          "text": [
            "[Parallel(n_jobs=-1)]: Using backend LokyBackend with 4 concurrent workers.\n",
            "[Parallel(n_jobs=-1)]: Done  24 tasks      | elapsed:   27.9s\n",
            "[Parallel(n_jobs=-1)]: Done  70 out of  70 | elapsed: 10.1min finished\n"
          ],
          "name": "stderr"
        },
        {
          "output_type": "execute_result",
          "data": {
            "text/plain": [
              "GridSearchCV(cv=None, error_score=nan,\n",
              "             estimator=LinearSVC(C=1.0, class_weight=None, dual=True,\n",
              "                                 fit_intercept=True, intercept_scaling=1,\n",
              "                                 loss='squared_hinge', max_iter=5000,\n",
              "                                 multi_class='ovr', penalty='l2',\n",
              "                                 random_state=None, tol=0.0001, verbose=0),\n",
              "             iid='deprecated', n_jobs=-1,\n",
              "             param_grid={'C': [0.64, 1.28, 2.56, 5.12, 10.24, 20.48, 40.96],\n",
              "                         'loss': ['hinge', 'squared_hinge']},\n",
              "             pre_dispatch='2*n_jobs', refit=True, return_train_score=False,\n",
              "             scoring='accuracy', verbose=3)"
            ]
          },
          "metadata": {
            "tags": []
          },
          "execution_count": 57
        }
      ]
    },
    {
      "cell_type": "code",
      "metadata": {
        "id": "Emnm6JVxhBE-",
        "colab": {
          "base_uri": "https://localhost:8080/"
        },
        "outputId": "6edda435-dfb3-4849-caa0-858816734497"
      },
      "source": [
        "show_grid_res(grid_w2v_svm)"
      ],
      "execution_count": null,
      "outputs": [
        {
          "output_type": "execute_result",
          "data": {
            "text/html": [
              "<div>\n",
              "<style scoped>\n",
              "    .dataframe tbody tr th:only-of-type {\n",
              "        vertical-align: middle;\n",
              "    }\n",
              "\n",
              "    .dataframe tbody tr th {\n",
              "        vertical-align: top;\n",
              "    }\n",
              "\n",
              "    .dataframe thead th {\n",
              "        text-align: right;\n",
              "    }\n",
              "</style>\n",
              "<table border=\"1\" class=\"dataframe\">\n",
              "  <thead>\n",
              "    <tr style=\"text-align: right;\">\n",
              "      <th></th>\n",
              "      <th>param_C</th>\n",
              "      <th>param_loss</th>\n",
              "      <th>mean_test_score</th>\n",
              "      <th>rank_test_score</th>\n",
              "    </tr>\n",
              "  </thead>\n",
              "  <tbody>\n",
              "    <tr>\n",
              "      <th>7</th>\n",
              "      <td>5.12</td>\n",
              "      <td>squared_hinge</td>\n",
              "      <td>0.858346</td>\n",
              "      <td>1</td>\n",
              "    </tr>\n",
              "    <tr>\n",
              "      <th>12</th>\n",
              "      <td>40.96</td>\n",
              "      <td>hinge</td>\n",
              "      <td>0.858272</td>\n",
              "      <td>2</td>\n",
              "    </tr>\n",
              "    <tr>\n",
              "      <th>9</th>\n",
              "      <td>10.24</td>\n",
              "      <td>squared_hinge</td>\n",
              "      <td>0.858247</td>\n",
              "      <td>3</td>\n",
              "    </tr>\n",
              "    <tr>\n",
              "      <th>13</th>\n",
              "      <td>40.96</td>\n",
              "      <td>squared_hinge</td>\n",
              "      <td>0.858148</td>\n",
              "      <td>4</td>\n",
              "    </tr>\n",
              "    <tr>\n",
              "      <th>10</th>\n",
              "      <td>20.48</td>\n",
              "      <td>hinge</td>\n",
              "      <td>0.858123</td>\n",
              "      <td>5</td>\n",
              "    </tr>\n",
              "    <tr>\n",
              "      <th>11</th>\n",
              "      <td>20.48</td>\n",
              "      <td>squared_hinge</td>\n",
              "      <td>0.858123</td>\n",
              "      <td>5</td>\n",
              "    </tr>\n",
              "    <tr>\n",
              "      <th>5</th>\n",
              "      <td>2.56</td>\n",
              "      <td>squared_hinge</td>\n",
              "      <td>0.858074</td>\n",
              "      <td>7</td>\n",
              "    </tr>\n",
              "    <tr>\n",
              "      <th>3</th>\n",
              "      <td>1.28</td>\n",
              "      <td>squared_hinge</td>\n",
              "      <td>0.857951</td>\n",
              "      <td>8</td>\n",
              "    </tr>\n",
              "    <tr>\n",
              "      <th>8</th>\n",
              "      <td>10.24</td>\n",
              "      <td>hinge</td>\n",
              "      <td>0.857901</td>\n",
              "      <td>9</td>\n",
              "    </tr>\n",
              "    <tr>\n",
              "      <th>1</th>\n",
              "      <td>0.64</td>\n",
              "      <td>squared_hinge</td>\n",
              "      <td>0.857877</td>\n",
              "      <td>10</td>\n",
              "    </tr>\n",
              "    <tr>\n",
              "      <th>6</th>\n",
              "      <td>5.12</td>\n",
              "      <td>hinge</td>\n",
              "      <td>0.857457</td>\n",
              "      <td>11</td>\n",
              "    </tr>\n",
              "    <tr>\n",
              "      <th>4</th>\n",
              "      <td>2.56</td>\n",
              "      <td>hinge</td>\n",
              "      <td>0.857210</td>\n",
              "      <td>12</td>\n",
              "    </tr>\n",
              "    <tr>\n",
              "      <th>2</th>\n",
              "      <td>1.28</td>\n",
              "      <td>hinge</td>\n",
              "      <td>0.856889</td>\n",
              "      <td>13</td>\n",
              "    </tr>\n",
              "    <tr>\n",
              "      <th>0</th>\n",
              "      <td>0.64</td>\n",
              "      <td>hinge</td>\n",
              "      <td>0.855778</td>\n",
              "      <td>14</td>\n",
              "    </tr>\n",
              "  </tbody>\n",
              "</table>\n",
              "</div>"
            ],
            "text/plain": [
              "   param_C     param_loss  mean_test_score  rank_test_score\n",
              "7     5.12  squared_hinge         0.858346                1\n",
              "12   40.96          hinge         0.858272                2\n",
              "9    10.24  squared_hinge         0.858247                3\n",
              "13   40.96  squared_hinge         0.858148                4\n",
              "10   20.48          hinge         0.858123                5\n",
              "11   20.48  squared_hinge         0.858123                5\n",
              "5     2.56  squared_hinge         0.858074                7\n",
              "3     1.28  squared_hinge         0.857951                8\n",
              "8    10.24          hinge         0.857901                9\n",
              "1     0.64  squared_hinge         0.857877               10\n",
              "6     5.12          hinge         0.857457               11\n",
              "4     2.56          hinge         0.857210               12\n",
              "2     1.28          hinge         0.856889               13\n",
              "0     0.64          hinge         0.855778               14"
            ]
          },
          "metadata": {
            "tags": []
          },
          "execution_count": 58
        }
      ]
    },
    {
      "cell_type": "code",
      "metadata": {
        "id": "dqBATMPmhBE_",
        "colab": {
          "base_uri": "https://localhost:8080/"
        },
        "outputId": "6338aa77-cefa-458d-9fef-bb88ef4482ab"
      },
      "source": [
        "grid_predictions = grid_w2v_svm.predict(X_train)\n",
        "analysis(y_train, grid_predictions)"
      ],
      "execution_count": null,
      "outputs": [
        {
          "output_type": "stream",
          "text": [
            "Classification Report : \n",
            "               precision    recall  f1-score   support\n",
            "\n",
            "    negative       0.87      0.86      0.86     20274\n",
            "    positive       0.86      0.87      0.86     20226\n",
            "\n",
            "    accuracy                           0.86     40500\n",
            "   macro avg       0.86      0.86      0.86     40500\n",
            "weighted avg       0.86      0.86      0.86     40500\n",
            "\n",
            "Confusion Matrix : \n",
            " [[17414  2860]\n",
            " [ 2712 17514]]\n",
            "Accuracy : \n",
            " 0.8624197530864197\n",
            "F1 : \n",
            " 0.8627586206896554\n"
          ],
          "name": "stdout"
        }
      ]
    },
    {
      "cell_type": "code",
      "metadata": {
        "id": "7cL_c_A3hBE_",
        "colab": {
          "base_uri": "https://localhost:8080/"
        },
        "outputId": "06d57ffb-dd5a-4c5e-d6aa-fa414ed6cab4"
      },
      "source": [
        "grid_predictions = grid_w2v_svm.predict(X_test)\n",
        "analysis(y_test, grid_predictions)"
      ],
      "execution_count": null,
      "outputs": [
        {
          "output_type": "stream",
          "text": [
            "Classification Report : \n",
            "               precision    recall  f1-score   support\n",
            "\n",
            "    negative       0.86      0.86      0.86      2225\n",
            "    positive       0.86      0.87      0.86      2275\n",
            "\n",
            "    accuracy                           0.86      4500\n",
            "   macro avg       0.86      0.86      0.86      4500\n",
            "weighted avg       0.86      0.86      0.86      4500\n",
            "\n",
            "Confusion Matrix : \n",
            " [[1903  322]\n",
            " [ 306 1969]]\n",
            "Accuracy : \n",
            " 0.8604444444444445\n",
            "F1 : \n",
            " 0.862461673236969\n"
          ],
          "name": "stdout"
        }
      ]
    },
    {
      "cell_type": "markdown",
      "metadata": {
        "id": "U4hnYtoVpmvz"
      },
      "source": [
        "## ***Save Best Model***"
      ]
    },
    {
      "cell_type": "code",
      "metadata": {
        "colab": {
          "base_uri": "https://localhost:8080/"
        },
        "id": "-tMWBnA6poZE",
        "outputId": "f23691da-ca0f-4780-a477-044a5687c38e"
      },
      "source": [
        "joblib.dump(grid_bow_lr.best_estimator_, config[\"model_save_path\"] + 'LR.pkl')\n",
        "joblib.dump(grid_w2v_knn.best_estimator_, config[\"model_save_path\"] + 'KNN.pkl')\n",
        "joblib.dump(grid_bow_svm.best_estimator_, config[\"model_save_path\"] + 'SVM.pkl')"
      ],
      "execution_count": null,
      "outputs": [
        {
          "output_type": "execute_result",
          "data": {
            "text/plain": [
              "['/content/gdrive/MyDrive/ML/SVM.pkl']"
            ]
          },
          "metadata": {
            "tags": []
          },
          "execution_count": 83
        }
      ]
    },
    {
      "cell_type": "markdown",
      "metadata": {
        "id": "V0Fhh6Gt33h1"
      },
      "source": [
        "# **3.3**"
      ]
    },
    {
      "cell_type": "code",
      "metadata": {
        "id": "_ZU6eQTc38jE"
      },
      "source": [
        "settings = {\n",
        "    Model.MLP : {\n",
        "        \"hidden_layer_sizes\" : [(450, 100, 50)]\n",
        "        # \"hidden_layer_sizes\" : [(100, 100), (100, 200, 50), (450, 100, 50), (400, 500, 400, 200, 100, 50)]\n",
        "    }\n",
        "}"
      ],
      "execution_count": null,
      "outputs": []
    },
    {
      "cell_type": "code",
      "metadata": {
        "id": "fgzPkvVZRlF5"
      },
      "source": [
        "preprocessor = Preprocessor(PreprocessorType.ADVANCED_PREPROCESSING)\n",
        "current_df = all_df.copy()\n",
        "current_df[\"comment\"] = preprocessor.process(current_df[\"comment\"])"
      ],
      "execution_count": null,
      "outputs": []
    },
    {
      "cell_type": "code",
      "metadata": {
        "id": "x1AO8oWjRnL4"
      },
      "source": [
        "train_df , test_df = train_test_split(current_df, test_size=0.1, random_state=42)\n",
        "\n",
        "vectorizer = CountVectorizer(lowercase=False, min_df=10, token_pattern=r\"[^\\s]+\")\n",
        "vectorizer.fit(train_df[\"comment\"].tolist())\n",
        "\n",
        "X_train = vectorizer.transform(train_df[\"comment\"])\n",
        "y_train = train_df[\"sentiment\"].tolist()\n",
        "X_test = vectorizer.transform(test_df[\"comment\"])\n",
        "y_test = test_df[\"sentiment\"].tolist()"
      ],
      "execution_count": null,
      "outputs": []
    },
    {
      "cell_type": "markdown",
      "metadata": {
        "id": "4r951DdHwT8H"
      },
      "source": [
        "### ***MLP***"
      ]
    },
    {
      "cell_type": "code",
      "metadata": {
        "colab": {
          "base_uri": "https://localhost:8080/"
        },
        "id": "iF-7XLJTwT8J",
        "outputId": "bedd4675-f899-42bf-ec92-8d103f178fca"
      },
      "source": [
        "grid_d2v_mlp = GridSearchCV(MLPClassifier(max_iter=2000),settings[Model.MLP],scoring='accuracy',n_jobs=-1, verbose=3)\n",
        "grid_d2v_mlp.fit(X_train, y_train)"
      ],
      "execution_count": null,
      "outputs": [
        {
          "output_type": "execute_result",
          "data": {
            "text/plain": [
              "MLPClassifier(activation='relu', alpha=0.0001, batch_size='auto', beta_1=0.9,\n",
              "              beta_2=0.999, early_stopping=False, epsilon=1e-08,\n",
              "              hidden_layer_sizes=(450, 100, 50), learning_rate='constant',\n",
              "              learning_rate_init=0.001, max_fun=15000, max_iter=2000,\n",
              "              momentum=0.9, n_iter_no_change=10, nesterovs_momentum=True,\n",
              "              power_t=0.5, random_state=None, shuffle=True, solver='adam',\n",
              "              tol=0.0001, validation_fraction=0.1, verbose=False,\n",
              "              warm_start=True)"
            ]
          },
          "metadata": {
            "tags": []
          },
          "execution_count": 22
        }
      ]
    },
    {
      "cell_type": "code",
      "metadata": {
        "colab": {
          "base_uri": "https://localhost:8080/",
          "height": 171
        },
        "id": "IrkjpQA3wT8L",
        "outputId": "b7d8314f-1fb4-402f-c4e6-5b8819855f36"
      },
      "source": [
        "show_grid_res(grid_d2v_mlp)"
      ],
      "execution_count": null,
      "outputs": [
        {
          "output_type": "execute_result",
          "data": {
            "text/html": [
              "<div>\n",
              "<style scoped>\n",
              "    .dataframe tbody tr th:only-of-type {\n",
              "        vertical-align: middle;\n",
              "    }\n",
              "\n",
              "    .dataframe tbody tr th {\n",
              "        vertical-align: top;\n",
              "    }\n",
              "\n",
              "    .dataframe thead th {\n",
              "        text-align: right;\n",
              "    }\n",
              "</style>\n",
              "<table border=\"1\" class=\"dataframe\">\n",
              "  <thead>\n",
              "    <tr style=\"text-align: right;\">\n",
              "      <th></th>\n",
              "      <th>param_hidden_layer_sizes</th>\n",
              "      <th>mean_test_score</th>\n",
              "      <th>rank_test_score</th>\n",
              "    </tr>\n",
              "  </thead>\n",
              "  <tbody>\n",
              "    <tr>\n",
              "      <th>2</th>\n",
              "      <td>(450, 100, 50)</td>\n",
              "      <td>0.875852</td>\n",
              "      <td>1</td>\n",
              "    </tr>\n",
              "    <tr>\n",
              "      <th>0</th>\n",
              "      <td>(100, 100)</td>\n",
              "      <td>0.874543</td>\n",
              "      <td>2</td>\n",
              "    </tr>\n",
              "    <tr>\n",
              "      <th>3</th>\n",
              "      <td>(400, 500, 400, 200, 100, 50)</td>\n",
              "      <td>0.874049</td>\n",
              "      <td>3</td>\n",
              "    </tr>\n",
              "    <tr>\n",
              "      <th>1</th>\n",
              "      <td>(100, 200, 50)</td>\n",
              "      <td>0.873259</td>\n",
              "      <td>4</td>\n",
              "    </tr>\n",
              "  </tbody>\n",
              "</table>\n",
              "</div>"
            ],
            "text/plain": [
              "        param_hidden_layer_sizes  mean_test_score  rank_test_score\n",
              "2                 (450, 100, 50)         0.875852                1\n",
              "0                     (100, 100)         0.874543                2\n",
              "3  (400, 500, 400, 200, 100, 50)         0.874049                3\n",
              "1                 (100, 200, 50)         0.873259                4"
            ]
          },
          "metadata": {
            "tags": []
          },
          "execution_count": 76
        }
      ]
    },
    {
      "cell_type": "code",
      "metadata": {
        "colab": {
          "base_uri": "https://localhost:8080/"
        },
        "id": "-VXLIW36wT8L",
        "outputId": "90d4c41c-9f5e-416b-dec2-7d762f4c735f"
      },
      "source": [
        "grid_predictions = grid_d2v_mlp.predict(X_train)\n",
        "analysis(y_train, grid_predictions)"
      ],
      "execution_count": null,
      "outputs": [
        {
          "output_type": "stream",
          "text": [
            "Classification Report : \n",
            "               precision    recall  f1-score   support\n",
            "\n",
            "    negative       1.00      1.00      1.00     20274\n",
            "    positive       1.00      1.00      1.00     20226\n",
            "\n",
            "    accuracy                           1.00     40500\n",
            "   macro avg       1.00      1.00      1.00     40500\n",
            "weighted avg       1.00      1.00      1.00     40500\n",
            "\n",
            "Confusion Matrix : \n",
            " [[20274     0]\n",
            " [    0 20226]]\n",
            "Accuracy : \n",
            " 1.0\n",
            "F1 : \n",
            " 1.0\n"
          ],
          "name": "stdout"
        }
      ]
    },
    {
      "cell_type": "code",
      "metadata": {
        "colab": {
          "base_uri": "https://localhost:8080/"
        },
        "id": "wf3_rrK8wT8M",
        "outputId": "1b013c53-1478-4497-c975-507c860d85d0"
      },
      "source": [
        "grid_predictions = grid_d2v_mlp.predict(X_test)\n",
        "analysis(y_test, grid_predictions)"
      ],
      "execution_count": null,
      "outputs": [
        {
          "output_type": "stream",
          "text": [
            "Classification Report : \n",
            "               precision    recall  f1-score   support\n",
            "\n",
            "    negative       0.89      0.87      0.88      2225\n",
            "    positive       0.88      0.89      0.88      2275\n",
            "\n",
            "    accuracy                           0.88      4500\n",
            "   macro avg       0.88      0.88      0.88      4500\n",
            "weighted avg       0.88      0.88      0.88      4500\n",
            "\n",
            "Confusion Matrix : \n",
            " [[1940  285]\n",
            " [ 252 2023]]\n",
            "Accuracy : \n",
            " 0.8806666666666667\n",
            "F1 : \n",
            " 0.8828278420248746\n"
          ],
          "name": "stdout"
        }
      ]
    },
    {
      "cell_type": "code",
      "metadata": {
        "colab": {
          "base_uri": "https://localhost:8080/"
        },
        "id": "-EGwTzQVyCbi",
        "outputId": "1211acff-ff38-4d95-b5da-c147c4b1aca3"
      },
      "source": [
        "joblib.dump(grid_d2v_mlp, config[\"model_save_path\"] + 'best.pkl')"
      ],
      "execution_count": null,
      "outputs": [
        {
          "output_type": "execute_result",
          "data": {
            "text/plain": [
              "['/content/gdrive/MyDrive/ML/best.pkl']"
            ]
          },
          "metadata": {
            "tags": []
          },
          "execution_count": 25
        }
      ]
    }
  ]
}